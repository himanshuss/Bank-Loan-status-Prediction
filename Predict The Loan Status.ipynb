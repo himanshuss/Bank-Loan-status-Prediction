{
 "cells": [
  {
   "cell_type": "markdown",
   "metadata": {},
   "source": [
    "#### Dataset Description\n",
    "Train.csv - 67463 rows x 35 columns (Includes target column as Loan Status) <br>\n",
    "Test.csv - 28913 rows x 34 columns(Includes target column as Loan Status) <br>\n",
    "Sample Submission.csv -  Please check the Evaluation section for more details on how to generate a valid submission. <br>\n"
   ]
  },
  {
   "cell_type": "code",
   "execution_count": 1,
   "metadata": {},
   "outputs": [],
   "source": [
    "from sklearn.datasets import load_iris\n",
    "from sklearn.model_selection import train_test_split\n",
    "from sklearn.preprocessing import StandardScaler\n",
    "from sklearn.decomposition import PCA\n",
    "from sklearn.pipeline import Pipeline\n",
    "from sklearn.linear_model import LogisticRegression\n",
    "from sklearn.tree import DecisionTreeClassifier\n",
    "from sklearn.ensemble import RandomForestClassifier"
   ]
  },
  {
   "cell_type": "code",
   "execution_count": 2,
   "metadata": {},
   "outputs": [],
   "source": [
    "# Suppressing Warnings\n",
    "import warnings\n",
    "warnings.filterwarnings('ignore')"
   ]
  },
  {
   "cell_type": "code",
   "execution_count": 3,
   "metadata": {},
   "outputs": [],
   "source": [
    "# Importing Pandas and NumPy\n",
    "import pandas as pd, numpy as np"
   ]
  },
  {
   "cell_type": "code",
   "execution_count": 4,
   "metadata": {},
   "outputs": [
    {
     "data": {
      "text/html": [
       "<div>\n",
       "<style scoped>\n",
       "    .dataframe tbody tr th:only-of-type {\n",
       "        vertical-align: middle;\n",
       "    }\n",
       "\n",
       "    .dataframe tbody tr th {\n",
       "        vertical-align: top;\n",
       "    }\n",
       "\n",
       "    .dataframe thead th {\n",
       "        text-align: right;\n",
       "    }\n",
       "</style>\n",
       "<table border=\"1\" class=\"dataframe\">\n",
       "  <thead>\n",
       "    <tr style=\"text-align: right;\">\n",
       "      <th></th>\n",
       "      <th>ID</th>\n",
       "      <th>Loan Amount</th>\n",
       "      <th>Funded Amount</th>\n",
       "      <th>Funded Amount Investor</th>\n",
       "      <th>Term</th>\n",
       "      <th>Batch Enrolled</th>\n",
       "      <th>Interest Rate</th>\n",
       "      <th>Grade</th>\n",
       "      <th>Sub Grade</th>\n",
       "      <th>Employment Duration</th>\n",
       "      <th>...</th>\n",
       "      <th>Recoveries</th>\n",
       "      <th>Collection Recovery Fee</th>\n",
       "      <th>Collection 12 months Medical</th>\n",
       "      <th>Application Type</th>\n",
       "      <th>Last week Pay</th>\n",
       "      <th>Accounts Delinquent</th>\n",
       "      <th>Total Collection Amount</th>\n",
       "      <th>Total Current Balance</th>\n",
       "      <th>Total Revolving Credit Limit</th>\n",
       "      <th>Loan Status</th>\n",
       "    </tr>\n",
       "  </thead>\n",
       "  <tbody>\n",
       "    <tr>\n",
       "      <th>0</th>\n",
       "      <td>65087372</td>\n",
       "      <td>10000</td>\n",
       "      <td>32236</td>\n",
       "      <td>12329.36286</td>\n",
       "      <td>59</td>\n",
       "      <td>BAT2522922</td>\n",
       "      <td>11.135007</td>\n",
       "      <td>B</td>\n",
       "      <td>C4</td>\n",
       "      <td>MORTGAGE</td>\n",
       "      <td>...</td>\n",
       "      <td>2.498291</td>\n",
       "      <td>0.793724</td>\n",
       "      <td>0</td>\n",
       "      <td>INDIVIDUAL</td>\n",
       "      <td>49</td>\n",
       "      <td>0</td>\n",
       "      <td>31</td>\n",
       "      <td>311301</td>\n",
       "      <td>6619</td>\n",
       "      <td>0</td>\n",
       "    </tr>\n",
       "    <tr>\n",
       "      <th>1</th>\n",
       "      <td>1450153</td>\n",
       "      <td>3609</td>\n",
       "      <td>11940</td>\n",
       "      <td>12191.99692</td>\n",
       "      <td>59</td>\n",
       "      <td>BAT1586599</td>\n",
       "      <td>12.237563</td>\n",
       "      <td>C</td>\n",
       "      <td>D3</td>\n",
       "      <td>RENT</td>\n",
       "      <td>...</td>\n",
       "      <td>2.377215</td>\n",
       "      <td>0.974821</td>\n",
       "      <td>0</td>\n",
       "      <td>INDIVIDUAL</td>\n",
       "      <td>109</td>\n",
       "      <td>0</td>\n",
       "      <td>53</td>\n",
       "      <td>182610</td>\n",
       "      <td>20885</td>\n",
       "      <td>0</td>\n",
       "    </tr>\n",
       "    <tr>\n",
       "      <th>2</th>\n",
       "      <td>1969101</td>\n",
       "      <td>28276</td>\n",
       "      <td>9311</td>\n",
       "      <td>21603.22455</td>\n",
       "      <td>59</td>\n",
       "      <td>BAT2136391</td>\n",
       "      <td>12.545884</td>\n",
       "      <td>F</td>\n",
       "      <td>D4</td>\n",
       "      <td>MORTGAGE</td>\n",
       "      <td>...</td>\n",
       "      <td>4.316277</td>\n",
       "      <td>1.020075</td>\n",
       "      <td>0</td>\n",
       "      <td>INDIVIDUAL</td>\n",
       "      <td>66</td>\n",
       "      <td>0</td>\n",
       "      <td>34</td>\n",
       "      <td>89801</td>\n",
       "      <td>26155</td>\n",
       "      <td>0</td>\n",
       "    </tr>\n",
       "    <tr>\n",
       "      <th>3</th>\n",
       "      <td>6651430</td>\n",
       "      <td>11170</td>\n",
       "      <td>6954</td>\n",
       "      <td>17877.15585</td>\n",
       "      <td>59</td>\n",
       "      <td>BAT2428731</td>\n",
       "      <td>16.731201</td>\n",
       "      <td>C</td>\n",
       "      <td>C3</td>\n",
       "      <td>MORTGAGE</td>\n",
       "      <td>...</td>\n",
       "      <td>0.107020</td>\n",
       "      <td>0.749971</td>\n",
       "      <td>0</td>\n",
       "      <td>INDIVIDUAL</td>\n",
       "      <td>39</td>\n",
       "      <td>0</td>\n",
       "      <td>40</td>\n",
       "      <td>9189</td>\n",
       "      <td>60214</td>\n",
       "      <td>0</td>\n",
       "    </tr>\n",
       "  </tbody>\n",
       "</table>\n",
       "<p>4 rows × 35 columns</p>\n",
       "</div>"
      ],
      "text/plain": [
       "         ID  Loan Amount  Funded Amount  Funded Amount Investor  Term  \\\n",
       "0  65087372        10000          32236             12329.36286    59   \n",
       "1   1450153         3609          11940             12191.99692    59   \n",
       "2   1969101        28276           9311             21603.22455    59   \n",
       "3   6651430        11170           6954             17877.15585    59   \n",
       "\n",
       "  Batch Enrolled  Interest Rate Grade Sub Grade Employment Duration  ...  \\\n",
       "0     BAT2522922      11.135007     B        C4            MORTGAGE  ...   \n",
       "1     BAT1586599      12.237563     C        D3                RENT  ...   \n",
       "2     BAT2136391      12.545884     F        D4            MORTGAGE  ...   \n",
       "3     BAT2428731      16.731201     C        C3            MORTGAGE  ...   \n",
       "\n",
       "   Recoveries Collection Recovery Fee Collection 12 months Medical  \\\n",
       "0    2.498291                0.793724                            0   \n",
       "1    2.377215                0.974821                            0   \n",
       "2    4.316277                1.020075                            0   \n",
       "3    0.107020                0.749971                            0   \n",
       "\n",
       "  Application Type  Last week Pay  Accounts Delinquent  \\\n",
       "0       INDIVIDUAL             49                    0   \n",
       "1       INDIVIDUAL            109                    0   \n",
       "2       INDIVIDUAL             66                    0   \n",
       "3       INDIVIDUAL             39                    0   \n",
       "\n",
       "   Total Collection Amount  Total Current Balance  \\\n",
       "0                       31                 311301   \n",
       "1                       53                 182610   \n",
       "2                       34                  89801   \n",
       "3                       40                   9189   \n",
       "\n",
       "   Total Revolving Credit Limit  Loan Status  \n",
       "0                          6619            0  \n",
       "1                         20885            0  \n",
       "2                         26155            0  \n",
       "3                         60214            0  \n",
       "\n",
       "[4 rows x 35 columns]"
      ]
     },
     "execution_count": 4,
     "metadata": {},
     "output_type": "execute_result"
    }
   ],
   "source": [
    "# Importing all datasets\n",
    "loan_train = pd.read_csv(\"C:/Users/HP/Desktop/DeloitteHackathon/train.csv\")\n",
    "loan_train.head(4)"
   ]
  },
  {
   "cell_type": "code",
   "execution_count": 5,
   "metadata": {},
   "outputs": [
    {
     "data": {
      "text/html": [
       "<div>\n",
       "<style scoped>\n",
       "    .dataframe tbody tr th:only-of-type {\n",
       "        vertical-align: middle;\n",
       "    }\n",
       "\n",
       "    .dataframe tbody tr th {\n",
       "        vertical-align: top;\n",
       "    }\n",
       "\n",
       "    .dataframe thead th {\n",
       "        text-align: right;\n",
       "    }\n",
       "</style>\n",
       "<table border=\"1\" class=\"dataframe\">\n",
       "  <thead>\n",
       "    <tr style=\"text-align: right;\">\n",
       "      <th></th>\n",
       "      <th>ID</th>\n",
       "      <th>Loan Amount</th>\n",
       "      <th>Funded Amount</th>\n",
       "      <th>Funded Amount Investor</th>\n",
       "      <th>Term</th>\n",
       "      <th>Batch Enrolled</th>\n",
       "      <th>Interest Rate</th>\n",
       "      <th>Grade</th>\n",
       "      <th>Sub Grade</th>\n",
       "      <th>Employment Duration</th>\n",
       "      <th>...</th>\n",
       "      <th>Recoveries</th>\n",
       "      <th>Collection Recovery Fee</th>\n",
       "      <th>Collection 12 months Medical</th>\n",
       "      <th>Application Type</th>\n",
       "      <th>Last week Pay</th>\n",
       "      <th>Accounts Delinquent</th>\n",
       "      <th>Total Collection Amount</th>\n",
       "      <th>Total Current Balance</th>\n",
       "      <th>Total Revolving Credit Limit</th>\n",
       "      <th>Loan Status</th>\n",
       "    </tr>\n",
       "  </thead>\n",
       "  <tbody>\n",
       "    <tr>\n",
       "      <th>0</th>\n",
       "      <td>56492997</td>\n",
       "      <td>17120</td>\n",
       "      <td>10365</td>\n",
       "      <td>16025.08269</td>\n",
       "      <td>59</td>\n",
       "      <td>BAT2575549</td>\n",
       "      <td>12.163926</td>\n",
       "      <td>A</td>\n",
       "      <td>D1</td>\n",
       "      <td>RENT</td>\n",
       "      <td>...</td>\n",
       "      <td>8.425776</td>\n",
       "      <td>0.731797</td>\n",
       "      <td>0</td>\n",
       "      <td>INDIVIDUAL</td>\n",
       "      <td>135</td>\n",
       "      <td>0</td>\n",
       "      <td>24</td>\n",
       "      <td>475442</td>\n",
       "      <td>4364</td>\n",
       "      <td>NaN</td>\n",
       "    </tr>\n",
       "    <tr>\n",
       "      <th>1</th>\n",
       "      <td>22540813</td>\n",
       "      <td>7133</td>\n",
       "      <td>11650</td>\n",
       "      <td>12615.79560</td>\n",
       "      <td>59</td>\n",
       "      <td>BAT2833642</td>\n",
       "      <td>6.564296</td>\n",
       "      <td>B</td>\n",
       "      <td>E3</td>\n",
       "      <td>MORTGAGE</td>\n",
       "      <td>...</td>\n",
       "      <td>6.157008</td>\n",
       "      <td>0.992918</td>\n",
       "      <td>0</td>\n",
       "      <td>INDIVIDUAL</td>\n",
       "      <td>56</td>\n",
       "      <td>0</td>\n",
       "      <td>1</td>\n",
       "      <td>72412</td>\n",
       "      <td>2573</td>\n",
       "      <td>NaN</td>\n",
       "    </tr>\n",
       "    <tr>\n",
       "      <th>2</th>\n",
       "      <td>9862181</td>\n",
       "      <td>25291</td>\n",
       "      <td>25825</td>\n",
       "      <td>11621.28083</td>\n",
       "      <td>59</td>\n",
       "      <td>BAT1761981</td>\n",
       "      <td>14.729900</td>\n",
       "      <td>A</td>\n",
       "      <td>C3</td>\n",
       "      <td>MORTGAGE</td>\n",
       "      <td>...</td>\n",
       "      <td>5.705077</td>\n",
       "      <td>0.281580</td>\n",
       "      <td>0</td>\n",
       "      <td>INDIVIDUAL</td>\n",
       "      <td>3</td>\n",
       "      <td>0</td>\n",
       "      <td>26</td>\n",
       "      <td>284825</td>\n",
       "      <td>19676</td>\n",
       "      <td>NaN</td>\n",
       "    </tr>\n",
       "    <tr>\n",
       "      <th>3</th>\n",
       "      <td>10097822</td>\n",
       "      <td>30781</td>\n",
       "      <td>9664</td>\n",
       "      <td>15375.82351</td>\n",
       "      <td>59</td>\n",
       "      <td>BAT5341619</td>\n",
       "      <td>10.523767</td>\n",
       "      <td>A</td>\n",
       "      <td>A2</td>\n",
       "      <td>RENT</td>\n",
       "      <td>...</td>\n",
       "      <td>2.469688</td>\n",
       "      <td>0.959162</td>\n",
       "      <td>0</td>\n",
       "      <td>INDIVIDUAL</td>\n",
       "      <td>21</td>\n",
       "      <td>0</td>\n",
       "      <td>32</td>\n",
       "      <td>40842</td>\n",
       "      <td>7226</td>\n",
       "      <td>NaN</td>\n",
       "    </tr>\n",
       "  </tbody>\n",
       "</table>\n",
       "<p>4 rows × 35 columns</p>\n",
       "</div>"
      ],
      "text/plain": [
       "         ID  Loan Amount  Funded Amount  Funded Amount Investor  Term  \\\n",
       "0  56492997        17120          10365             16025.08269    59   \n",
       "1  22540813         7133          11650             12615.79560    59   \n",
       "2   9862181        25291          25825             11621.28083    59   \n",
       "3  10097822        30781           9664             15375.82351    59   \n",
       "\n",
       "  Batch Enrolled  Interest Rate Grade Sub Grade Employment Duration  ...  \\\n",
       "0     BAT2575549      12.163926     A        D1                RENT  ...   \n",
       "1     BAT2833642       6.564296     B        E3            MORTGAGE  ...   \n",
       "2     BAT1761981      14.729900     A        C3            MORTGAGE  ...   \n",
       "3     BAT5341619      10.523767     A        A2                RENT  ...   \n",
       "\n",
       "   Recoveries Collection Recovery Fee Collection 12 months Medical  \\\n",
       "0    8.425776                0.731797                            0   \n",
       "1    6.157008                0.992918                            0   \n",
       "2    5.705077                0.281580                            0   \n",
       "3    2.469688                0.959162                            0   \n",
       "\n",
       "  Application Type  Last week Pay  Accounts Delinquent  \\\n",
       "0       INDIVIDUAL            135                    0   \n",
       "1       INDIVIDUAL             56                    0   \n",
       "2       INDIVIDUAL              3                    0   \n",
       "3       INDIVIDUAL             21                    0   \n",
       "\n",
       "   Total Collection Amount  Total Current Balance  \\\n",
       "0                       24                 475442   \n",
       "1                        1                  72412   \n",
       "2                       26                 284825   \n",
       "3                       32                  40842   \n",
       "\n",
       "   Total Revolving Credit Limit  Loan Status  \n",
       "0                          4364          NaN  \n",
       "1                          2573          NaN  \n",
       "2                         19676          NaN  \n",
       "3                          7226          NaN  \n",
       "\n",
       "[4 rows x 35 columns]"
      ]
     },
     "execution_count": 5,
     "metadata": {},
     "output_type": "execute_result"
    }
   ],
   "source": [
    "# Importing all datasets\n",
    "loan_test = pd.read_csv(\"C:/Users/HP/Desktop/DeloitteHackathon/test.csv\")\n",
    "loan_test.head(4)"
   ]
  },
  {
   "cell_type": "code",
   "execution_count": 6,
   "metadata": {},
   "outputs": [],
   "source": [
    "loan_test[\"Loan Status\"] = 0"
   ]
  },
  {
   "cell_type": "code",
   "execution_count": 7,
   "metadata": {},
   "outputs": [
    {
     "data": {
      "text/html": [
       "<div>\n",
       "<style scoped>\n",
       "    .dataframe tbody tr th:only-of-type {\n",
       "        vertical-align: middle;\n",
       "    }\n",
       "\n",
       "    .dataframe tbody tr th {\n",
       "        vertical-align: top;\n",
       "    }\n",
       "\n",
       "    .dataframe thead th {\n",
       "        text-align: right;\n",
       "    }\n",
       "</style>\n",
       "<table border=\"1\" class=\"dataframe\">\n",
       "  <thead>\n",
       "    <tr style=\"text-align: right;\">\n",
       "      <th></th>\n",
       "      <th>ID</th>\n",
       "      <th>Loan Amount</th>\n",
       "      <th>Funded Amount</th>\n",
       "      <th>Funded Amount Investor</th>\n",
       "      <th>Term</th>\n",
       "      <th>Batch Enrolled</th>\n",
       "      <th>Interest Rate</th>\n",
       "      <th>Grade</th>\n",
       "      <th>Sub Grade</th>\n",
       "      <th>Employment Duration</th>\n",
       "      <th>...</th>\n",
       "      <th>Recoveries</th>\n",
       "      <th>Collection Recovery Fee</th>\n",
       "      <th>Collection 12 months Medical</th>\n",
       "      <th>Application Type</th>\n",
       "      <th>Last week Pay</th>\n",
       "      <th>Accounts Delinquent</th>\n",
       "      <th>Total Collection Amount</th>\n",
       "      <th>Total Current Balance</th>\n",
       "      <th>Total Revolving Credit Limit</th>\n",
       "      <th>Loan Status</th>\n",
       "    </tr>\n",
       "  </thead>\n",
       "  <tbody>\n",
       "    <tr>\n",
       "      <th>0</th>\n",
       "      <td>56492997</td>\n",
       "      <td>17120</td>\n",
       "      <td>10365</td>\n",
       "      <td>16025.08269</td>\n",
       "      <td>59</td>\n",
       "      <td>BAT2575549</td>\n",
       "      <td>12.163926</td>\n",
       "      <td>A</td>\n",
       "      <td>D1</td>\n",
       "      <td>RENT</td>\n",
       "      <td>...</td>\n",
       "      <td>8.425776</td>\n",
       "      <td>0.731797</td>\n",
       "      <td>0</td>\n",
       "      <td>INDIVIDUAL</td>\n",
       "      <td>135</td>\n",
       "      <td>0</td>\n",
       "      <td>24</td>\n",
       "      <td>475442</td>\n",
       "      <td>4364</td>\n",
       "      <td>0</td>\n",
       "    </tr>\n",
       "    <tr>\n",
       "      <th>1</th>\n",
       "      <td>22540813</td>\n",
       "      <td>7133</td>\n",
       "      <td>11650</td>\n",
       "      <td>12615.79560</td>\n",
       "      <td>59</td>\n",
       "      <td>BAT2833642</td>\n",
       "      <td>6.564296</td>\n",
       "      <td>B</td>\n",
       "      <td>E3</td>\n",
       "      <td>MORTGAGE</td>\n",
       "      <td>...</td>\n",
       "      <td>6.157008</td>\n",
       "      <td>0.992918</td>\n",
       "      <td>0</td>\n",
       "      <td>INDIVIDUAL</td>\n",
       "      <td>56</td>\n",
       "      <td>0</td>\n",
       "      <td>1</td>\n",
       "      <td>72412</td>\n",
       "      <td>2573</td>\n",
       "      <td>0</td>\n",
       "    </tr>\n",
       "    <tr>\n",
       "      <th>2</th>\n",
       "      <td>9862181</td>\n",
       "      <td>25291</td>\n",
       "      <td>25825</td>\n",
       "      <td>11621.28083</td>\n",
       "      <td>59</td>\n",
       "      <td>BAT1761981</td>\n",
       "      <td>14.729900</td>\n",
       "      <td>A</td>\n",
       "      <td>C3</td>\n",
       "      <td>MORTGAGE</td>\n",
       "      <td>...</td>\n",
       "      <td>5.705077</td>\n",
       "      <td>0.281580</td>\n",
       "      <td>0</td>\n",
       "      <td>INDIVIDUAL</td>\n",
       "      <td>3</td>\n",
       "      <td>0</td>\n",
       "      <td>26</td>\n",
       "      <td>284825</td>\n",
       "      <td>19676</td>\n",
       "      <td>0</td>\n",
       "    </tr>\n",
       "    <tr>\n",
       "      <th>3</th>\n",
       "      <td>10097822</td>\n",
       "      <td>30781</td>\n",
       "      <td>9664</td>\n",
       "      <td>15375.82351</td>\n",
       "      <td>59</td>\n",
       "      <td>BAT5341619</td>\n",
       "      <td>10.523767</td>\n",
       "      <td>A</td>\n",
       "      <td>A2</td>\n",
       "      <td>RENT</td>\n",
       "      <td>...</td>\n",
       "      <td>2.469688</td>\n",
       "      <td>0.959162</td>\n",
       "      <td>0</td>\n",
       "      <td>INDIVIDUAL</td>\n",
       "      <td>21</td>\n",
       "      <td>0</td>\n",
       "      <td>32</td>\n",
       "      <td>40842</td>\n",
       "      <td>7226</td>\n",
       "      <td>0</td>\n",
       "    </tr>\n",
       "  </tbody>\n",
       "</table>\n",
       "<p>4 rows × 35 columns</p>\n",
       "</div>"
      ],
      "text/plain": [
       "         ID  Loan Amount  Funded Amount  Funded Amount Investor  Term  \\\n",
       "0  56492997        17120          10365             16025.08269    59   \n",
       "1  22540813         7133          11650             12615.79560    59   \n",
       "2   9862181        25291          25825             11621.28083    59   \n",
       "3  10097822        30781           9664             15375.82351    59   \n",
       "\n",
       "  Batch Enrolled  Interest Rate Grade Sub Grade Employment Duration  ...  \\\n",
       "0     BAT2575549      12.163926     A        D1                RENT  ...   \n",
       "1     BAT2833642       6.564296     B        E3            MORTGAGE  ...   \n",
       "2     BAT1761981      14.729900     A        C3            MORTGAGE  ...   \n",
       "3     BAT5341619      10.523767     A        A2                RENT  ...   \n",
       "\n",
       "   Recoveries Collection Recovery Fee Collection 12 months Medical  \\\n",
       "0    8.425776                0.731797                            0   \n",
       "1    6.157008                0.992918                            0   \n",
       "2    5.705077                0.281580                            0   \n",
       "3    2.469688                0.959162                            0   \n",
       "\n",
       "  Application Type  Last week Pay  Accounts Delinquent  \\\n",
       "0       INDIVIDUAL            135                    0   \n",
       "1       INDIVIDUAL             56                    0   \n",
       "2       INDIVIDUAL              3                    0   \n",
       "3       INDIVIDUAL             21                    0   \n",
       "\n",
       "   Total Collection Amount  Total Current Balance  \\\n",
       "0                       24                 475442   \n",
       "1                        1                  72412   \n",
       "2                       26                 284825   \n",
       "3                       32                  40842   \n",
       "\n",
       "   Total Revolving Credit Limit  Loan Status  \n",
       "0                          4364            0  \n",
       "1                          2573            0  \n",
       "2                         19676            0  \n",
       "3                          7226            0  \n",
       "\n",
       "[4 rows x 35 columns]"
      ]
     },
     "execution_count": 7,
     "metadata": {},
     "output_type": "execute_result"
    }
   ],
   "source": [
    "loan_test.head(4)"
   ]
  },
  {
   "cell_type": "markdown",
   "metadata": {},
   "source": [
    "### Feature Engineering "
   ]
  },
  {
   "cell_type": "code",
   "execution_count": 8,
   "metadata": {},
   "outputs": [
    {
     "data": {
      "text/plain": [
       "Index(['ID', 'Loan Amount', 'Funded Amount', 'Funded Amount Investor', 'Term',\n",
       "       'Batch Enrolled', 'Interest Rate', 'Grade', 'Sub Grade',\n",
       "       'Employment Duration', 'Home Ownership', 'Verification Status',\n",
       "       'Payment Plan', 'Loan Title', 'Debit to Income',\n",
       "       'Delinquency - two years', 'Inquires - six months', 'Open Account',\n",
       "       'Public Record', 'Revolving Balance', 'Revolving Utilities',\n",
       "       'Total Accounts', 'Initial List Status', 'Total Received Interest',\n",
       "       'Total Received Late Fee', 'Recoveries', 'Collection Recovery Fee',\n",
       "       'Collection 12 months Medical', 'Application Type', 'Last week Pay',\n",
       "       'Accounts Delinquent', 'Total Collection Amount',\n",
       "       'Total Current Balance', 'Total Revolving Credit Limit', 'Loan Status'],\n",
       "      dtype='object')"
      ]
     },
     "execution_count": 8,
     "metadata": {},
     "output_type": "execute_result"
    }
   ],
   "source": [
    "loan_train.columns"
   ]
  },
  {
   "cell_type": "code",
   "execution_count": 9,
   "metadata": {},
   "outputs": [
    {
     "data": {
      "text/plain": [
       "ID                                int64\n",
       "Loan Amount                       int64\n",
       "Funded Amount                     int64\n",
       "Funded Amount Investor          float64\n",
       "Term                              int64\n",
       "Batch Enrolled                   object\n",
       "Interest Rate                   float64\n",
       "Grade                            object\n",
       "Sub Grade                        object\n",
       "Employment Duration              object\n",
       "Home Ownership                  float64\n",
       "Verification Status              object\n",
       "Payment Plan                     object\n",
       "Loan Title                       object\n",
       "Debit to Income                 float64\n",
       "Delinquency - two years           int64\n",
       "Inquires - six months             int64\n",
       "Open Account                      int64\n",
       "Public Record                     int64\n",
       "Revolving Balance                 int64\n",
       "Revolving Utilities             float64\n",
       "Total Accounts                    int64\n",
       "Initial List Status              object\n",
       "Total Received Interest         float64\n",
       "Total Received Late Fee         float64\n",
       "Recoveries                      float64\n",
       "Collection Recovery Fee         float64\n",
       "Collection 12 months Medical      int64\n",
       "Application Type                 object\n",
       "Last week Pay                     int64\n",
       "Accounts Delinquent               int64\n",
       "Total Collection Amount           int64\n",
       "Total Current Balance             int64\n",
       "Total Revolving Credit Limit      int64\n",
       "Loan Status                       int64\n",
       "dtype: object"
      ]
     },
     "execution_count": 9,
     "metadata": {},
     "output_type": "execute_result"
    }
   ],
   "source": [
    "loan_train.dtypes"
   ]
  },
  {
   "cell_type": "markdown",
   "metadata": {},
   "source": [
    "### Checking the `missing values`"
   ]
  },
  {
   "cell_type": "code",
   "execution_count": 10,
   "metadata": {},
   "outputs": [
    {
     "data": {
      "text/plain": [
       "ID                              0\n",
       "Loan Amount                     0\n",
       "Funded Amount                   0\n",
       "Funded Amount Investor          0\n",
       "Term                            0\n",
       "Batch Enrolled                  0\n",
       "Interest Rate                   0\n",
       "Grade                           0\n",
       "Sub Grade                       0\n",
       "Employment Duration             0\n",
       "Home Ownership                  0\n",
       "Verification Status             0\n",
       "Payment Plan                    0\n",
       "Loan Title                      0\n",
       "Debit to Income                 0\n",
       "Delinquency - two years         0\n",
       "Inquires - six months           0\n",
       "Open Account                    0\n",
       "Public Record                   0\n",
       "Revolving Balance               0\n",
       "Revolving Utilities             0\n",
       "Total Accounts                  0\n",
       "Initial List Status             0\n",
       "Total Received Interest         0\n",
       "Total Received Late Fee         0\n",
       "Recoveries                      0\n",
       "Collection Recovery Fee         0\n",
       "Collection 12 months Medical    0\n",
       "Application Type                0\n",
       "Last week Pay                   0\n",
       "Accounts Delinquent             0\n",
       "Total Collection Amount         0\n",
       "Total Current Balance           0\n",
       "Total Revolving Credit Limit    0\n",
       "Loan Status                     0\n",
       "dtype: int64"
      ]
     },
     "execution_count": 10,
     "metadata": {},
     "output_type": "execute_result"
    }
   ],
   "source": [
    "loan_train.isnull().sum()"
   ]
  },
  {
   "cell_type": "markdown",
   "metadata": {},
   "source": [
    " - Please Note , there is no missing values in the dataset"
   ]
  },
  {
   "cell_type": "code",
   "execution_count": 11,
   "metadata": {},
   "outputs": [
    {
     "data": {
      "text/html": [
       "<div>\n",
       "<style scoped>\n",
       "    .dataframe tbody tr th:only-of-type {\n",
       "        vertical-align: middle;\n",
       "    }\n",
       "\n",
       "    .dataframe tbody tr th {\n",
       "        vertical-align: top;\n",
       "    }\n",
       "\n",
       "    .dataframe thead th {\n",
       "        text-align: right;\n",
       "    }\n",
       "</style>\n",
       "<table border=\"1\" class=\"dataframe\">\n",
       "  <thead>\n",
       "    <tr style=\"text-align: right;\">\n",
       "      <th></th>\n",
       "      <th>ID</th>\n",
       "      <th>Loan Amount</th>\n",
       "      <th>Funded Amount</th>\n",
       "      <th>Funded Amount Investor</th>\n",
       "      <th>Term</th>\n",
       "      <th>Batch Enrolled</th>\n",
       "      <th>Interest Rate</th>\n",
       "      <th>Grade</th>\n",
       "      <th>Sub Grade</th>\n",
       "      <th>Employment Duration</th>\n",
       "      <th>...</th>\n",
       "      <th>Recoveries</th>\n",
       "      <th>Collection Recovery Fee</th>\n",
       "      <th>Collection 12 months Medical</th>\n",
       "      <th>Application Type</th>\n",
       "      <th>Last week Pay</th>\n",
       "      <th>Accounts Delinquent</th>\n",
       "      <th>Total Collection Amount</th>\n",
       "      <th>Total Current Balance</th>\n",
       "      <th>Total Revolving Credit Limit</th>\n",
       "      <th>Loan Status</th>\n",
       "    </tr>\n",
       "  </thead>\n",
       "  <tbody>\n",
       "    <tr>\n",
       "      <th>0</th>\n",
       "      <td>65087372</td>\n",
       "      <td>10000</td>\n",
       "      <td>32236</td>\n",
       "      <td>12329.36286</td>\n",
       "      <td>59</td>\n",
       "      <td>BAT2522922</td>\n",
       "      <td>11.135007</td>\n",
       "      <td>B</td>\n",
       "      <td>C4</td>\n",
       "      <td>MORTGAGE</td>\n",
       "      <td>...</td>\n",
       "      <td>2.498291</td>\n",
       "      <td>0.793724</td>\n",
       "      <td>0</td>\n",
       "      <td>INDIVIDUAL</td>\n",
       "      <td>49</td>\n",
       "      <td>0</td>\n",
       "      <td>31</td>\n",
       "      <td>311301</td>\n",
       "      <td>6619</td>\n",
       "      <td>0</td>\n",
       "    </tr>\n",
       "    <tr>\n",
       "      <th>1</th>\n",
       "      <td>1450153</td>\n",
       "      <td>3609</td>\n",
       "      <td>11940</td>\n",
       "      <td>12191.99692</td>\n",
       "      <td>59</td>\n",
       "      <td>BAT1586599</td>\n",
       "      <td>12.237563</td>\n",
       "      <td>C</td>\n",
       "      <td>D3</td>\n",
       "      <td>RENT</td>\n",
       "      <td>...</td>\n",
       "      <td>2.377215</td>\n",
       "      <td>0.974821</td>\n",
       "      <td>0</td>\n",
       "      <td>INDIVIDUAL</td>\n",
       "      <td>109</td>\n",
       "      <td>0</td>\n",
       "      <td>53</td>\n",
       "      <td>182610</td>\n",
       "      <td>20885</td>\n",
       "      <td>0</td>\n",
       "    </tr>\n",
       "    <tr>\n",
       "      <th>2</th>\n",
       "      <td>1969101</td>\n",
       "      <td>28276</td>\n",
       "      <td>9311</td>\n",
       "      <td>21603.22455</td>\n",
       "      <td>59</td>\n",
       "      <td>BAT2136391</td>\n",
       "      <td>12.545884</td>\n",
       "      <td>F</td>\n",
       "      <td>D4</td>\n",
       "      <td>MORTGAGE</td>\n",
       "      <td>...</td>\n",
       "      <td>4.316277</td>\n",
       "      <td>1.020075</td>\n",
       "      <td>0</td>\n",
       "      <td>INDIVIDUAL</td>\n",
       "      <td>66</td>\n",
       "      <td>0</td>\n",
       "      <td>34</td>\n",
       "      <td>89801</td>\n",
       "      <td>26155</td>\n",
       "      <td>0</td>\n",
       "    </tr>\n",
       "  </tbody>\n",
       "</table>\n",
       "<p>3 rows × 35 columns</p>\n",
       "</div>"
      ],
      "text/plain": [
       "         ID  Loan Amount  Funded Amount  Funded Amount Investor  Term  \\\n",
       "0  65087372        10000          32236             12329.36286    59   \n",
       "1   1450153         3609          11940             12191.99692    59   \n",
       "2   1969101        28276           9311             21603.22455    59   \n",
       "\n",
       "  Batch Enrolled  Interest Rate Grade Sub Grade Employment Duration  ...  \\\n",
       "0     BAT2522922      11.135007     B        C4            MORTGAGE  ...   \n",
       "1     BAT1586599      12.237563     C        D3                RENT  ...   \n",
       "2     BAT2136391      12.545884     F        D4            MORTGAGE  ...   \n",
       "\n",
       "   Recoveries Collection Recovery Fee Collection 12 months Medical  \\\n",
       "0    2.498291                0.793724                            0   \n",
       "1    2.377215                0.974821                            0   \n",
       "2    4.316277                1.020075                            0   \n",
       "\n",
       "  Application Type  Last week Pay  Accounts Delinquent  \\\n",
       "0       INDIVIDUAL             49                    0   \n",
       "1       INDIVIDUAL            109                    0   \n",
       "2       INDIVIDUAL             66                    0   \n",
       "\n",
       "   Total Collection Amount  Total Current Balance  \\\n",
       "0                       31                 311301   \n",
       "1                       53                 182610   \n",
       "2                       34                  89801   \n",
       "\n",
       "   Total Revolving Credit Limit  Loan Status  \n",
       "0                          6619            0  \n",
       "1                         20885            0  \n",
       "2                         26155            0  \n",
       "\n",
       "[3 rows x 35 columns]"
      ]
     },
     "execution_count": 11,
     "metadata": {},
     "output_type": "execute_result"
    }
   ],
   "source": [
    "loan_train.head(3)"
   ]
  },
  {
   "cell_type": "code",
   "execution_count": 12,
   "metadata": {},
   "outputs": [],
   "source": [
    "### Checking the categorical values in 'Object Format'"
   ]
  },
  {
   "cell_type": "code",
   "execution_count": 13,
   "metadata": {},
   "outputs": [
    {
     "data": {
      "text/plain": [
       "C    19085\n",
       "B    18742\n",
       "A    12055\n",
       "D     8259\n",
       "E     6446\n",
       "F     2246\n",
       "G      630\n",
       "Name: Grade, dtype: int64"
      ]
     },
     "execution_count": 13,
     "metadata": {},
     "output_type": "execute_result"
    }
   ],
   "source": [
    "loan_train.Grade.value_counts()"
   ]
  },
  {
   "cell_type": "code",
   "execution_count": 14,
   "metadata": {},
   "outputs": [
    {
     "data": {
      "text/plain": [
       "MORTGAGE    36351\n",
       "RENT        24150\n",
       "OWN          6962\n",
       "Name: Employment Duration, dtype: int64"
      ]
     },
     "execution_count": 14,
     "metadata": {},
     "output_type": "execute_result"
    }
   ],
   "source": [
    "loan_train[\"Employment Duration\"].value_counts()"
   ]
  },
  {
   "cell_type": "code",
   "execution_count": 15,
   "metadata": {},
   "outputs": [
    {
     "data": {
      "text/plain": [
       "INDIVIDUAL    67340\n",
       "JOINT           123\n",
       "Name: Application Type, dtype: int64"
      ]
     },
     "execution_count": 15,
     "metadata": {},
     "output_type": "execute_result"
    }
   ],
   "source": [
    "loan_train[\"Application Type\"].value_counts()"
   ]
  },
  {
   "cell_type": "code",
   "execution_count": 16,
   "metadata": {},
   "outputs": [
    {
     "data": {
      "text/plain": [
       "Source Verified    33036\n",
       "Verified           18078\n",
       "Not Verified       16349\n",
       "Name: Verification Status, dtype: int64"
      ]
     },
     "execution_count": 16,
     "metadata": {},
     "output_type": "execute_result"
    }
   ],
   "source": [
    "loan_train[\"Verification Status\"].value_counts()"
   ]
  },
  {
   "cell_type": "code",
   "execution_count": 17,
   "metadata": {},
   "outputs": [
    {
     "data": {
      "text/plain": [
       "n    67463\n",
       "Name: Payment Plan, dtype: int64"
      ]
     },
     "execution_count": 17,
     "metadata": {},
     "output_type": "execute_result"
    }
   ],
   "source": [
    "loan_train[\"Payment Plan\"].value_counts()"
   ]
  },
  {
   "cell_type": "markdown",
   "metadata": {},
   "source": [
    "#### Mean Encoding "
   ]
  },
  {
   "cell_type": "markdown",
   "metadata": {},
   "source": [
    "#### Grade"
   ]
  },
  {
   "cell_type": "code",
   "execution_count": 18,
   "metadata": {},
   "outputs": [
    {
     "data": {
      "text/plain": [
       "Index(['B', 'A', 'C', 'E', 'D', 'F', 'G'], dtype='object', name='Grade')"
      ]
     },
     "execution_count": 18,
     "metadata": {},
     "output_type": "execute_result"
    }
   ],
   "source": [
    "mean_labels=loan_train.groupby(['Grade'])['Loan Status'].mean().sort_values().index\n",
    "mean_labels"
   ]
  },
  {
   "cell_type": "code",
   "execution_count": 19,
   "metadata": {},
   "outputs": [
    {
     "data": {
      "text/plain": [
       "<enumerate at 0x1e6a052de80>"
      ]
     },
     "execution_count": 19,
     "metadata": {},
     "output_type": "execute_result"
    }
   ],
   "source": [
    "enumerate(mean_labels,0)"
   ]
  },
  {
   "cell_type": "code",
   "execution_count": 20,
   "metadata": {},
   "outputs": [
    {
     "data": {
      "text/plain": [
       "{'B': 0, 'A': 1, 'C': 2, 'E': 3, 'D': 4, 'F': 5, 'G': 6}"
      ]
     },
     "execution_count": 20,
     "metadata": {},
     "output_type": "execute_result"
    }
   ],
   "source": [
    "mean_labels2={k:i for i,k in enumerate(mean_labels,0)}\n",
    "mean_labels2"
   ]
  },
  {
   "cell_type": "code",
   "execution_count": 21,
   "metadata": {},
   "outputs": [
    {
     "data": {
      "text/html": [
       "<div>\n",
       "<style scoped>\n",
       "    .dataframe tbody tr th:only-of-type {\n",
       "        vertical-align: middle;\n",
       "    }\n",
       "\n",
       "    .dataframe tbody tr th {\n",
       "        vertical-align: top;\n",
       "    }\n",
       "\n",
       "    .dataframe thead th {\n",
       "        text-align: right;\n",
       "    }\n",
       "</style>\n",
       "<table border=\"1\" class=\"dataframe\">\n",
       "  <thead>\n",
       "    <tr style=\"text-align: right;\">\n",
       "      <th></th>\n",
       "      <th>ID</th>\n",
       "      <th>Loan Amount</th>\n",
       "      <th>Funded Amount</th>\n",
       "      <th>Funded Amount Investor</th>\n",
       "      <th>Term</th>\n",
       "      <th>Batch Enrolled</th>\n",
       "      <th>Interest Rate</th>\n",
       "      <th>Grade</th>\n",
       "      <th>Sub Grade</th>\n",
       "      <th>Employment Duration</th>\n",
       "      <th>...</th>\n",
       "      <th>Collection Recovery Fee</th>\n",
       "      <th>Collection 12 months Medical</th>\n",
       "      <th>Application Type</th>\n",
       "      <th>Last week Pay</th>\n",
       "      <th>Accounts Delinquent</th>\n",
       "      <th>Total Collection Amount</th>\n",
       "      <th>Total Current Balance</th>\n",
       "      <th>Total Revolving Credit Limit</th>\n",
       "      <th>Loan Status</th>\n",
       "      <th>Grade_mean_labels</th>\n",
       "    </tr>\n",
       "  </thead>\n",
       "  <tbody>\n",
       "    <tr>\n",
       "      <th>0</th>\n",
       "      <td>65087372</td>\n",
       "      <td>10000</td>\n",
       "      <td>32236</td>\n",
       "      <td>12329.36286</td>\n",
       "      <td>59</td>\n",
       "      <td>BAT2522922</td>\n",
       "      <td>11.135007</td>\n",
       "      <td>B</td>\n",
       "      <td>C4</td>\n",
       "      <td>MORTGAGE</td>\n",
       "      <td>...</td>\n",
       "      <td>0.793724</td>\n",
       "      <td>0</td>\n",
       "      <td>INDIVIDUAL</td>\n",
       "      <td>49</td>\n",
       "      <td>0</td>\n",
       "      <td>31</td>\n",
       "      <td>311301</td>\n",
       "      <td>6619</td>\n",
       "      <td>0</td>\n",
       "      <td>0</td>\n",
       "    </tr>\n",
       "    <tr>\n",
       "      <th>1</th>\n",
       "      <td>1450153</td>\n",
       "      <td>3609</td>\n",
       "      <td>11940</td>\n",
       "      <td>12191.99692</td>\n",
       "      <td>59</td>\n",
       "      <td>BAT1586599</td>\n",
       "      <td>12.237563</td>\n",
       "      <td>C</td>\n",
       "      <td>D3</td>\n",
       "      <td>RENT</td>\n",
       "      <td>...</td>\n",
       "      <td>0.974821</td>\n",
       "      <td>0</td>\n",
       "      <td>INDIVIDUAL</td>\n",
       "      <td>109</td>\n",
       "      <td>0</td>\n",
       "      <td>53</td>\n",
       "      <td>182610</td>\n",
       "      <td>20885</td>\n",
       "      <td>0</td>\n",
       "      <td>2</td>\n",
       "    </tr>\n",
       "    <tr>\n",
       "      <th>2</th>\n",
       "      <td>1969101</td>\n",
       "      <td>28276</td>\n",
       "      <td>9311</td>\n",
       "      <td>21603.22455</td>\n",
       "      <td>59</td>\n",
       "      <td>BAT2136391</td>\n",
       "      <td>12.545884</td>\n",
       "      <td>F</td>\n",
       "      <td>D4</td>\n",
       "      <td>MORTGAGE</td>\n",
       "      <td>...</td>\n",
       "      <td>1.020075</td>\n",
       "      <td>0</td>\n",
       "      <td>INDIVIDUAL</td>\n",
       "      <td>66</td>\n",
       "      <td>0</td>\n",
       "      <td>34</td>\n",
       "      <td>89801</td>\n",
       "      <td>26155</td>\n",
       "      <td>0</td>\n",
       "      <td>5</td>\n",
       "    </tr>\n",
       "    <tr>\n",
       "      <th>3</th>\n",
       "      <td>6651430</td>\n",
       "      <td>11170</td>\n",
       "      <td>6954</td>\n",
       "      <td>17877.15585</td>\n",
       "      <td>59</td>\n",
       "      <td>BAT2428731</td>\n",
       "      <td>16.731201</td>\n",
       "      <td>C</td>\n",
       "      <td>C3</td>\n",
       "      <td>MORTGAGE</td>\n",
       "      <td>...</td>\n",
       "      <td>0.749971</td>\n",
       "      <td>0</td>\n",
       "      <td>INDIVIDUAL</td>\n",
       "      <td>39</td>\n",
       "      <td>0</td>\n",
       "      <td>40</td>\n",
       "      <td>9189</td>\n",
       "      <td>60214</td>\n",
       "      <td>0</td>\n",
       "      <td>2</td>\n",
       "    </tr>\n",
       "    <tr>\n",
       "      <th>4</th>\n",
       "      <td>14354669</td>\n",
       "      <td>16890</td>\n",
       "      <td>13226</td>\n",
       "      <td>13539.92667</td>\n",
       "      <td>59</td>\n",
       "      <td>BAT5341619</td>\n",
       "      <td>15.008300</td>\n",
       "      <td>C</td>\n",
       "      <td>D4</td>\n",
       "      <td>MORTGAGE</td>\n",
       "      <td>...</td>\n",
       "      <td>0.368953</td>\n",
       "      <td>0</td>\n",
       "      <td>INDIVIDUAL</td>\n",
       "      <td>18</td>\n",
       "      <td>0</td>\n",
       "      <td>430</td>\n",
       "      <td>126029</td>\n",
       "      <td>22579</td>\n",
       "      <td>0</td>\n",
       "      <td>2</td>\n",
       "    </tr>\n",
       "  </tbody>\n",
       "</table>\n",
       "<p>5 rows × 36 columns</p>\n",
       "</div>"
      ],
      "text/plain": [
       "         ID  Loan Amount  Funded Amount  Funded Amount Investor  Term  \\\n",
       "0  65087372        10000          32236             12329.36286    59   \n",
       "1   1450153         3609          11940             12191.99692    59   \n",
       "2   1969101        28276           9311             21603.22455    59   \n",
       "3   6651430        11170           6954             17877.15585    59   \n",
       "4  14354669        16890          13226             13539.92667    59   \n",
       "\n",
       "  Batch Enrolled  Interest Rate Grade Sub Grade Employment Duration  ...  \\\n",
       "0     BAT2522922      11.135007     B        C4            MORTGAGE  ...   \n",
       "1     BAT1586599      12.237563     C        D3                RENT  ...   \n",
       "2     BAT2136391      12.545884     F        D4            MORTGAGE  ...   \n",
       "3     BAT2428731      16.731201     C        C3            MORTGAGE  ...   \n",
       "4     BAT5341619      15.008300     C        D4            MORTGAGE  ...   \n",
       "\n",
       "   Collection Recovery Fee Collection 12 months Medical Application Type  \\\n",
       "0                 0.793724                            0       INDIVIDUAL   \n",
       "1                 0.974821                            0       INDIVIDUAL   \n",
       "2                 1.020075                            0       INDIVIDUAL   \n",
       "3                 0.749971                            0       INDIVIDUAL   \n",
       "4                 0.368953                            0       INDIVIDUAL   \n",
       "\n",
       "  Last week Pay  Accounts Delinquent  Total Collection Amount  \\\n",
       "0            49                    0                       31   \n",
       "1           109                    0                       53   \n",
       "2            66                    0                       34   \n",
       "3            39                    0                       40   \n",
       "4            18                    0                      430   \n",
       "\n",
       "   Total Current Balance  Total Revolving Credit Limit  Loan Status  \\\n",
       "0                 311301                          6619            0   \n",
       "1                 182610                         20885            0   \n",
       "2                  89801                         26155            0   \n",
       "3                   9189                         60214            0   \n",
       "4                 126029                         22579            0   \n",
       "\n",
       "   Grade_mean_labels  \n",
       "0                  0  \n",
       "1                  2  \n",
       "2                  5  \n",
       "3                  2  \n",
       "4                  2  \n",
       "\n",
       "[5 rows x 36 columns]"
      ]
     },
     "execution_count": 21,
     "metadata": {},
     "output_type": "execute_result"
    }
   ],
   "source": [
    "loan_train['Grade_mean_labels']=loan_train['Grade'].map(mean_labels2)\n",
    "loan_train.head()"
   ]
  },
  {
   "cell_type": "code",
   "execution_count": 22,
   "metadata": {},
   "outputs": [],
   "source": [
    "loan_train = loan_train.drop(columns=\"Grade\")"
   ]
  },
  {
   "cell_type": "code",
   "execution_count": 23,
   "metadata": {},
   "outputs": [
    {
     "data": {
      "text/plain": [
       "(67463, 35)"
      ]
     },
     "execution_count": 23,
     "metadata": {},
     "output_type": "execute_result"
    }
   ],
   "source": [
    "loan_train.shape"
   ]
  },
  {
   "cell_type": "markdown",
   "metadata": {},
   "source": [
    "#### Employment Duration "
   ]
  },
  {
   "cell_type": "code",
   "execution_count": 24,
   "metadata": {},
   "outputs": [
    {
     "data": {
      "text/plain": [
       "Index(['MORTGAGE', 'RENT', 'OWN'], dtype='object', name='Employment Duration')"
      ]
     },
     "execution_count": 24,
     "metadata": {},
     "output_type": "execute_result"
    }
   ],
   "source": [
    "mean_labels=loan_train.groupby(['Employment Duration'])['Loan Status'].mean().sort_values().index\n",
    "mean_labels"
   ]
  },
  {
   "cell_type": "code",
   "execution_count": 25,
   "metadata": {},
   "outputs": [
    {
     "data": {
      "text/plain": [
       "<enumerate at 0x1e6a0781480>"
      ]
     },
     "execution_count": 25,
     "metadata": {},
     "output_type": "execute_result"
    }
   ],
   "source": [
    "enumerate(mean_labels,0)"
   ]
  },
  {
   "cell_type": "code",
   "execution_count": 26,
   "metadata": {},
   "outputs": [
    {
     "data": {
      "text/plain": [
       "{'MORTGAGE': 0, 'RENT': 1, 'OWN': 2}"
      ]
     },
     "execution_count": 26,
     "metadata": {},
     "output_type": "execute_result"
    }
   ],
   "source": [
    "mean_labels2={k:i for i,k in enumerate(mean_labels,0)}\n",
    "mean_labels2"
   ]
  },
  {
   "cell_type": "code",
   "execution_count": 27,
   "metadata": {},
   "outputs": [],
   "source": [
    "loan_train['Employment Duration_ordinal_labels']=loan_train['Employment Duration'].map(mean_labels2)"
   ]
  },
  {
   "cell_type": "code",
   "execution_count": 28,
   "metadata": {},
   "outputs": [],
   "source": [
    "loan_train  = loan_train.drop(columns=\"Employment Duration\")"
   ]
  },
  {
   "cell_type": "markdown",
   "metadata": {},
   "source": [
    "#### Application Type"
   ]
  },
  {
   "cell_type": "code",
   "execution_count": 29,
   "metadata": {},
   "outputs": [
    {
     "data": {
      "text/plain": [
       "Index(['JOINT', 'INDIVIDUAL'], dtype='object', name='Application Type')"
      ]
     },
     "execution_count": 29,
     "metadata": {},
     "output_type": "execute_result"
    }
   ],
   "source": [
    "mean_labels=loan_train.groupby(['Application Type'])['Loan Status'].mean().sort_values().index\n",
    "mean_labels"
   ]
  },
  {
   "cell_type": "code",
   "execution_count": 30,
   "metadata": {},
   "outputs": [
    {
     "data": {
      "text/plain": [
       "<enumerate at 0x1e6a0529c00>"
      ]
     },
     "execution_count": 30,
     "metadata": {},
     "output_type": "execute_result"
    }
   ],
   "source": [
    "enumerate(mean_labels,0)"
   ]
  },
  {
   "cell_type": "code",
   "execution_count": 31,
   "metadata": {},
   "outputs": [
    {
     "data": {
      "text/plain": [
       "{'JOINT': 0, 'INDIVIDUAL': 1}"
      ]
     },
     "execution_count": 31,
     "metadata": {},
     "output_type": "execute_result"
    }
   ],
   "source": [
    "mean_labels2={k:i for i,k in enumerate(mean_labels,0)}\n",
    "mean_labels2"
   ]
  },
  {
   "cell_type": "code",
   "execution_count": 32,
   "metadata": {},
   "outputs": [],
   "source": [
    "loan_train['Application Type_mean_labels']=loan_train['Application Type'].map(mean_labels2)"
   ]
  },
  {
   "cell_type": "code",
   "execution_count": 33,
   "metadata": {},
   "outputs": [],
   "source": [
    "loan_train = loan_train.drop(columns=\"Application Type\")"
   ]
  },
  {
   "cell_type": "markdown",
   "metadata": {},
   "source": [
    "#### Verification Status"
   ]
  },
  {
   "cell_type": "code",
   "execution_count": 34,
   "metadata": {},
   "outputs": [
    {
     "data": {
      "text/plain": [
       "Index(['Verified', 'Not Verified', 'Source Verified'], dtype='object', name='Verification Status')"
      ]
     },
     "execution_count": 34,
     "metadata": {},
     "output_type": "execute_result"
    }
   ],
   "source": [
    "mean_labels=loan_train.groupby(['Verification Status'])['Loan Status'].mean().sort_values().index\n",
    "mean_labels"
   ]
  },
  {
   "cell_type": "code",
   "execution_count": 35,
   "metadata": {},
   "outputs": [
    {
     "data": {
      "text/plain": [
       "<enumerate at 0x1e6a0798140>"
      ]
     },
     "execution_count": 35,
     "metadata": {},
     "output_type": "execute_result"
    }
   ],
   "source": [
    "enumerate(mean_labels,0)"
   ]
  },
  {
   "cell_type": "code",
   "execution_count": 36,
   "metadata": {},
   "outputs": [
    {
     "data": {
      "text/plain": [
       "{'Verified': 0, 'Not Verified': 1, 'Source Verified': 2}"
      ]
     },
     "execution_count": 36,
     "metadata": {},
     "output_type": "execute_result"
    }
   ],
   "source": [
    "mean_labels2={k:i for i,k in enumerate(mean_labels,0)}\n",
    "mean_labels2"
   ]
  },
  {
   "cell_type": "code",
   "execution_count": 37,
   "metadata": {},
   "outputs": [],
   "source": [
    "loan_train['Verification Status_mean_labels']=loan_train['Verification Status'].map(mean_labels2)"
   ]
  },
  {
   "cell_type": "code",
   "execution_count": 38,
   "metadata": {},
   "outputs": [],
   "source": [
    "loan_train = loan_train.drop(columns=\"Verification Status\")"
   ]
  },
  {
   "cell_type": "markdown",
   "metadata": {},
   "source": [
    "###### Payment Plan"
   ]
  },
  {
   "cell_type": "code",
   "execution_count": 39,
   "metadata": {},
   "outputs": [
    {
     "data": {
      "text/plain": [
       "Index(['n'], dtype='object', name='Payment Plan')"
      ]
     },
     "execution_count": 39,
     "metadata": {},
     "output_type": "execute_result"
    }
   ],
   "source": [
    "mean_labels=loan_train.groupby(['Payment Plan'])['Loan Status'].mean().sort_values().index\n",
    "mean_labels"
   ]
  },
  {
   "cell_type": "code",
   "execution_count": 40,
   "metadata": {},
   "outputs": [
    {
     "data": {
      "text/plain": [
       "<enumerate at 0x1e6a07a09c0>"
      ]
     },
     "execution_count": 40,
     "metadata": {},
     "output_type": "execute_result"
    }
   ],
   "source": [
    "enumerate(mean_labels,0)"
   ]
  },
  {
   "cell_type": "code",
   "execution_count": 41,
   "metadata": {},
   "outputs": [
    {
     "data": {
      "text/plain": [
       "{'n': 0}"
      ]
     },
     "execution_count": 41,
     "metadata": {},
     "output_type": "execute_result"
    }
   ],
   "source": [
    "mean_labels2={k:i for i,k in enumerate(mean_labels,0)}\n",
    "mean_labels2"
   ]
  },
  {
   "cell_type": "code",
   "execution_count": 42,
   "metadata": {},
   "outputs": [],
   "source": [
    "loan_train['Payment Plan_mean_labels']=loan_train['Payment Plan'].map(mean_labels2)"
   ]
  },
  {
   "cell_type": "code",
   "execution_count": 43,
   "metadata": {},
   "outputs": [],
   "source": [
    "loan_train = loan_train.drop(columns=\"Payment Plan\")"
   ]
  },
  {
   "cell_type": "markdown",
   "metadata": {},
   "source": [
    "### Similarly for the test dataset"
   ]
  },
  {
   "cell_type": "code",
   "execution_count": 44,
   "metadata": {},
   "outputs": [
    {
     "data": {
      "text/plain": [
       "Index(['ID', 'Loan Amount', 'Funded Amount', 'Funded Amount Investor', 'Term',\n",
       "       'Batch Enrolled', 'Interest Rate', 'Grade', 'Sub Grade',\n",
       "       'Employment Duration', 'Home Ownership', 'Verification Status',\n",
       "       'Payment Plan', 'Loan Title', 'Debit to Income',\n",
       "       'Delinquency - two years', 'Inquires - six months', 'Open Account',\n",
       "       'Public Record', 'Revolving Balance', 'Revolving Utilities',\n",
       "       'Total Accounts', 'Initial List Status', 'Total Received Interest',\n",
       "       'Total Received Late Fee', 'Recoveries', 'Collection Recovery Fee',\n",
       "       'Collection 12 months Medical', 'Application Type', 'Last week Pay',\n",
       "       'Accounts Delinquent', 'Total Collection Amount',\n",
       "       'Total Current Balance', 'Total Revolving Credit Limit', 'Loan Status'],\n",
       "      dtype='object')"
      ]
     },
     "execution_count": 44,
     "metadata": {},
     "output_type": "execute_result"
    }
   ],
   "source": [
    "loan_test.columns"
   ]
  },
  {
   "cell_type": "markdown",
   "metadata": {},
   "source": [
    "#### Grade"
   ]
  },
  {
   "cell_type": "code",
   "execution_count": 45,
   "metadata": {},
   "outputs": [
    {
     "data": {
      "text/plain": [
       "Index(['A', 'B', 'C', 'D', 'E', 'F', 'G'], dtype='object', name='Grade')"
      ]
     },
     "execution_count": 45,
     "metadata": {},
     "output_type": "execute_result"
    }
   ],
   "source": [
    "mean_labels=loan_test.groupby(['Grade'])['Loan Status'].mean().sort_values().index\n",
    "mean_labels"
   ]
  },
  {
   "cell_type": "code",
   "execution_count": 46,
   "metadata": {},
   "outputs": [
    {
     "data": {
      "text/plain": [
       "<enumerate at 0x1e6a0796d00>"
      ]
     },
     "execution_count": 46,
     "metadata": {},
     "output_type": "execute_result"
    }
   ],
   "source": [
    "enumerate(mean_labels,0)"
   ]
  },
  {
   "cell_type": "code",
   "execution_count": 47,
   "metadata": {},
   "outputs": [
    {
     "data": {
      "text/plain": [
       "{'A': 0, 'B': 1, 'C': 2, 'D': 3, 'E': 4, 'F': 5, 'G': 6}"
      ]
     },
     "execution_count": 47,
     "metadata": {},
     "output_type": "execute_result"
    }
   ],
   "source": [
    "mean_labels2={k:i for i,k in enumerate(mean_labels,0)}\n",
    "mean_labels2"
   ]
  },
  {
   "cell_type": "code",
   "execution_count": 48,
   "metadata": {},
   "outputs": [],
   "source": [
    "loan_test['Grade_mean_labels']=loan_test['Grade'].map(mean_labels2)"
   ]
  },
  {
   "cell_type": "code",
   "execution_count": 49,
   "metadata": {},
   "outputs": [],
   "source": [
    "loan_test = loan_test.drop(columns=\"Grade\")"
   ]
  },
  {
   "cell_type": "markdown",
   "metadata": {},
   "source": [
    "#### Employment Duration "
   ]
  },
  {
   "cell_type": "code",
   "execution_count": 50,
   "metadata": {},
   "outputs": [
    {
     "data": {
      "text/plain": [
       "Index(['MORTGAGE', 'OWN', 'RENT'], dtype='object', name='Employment Duration')"
      ]
     },
     "execution_count": 50,
     "metadata": {},
     "output_type": "execute_result"
    }
   ],
   "source": [
    "mean_labels=loan_test.groupby(['Employment Duration'])['Loan Status'].mean().sort_values().index\n",
    "mean_labels"
   ]
  },
  {
   "cell_type": "code",
   "execution_count": 51,
   "metadata": {},
   "outputs": [
    {
     "data": {
      "text/plain": [
       "<enumerate at 0x1e6a07a9640>"
      ]
     },
     "execution_count": 51,
     "metadata": {},
     "output_type": "execute_result"
    }
   ],
   "source": [
    "enumerate(mean_labels,0)"
   ]
  },
  {
   "cell_type": "code",
   "execution_count": 52,
   "metadata": {},
   "outputs": [
    {
     "data": {
      "text/plain": [
       "{'MORTGAGE': 0, 'OWN': 1, 'RENT': 2}"
      ]
     },
     "execution_count": 52,
     "metadata": {},
     "output_type": "execute_result"
    }
   ],
   "source": [
    "mean_labels2={k:i for i,k in enumerate(mean_labels,0)}\n",
    "mean_labels2"
   ]
  },
  {
   "cell_type": "code",
   "execution_count": 53,
   "metadata": {},
   "outputs": [],
   "source": [
    "loan_test['Employment Duration_mean_labels']=loan_test['Employment Duration'].map(mean_labels2)"
   ]
  },
  {
   "cell_type": "code",
   "execution_count": 54,
   "metadata": {},
   "outputs": [],
   "source": [
    "loan_test = loan_test.drop(columns=\"Employment Duration\")"
   ]
  },
  {
   "cell_type": "markdown",
   "metadata": {},
   "source": [
    "#### Application Type"
   ]
  },
  {
   "cell_type": "code",
   "execution_count": 55,
   "metadata": {},
   "outputs": [
    {
     "data": {
      "text/plain": [
       "Index(['INDIVIDUAL', 'JOINT'], dtype='object', name='Application Type')"
      ]
     },
     "execution_count": 55,
     "metadata": {},
     "output_type": "execute_result"
    }
   ],
   "source": [
    "mean_labels=loan_test.groupby(['Application Type'])['Loan Status'].mean().sort_values().index\n",
    "mean_labels"
   ]
  },
  {
   "cell_type": "code",
   "execution_count": 56,
   "metadata": {},
   "outputs": [
    {
     "data": {
      "text/plain": [
       "<enumerate at 0x1e6a0501480>"
      ]
     },
     "execution_count": 56,
     "metadata": {},
     "output_type": "execute_result"
    }
   ],
   "source": [
    "enumerate(mean_labels,0)"
   ]
  },
  {
   "cell_type": "code",
   "execution_count": 57,
   "metadata": {},
   "outputs": [
    {
     "data": {
      "text/plain": [
       "{'INDIVIDUAL': 0, 'JOINT': 1}"
      ]
     },
     "execution_count": 57,
     "metadata": {},
     "output_type": "execute_result"
    }
   ],
   "source": [
    "mean_labels2={k:i for i,k in enumerate(mean_labels,0)}\n",
    "mean_labels2"
   ]
  },
  {
   "cell_type": "code",
   "execution_count": 58,
   "metadata": {},
   "outputs": [],
   "source": [
    "loan_test['Application Type_mean_labels']=loan_test['Application Type'].map(mean_labels2)"
   ]
  },
  {
   "cell_type": "code",
   "execution_count": 59,
   "metadata": {},
   "outputs": [],
   "source": [
    "loan_test = loan_test.drop(columns=\"Application Type\")"
   ]
  },
  {
   "cell_type": "markdown",
   "metadata": {},
   "source": [
    "#### Verification Status"
   ]
  },
  {
   "cell_type": "code",
   "execution_count": 60,
   "metadata": {},
   "outputs": [
    {
     "data": {
      "text/plain": [
       "Index(['Not Verified', 'Source Verified', 'Verified'], dtype='object', name='Verification Status')"
      ]
     },
     "execution_count": 60,
     "metadata": {},
     "output_type": "execute_result"
    }
   ],
   "source": [
    "mean_labels=loan_test.groupby(['Verification Status'])['Loan Status'].mean().sort_values().index\n",
    "mean_labels"
   ]
  },
  {
   "cell_type": "code",
   "execution_count": 61,
   "metadata": {},
   "outputs": [
    {
     "data": {
      "text/plain": [
       "<enumerate at 0x1e6a07b09c0>"
      ]
     },
     "execution_count": 61,
     "metadata": {},
     "output_type": "execute_result"
    }
   ],
   "source": [
    "enumerate(mean_labels,0)"
   ]
  },
  {
   "cell_type": "code",
   "execution_count": 62,
   "metadata": {},
   "outputs": [
    {
     "data": {
      "text/plain": [
       "{'Not Verified': 0, 'Source Verified': 1, 'Verified': 2}"
      ]
     },
     "execution_count": 62,
     "metadata": {},
     "output_type": "execute_result"
    }
   ],
   "source": [
    "mean_labels2={k:i for i,k in enumerate(mean_labels,0)}\n",
    "mean_labels2"
   ]
  },
  {
   "cell_type": "code",
   "execution_count": 63,
   "metadata": {},
   "outputs": [],
   "source": [
    "loan_test['Verification Status_mean_labels']=loan_test['Verification Status'].map(mean_labels2)"
   ]
  },
  {
   "cell_type": "code",
   "execution_count": 64,
   "metadata": {},
   "outputs": [],
   "source": [
    "loan_test = loan_test.drop(columns=\"Verification Status\")"
   ]
  },
  {
   "cell_type": "markdown",
   "metadata": {},
   "source": [
    "###### Payment Plan"
   ]
  },
  {
   "cell_type": "code",
   "execution_count": 65,
   "metadata": {},
   "outputs": [
    {
     "data": {
      "text/plain": [
       "Index(['n'], dtype='object', name='Payment Plan')"
      ]
     },
     "execution_count": 65,
     "metadata": {},
     "output_type": "execute_result"
    }
   ],
   "source": [
    "mean_labels=loan_test.groupby(['Payment Plan'])['Loan Status'].mean().sort_values().index\n",
    "mean_labels"
   ]
  },
  {
   "cell_type": "code",
   "execution_count": 66,
   "metadata": {},
   "outputs": [
    {
     "data": {
      "text/plain": [
       "<enumerate at 0x1e6a07b6880>"
      ]
     },
     "execution_count": 66,
     "metadata": {},
     "output_type": "execute_result"
    }
   ],
   "source": [
    "enumerate(mean_labels,0)"
   ]
  },
  {
   "cell_type": "code",
   "execution_count": 67,
   "metadata": {},
   "outputs": [
    {
     "data": {
      "text/plain": [
       "{'n': 0}"
      ]
     },
     "execution_count": 67,
     "metadata": {},
     "output_type": "execute_result"
    }
   ],
   "source": [
    "mean_labels2={k:i for i,k in enumerate(mean_labels,0)}\n",
    "mean_labels2"
   ]
  },
  {
   "cell_type": "code",
   "execution_count": 68,
   "metadata": {},
   "outputs": [],
   "source": [
    "loan_test['Payment Plan_mean_labels']=loan_test['Payment Plan'].map(mean_labels2)"
   ]
  },
  {
   "cell_type": "code",
   "execution_count": 69,
   "metadata": {},
   "outputs": [],
   "source": [
    "loan_test = loan_test.drop(columns=\"Payment Plan\")"
   ]
  },
  {
   "cell_type": "markdown",
   "metadata": {},
   "source": [
    "#### Label Encoding For Train And Test Dataset"
   ]
  },
  {
   "cell_type": "code",
   "execution_count": 70,
   "metadata": {},
   "outputs": [
    {
     "data": {
      "text/plain": [
       "array([16,  4, 11, 15, 32, 29, 31, 17, 10, 13, 14, 39, 20, 19, 34, 37,  9,\n",
       "       30, 25,  7, 27, 38,  2, 26, 21,  3, 18, 28,  0, 40,  8,  6, 33, 24,\n",
       "       36, 35, 12, 23, 22,  5,  1])"
      ]
     },
     "execution_count": 70,
     "metadata": {},
     "output_type": "execute_result"
    }
   ],
   "source": [
    "from sklearn import preprocessing\n",
    " \n",
    "# label_encoder object knows how to understand word labels.\n",
    "label_encoder = preprocessing.LabelEncoder()\n",
    " \n",
    "# Encode labels in Rest Object Columns.\n",
    "loan_train['Batch Enrolled']= label_encoder.fit_transform(loan_train['Batch Enrolled'])\n",
    " \n",
    "loan_train['Batch Enrolled'].unique()"
   ]
  },
  {
   "cell_type": "code",
   "execution_count": 71,
   "metadata": {},
   "outputs": [],
   "source": [
    "loan_train['Sub Grade']= label_encoder.fit_transform(loan_train['Sub Grade'])"
   ]
  },
  {
   "cell_type": "code",
   "execution_count": 72,
   "metadata": {},
   "outputs": [],
   "source": [
    "loan_train['Loan Title']= label_encoder.fit_transform(loan_train['Loan Title'])"
   ]
  },
  {
   "cell_type": "code",
   "execution_count": 73,
   "metadata": {},
   "outputs": [],
   "source": [
    "loan_train['Initial List Status']= label_encoder.fit_transform(loan_train['Initial List Status'])"
   ]
  },
  {
   "cell_type": "markdown",
   "metadata": {},
   "source": [
    "#### Similarly For Test Dataset"
   ]
  },
  {
   "cell_type": "code",
   "execution_count": 74,
   "metadata": {},
   "outputs": [],
   "source": [
    "loan_test['Batch Enrolled']= label_encoder.fit_transform(loan_test['Batch Enrolled'])"
   ]
  },
  {
   "cell_type": "code",
   "execution_count": 75,
   "metadata": {},
   "outputs": [],
   "source": [
    "loan_test['Sub Grade']= label_encoder.fit_transform(loan_test['Sub Grade'])"
   ]
  },
  {
   "cell_type": "code",
   "execution_count": 76,
   "metadata": {},
   "outputs": [],
   "source": [
    "loan_test['Loan Title']= label_encoder.fit_transform(loan_test['Loan Title'])"
   ]
  },
  {
   "cell_type": "code",
   "execution_count": 77,
   "metadata": {},
   "outputs": [],
   "source": [
    "loan_test['Initial List Status']= label_encoder.fit_transform(loan_test['Initial List Status'])"
   ]
  },
  {
   "cell_type": "code",
   "execution_count": 78,
   "metadata": {},
   "outputs": [],
   "source": [
    "### Checking the dtypes for the dataset"
   ]
  },
  {
   "cell_type": "code",
   "execution_count": 79,
   "metadata": {},
   "outputs": [
    {
     "data": {
      "text/plain": [
       "ID                                      int64\n",
       "Loan Amount                             int64\n",
       "Funded Amount                           int64\n",
       "Funded Amount Investor                float64\n",
       "Term                                    int64\n",
       "Batch Enrolled                          int32\n",
       "Interest Rate                         float64\n",
       "Sub Grade                               int32\n",
       "Home Ownership                        float64\n",
       "Loan Title                              int32\n",
       "Debit to Income                       float64\n",
       "Delinquency - two years                 int64\n",
       "Inquires - six months                   int64\n",
       "Open Account                            int64\n",
       "Public Record                           int64\n",
       "Revolving Balance                       int64\n",
       "Revolving Utilities                   float64\n",
       "Total Accounts                          int64\n",
       "Initial List Status                     int32\n",
       "Total Received Interest               float64\n",
       "Total Received Late Fee               float64\n",
       "Recoveries                            float64\n",
       "Collection Recovery Fee               float64\n",
       "Collection 12 months Medical            int64\n",
       "Last week Pay                           int64\n",
       "Accounts Delinquent                     int64\n",
       "Total Collection Amount                 int64\n",
       "Total Current Balance                   int64\n",
       "Total Revolving Credit Limit            int64\n",
       "Loan Status                             int64\n",
       "Grade_mean_labels                       int64\n",
       "Employment Duration_ordinal_labels      int64\n",
       "Application Type_mean_labels            int64\n",
       "Verification Status_mean_labels         int64\n",
       "Payment Plan_mean_labels                int64\n",
       "dtype: object"
      ]
     },
     "execution_count": 79,
     "metadata": {},
     "output_type": "execute_result"
    }
   ],
   "source": [
    "loan_train.dtypes"
   ]
  },
  {
   "cell_type": "code",
   "execution_count": 80,
   "metadata": {},
   "outputs": [],
   "source": [
    "X_train = loan_train.drop(columns=\"Loan Status\")"
   ]
  },
  {
   "cell_type": "code",
   "execution_count": 81,
   "metadata": {},
   "outputs": [],
   "source": [
    "y_train = loan_train[\"Loan Status\"]"
   ]
  },
  {
   "cell_type": "code",
   "execution_count": 82,
   "metadata": {},
   "outputs": [],
   "source": [
    "X_test = loan_test.drop(columns=\"Loan Status\")"
   ]
  },
  {
   "cell_type": "code",
   "execution_count": 83,
   "metadata": {},
   "outputs": [],
   "source": [
    "y_test = loan_test[\"Loan Status\"]"
   ]
  },
  {
   "cell_type": "markdown",
   "metadata": {},
   "source": [
    "##### Dimensions "
   ]
  },
  {
   "cell_type": "code",
   "execution_count": 84,
   "metadata": {},
   "outputs": [
    {
     "data": {
      "text/plain": [
       "(67463, 34)"
      ]
     },
     "execution_count": 84,
     "metadata": {},
     "output_type": "execute_result"
    }
   ],
   "source": [
    "X_train.shape"
   ]
  },
  {
   "cell_type": "code",
   "execution_count": 85,
   "metadata": {},
   "outputs": [
    {
     "data": {
      "text/plain": [
       "(28913, 34)"
      ]
     },
     "execution_count": 85,
     "metadata": {},
     "output_type": "execute_result"
    }
   ],
   "source": [
    "X_test.shape"
   ]
  },
  {
   "cell_type": "code",
   "execution_count": 86,
   "metadata": {},
   "outputs": [
    {
     "data": {
      "text/plain": [
       "(67463,)"
      ]
     },
     "execution_count": 86,
     "metadata": {},
     "output_type": "execute_result"
    }
   ],
   "source": [
    "y_train.shape"
   ]
  },
  {
   "cell_type": "code",
   "execution_count": 87,
   "metadata": {},
   "outputs": [
    {
     "data": {
      "text/plain": [
       "(28913,)"
      ]
     },
     "execution_count": 87,
     "metadata": {},
     "output_type": "execute_result"
    }
   ],
   "source": [
    "y_test.shape"
   ]
  },
  {
   "cell_type": "markdown",
   "metadata": {},
   "source": [
    "# Scaling And Normalizarion "
   ]
  },
  {
   "cell_type": "markdown",
   "metadata": {},
   "source": [
    "##### Robust Scaler\n",
    "It is used to scale the feature to median and quantiles\n",
    "Scaling using median and quantiles consists of substracting the median to all the observations, and then dividing by the interquantile difference. The interquantile difference is the difference between the 75th and 25th quantile:\n",
    "\n",
    "IQR = 75th quantile - 25th quantile\n",
    "\n",
    "X_scaled = (X - X.median) / IQR"
   ]
  },
  {
   "cell_type": "code",
   "execution_count": 88,
   "metadata": {},
   "outputs": [
    {
     "data": {
      "text/html": [
       "<div>\n",
       "<style scoped>\n",
       "    .dataframe tbody tr th:only-of-type {\n",
       "        vertical-align: middle;\n",
       "    }\n",
       "\n",
       "    .dataframe tbody tr th {\n",
       "        vertical-align: top;\n",
       "    }\n",
       "\n",
       "    .dataframe thead th {\n",
       "        text-align: right;\n",
       "    }\n",
       "</style>\n",
       "<table border=\"1\" class=\"dataframe\">\n",
       "  <thead>\n",
       "    <tr style=\"text-align: right;\">\n",
       "      <th></th>\n",
       "      <th>ID</th>\n",
       "      <th>Loan Amount</th>\n",
       "      <th>Funded Amount</th>\n",
       "      <th>Funded Amount Investor</th>\n",
       "      <th>Term</th>\n",
       "      <th>Batch Enrolled</th>\n",
       "      <th>Interest Rate</th>\n",
       "      <th>Sub Grade</th>\n",
       "      <th>Home Ownership</th>\n",
       "      <th>Loan Title</th>\n",
       "      <th>...</th>\n",
       "      <th>Last week Pay</th>\n",
       "      <th>Accounts Delinquent</th>\n",
       "      <th>Total Collection Amount</th>\n",
       "      <th>Total Current Balance</th>\n",
       "      <th>Total Revolving Credit Limit</th>\n",
       "      <th>Grade_mean_labels</th>\n",
       "      <th>Employment Duration_ordinal_labels</th>\n",
       "      <th>Application Type_mean_labels</th>\n",
       "      <th>Verification Status_mean_labels</th>\n",
       "      <th>Payment Plan_mean_labels</th>\n",
       "    </tr>\n",
       "  </thead>\n",
       "  <tbody>\n",
       "    <tr>\n",
       "      <th>0</th>\n",
       "      <td>1.305072</td>\n",
       "      <td>-0.502150</td>\n",
       "      <td>1.532272</td>\n",
       "      <td>-0.058215</td>\n",
       "      <td>0.0</td>\n",
       "      <td>-0.157895</td>\n",
       "      <td>-0.049565</td>\n",
       "      <td>0.181818</td>\n",
       "      <td>2.492479</td>\n",
       "      <td>0.000000</td>\n",
       "      <td>...</td>\n",
       "      <td>-0.271429</td>\n",
       "      <td>0.0</td>\n",
       "      <td>-0.227273</td>\n",
       "      <td>1.083912</td>\n",
       "      <td>-0.421575</td>\n",
       "      <td>-0.666667</td>\n",
       "      <td>0.0</td>\n",
       "      <td>0.0</td>\n",
       "      <td>0.0</td>\n",
       "      <td>0.0</td>\n",
       "    </tr>\n",
       "    <tr>\n",
       "      <th>1</th>\n",
       "      <td>-0.455541</td>\n",
       "      <td>-1.030594</td>\n",
       "      <td>-0.087973</td>\n",
       "      <td>-0.075438</td>\n",
       "      <td>0.0</td>\n",
       "      <td>-0.789474</td>\n",
       "      <td>0.175612</td>\n",
       "      <td>0.545455</td>\n",
       "      <td>-0.687154</td>\n",
       "      <td>0.636364</td>\n",
       "      <td>...</td>\n",
       "      <td>0.585714</td>\n",
       "      <td>0.0</td>\n",
       "      <td>0.772727</td>\n",
       "      <td>0.360913</td>\n",
       "      <td>0.173065</td>\n",
       "      <td>0.000000</td>\n",
       "      <td>1.0</td>\n",
       "      <td>0.0</td>\n",
       "      <td>0.5</td>\n",
       "      <td>0.0</td>\n",
       "    </tr>\n",
       "    <tr>\n",
       "      <th>2</th>\n",
       "      <td>-0.441184</td>\n",
       "      <td>1.009013</td>\n",
       "      <td>-0.297849</td>\n",
       "      <td>1.104519</td>\n",
       "      <td>0.0</td>\n",
       "      <td>-0.421053</td>\n",
       "      <td>0.238582</td>\n",
       "      <td>0.636364</td>\n",
       "      <td>0.516400</td>\n",
       "      <td>0.000000</td>\n",
       "      <td>...</td>\n",
       "      <td>-0.028571</td>\n",
       "      <td>0.0</td>\n",
       "      <td>-0.090909</td>\n",
       "      <td>-0.160498</td>\n",
       "      <td>0.392731</td>\n",
       "      <td>1.000000</td>\n",
       "      <td>0.0</td>\n",
       "      <td>0.0</td>\n",
       "      <td>0.5</td>\n",
       "      <td>0.0</td>\n",
       "    </tr>\n",
       "    <tr>\n",
       "      <th>3</th>\n",
       "      <td>-0.311640</td>\n",
       "      <td>-0.405408</td>\n",
       "      <td>-0.486010</td>\n",
       "      <td>0.637354</td>\n",
       "      <td>0.0</td>\n",
       "      <td>-0.210526</td>\n",
       "      <td>1.093358</td>\n",
       "      <td>0.090909</td>\n",
       "      <td>0.907235</td>\n",
       "      <td>0.636364</td>\n",
       "      <td>...</td>\n",
       "      <td>-0.414286</td>\n",
       "      <td>0.0</td>\n",
       "      <td>0.181818</td>\n",
       "      <td>-0.613385</td>\n",
       "      <td>1.812388</td>\n",
       "      <td>0.000000</td>\n",
       "      <td>0.0</td>\n",
       "      <td>0.0</td>\n",
       "      <td>0.5</td>\n",
       "      <td>0.0</td>\n",
       "    </tr>\n",
       "    <tr>\n",
       "      <th>4</th>\n",
       "      <td>-0.098519</td>\n",
       "      <td>0.067554</td>\n",
       "      <td>0.014689</td>\n",
       "      <td>0.093562</td>\n",
       "      <td>0.0</td>\n",
       "      <td>0.684211</td>\n",
       "      <td>0.741486</td>\n",
       "      <td>0.636364</td>\n",
       "      <td>-0.584649</td>\n",
       "      <td>-0.363636</td>\n",
       "      <td>...</td>\n",
       "      <td>-0.714286</td>\n",
       "      <td>0.0</td>\n",
       "      <td>17.909091</td>\n",
       "      <td>0.043035</td>\n",
       "      <td>0.243675</td>\n",
       "      <td>0.000000</td>\n",
       "      <td>0.0</td>\n",
       "      <td>0.0</td>\n",
       "      <td>0.5</td>\n",
       "      <td>0.0</td>\n",
       "    </tr>\n",
       "  </tbody>\n",
       "</table>\n",
       "<p>5 rows × 34 columns</p>\n",
       "</div>"
      ],
      "text/plain": [
       "         ID  Loan Amount  Funded Amount  Funded Amount Investor  Term  \\\n",
       "0  1.305072    -0.502150       1.532272               -0.058215   0.0   \n",
       "1 -0.455541    -1.030594      -0.087973               -0.075438   0.0   \n",
       "2 -0.441184     1.009013      -0.297849                1.104519   0.0   \n",
       "3 -0.311640    -0.405408      -0.486010                0.637354   0.0   \n",
       "4 -0.098519     0.067554       0.014689                0.093562   0.0   \n",
       "\n",
       "   Batch Enrolled  Interest Rate  Sub Grade  Home Ownership  Loan Title  ...  \\\n",
       "0       -0.157895      -0.049565   0.181818        2.492479    0.000000  ...   \n",
       "1       -0.789474       0.175612   0.545455       -0.687154    0.636364  ...   \n",
       "2       -0.421053       0.238582   0.636364        0.516400    0.000000  ...   \n",
       "3       -0.210526       1.093358   0.090909        0.907235    0.636364  ...   \n",
       "4        0.684211       0.741486   0.636364       -0.584649   -0.363636  ...   \n",
       "\n",
       "   Last week Pay  Accounts Delinquent  Total Collection Amount  \\\n",
       "0      -0.271429                  0.0                -0.227273   \n",
       "1       0.585714                  0.0                 0.772727   \n",
       "2      -0.028571                  0.0                -0.090909   \n",
       "3      -0.414286                  0.0                 0.181818   \n",
       "4      -0.714286                  0.0                17.909091   \n",
       "\n",
       "   Total Current Balance  Total Revolving Credit Limit  Grade_mean_labels  \\\n",
       "0               1.083912                     -0.421575          -0.666667   \n",
       "1               0.360913                      0.173065           0.000000   \n",
       "2              -0.160498                      0.392731           1.000000   \n",
       "3              -0.613385                      1.812388           0.000000   \n",
       "4               0.043035                      0.243675           0.000000   \n",
       "\n",
       "   Employment Duration_ordinal_labels  Application Type_mean_labels  \\\n",
       "0                                 0.0                           0.0   \n",
       "1                                 1.0                           0.0   \n",
       "2                                 0.0                           0.0   \n",
       "3                                 0.0                           0.0   \n",
       "4                                 0.0                           0.0   \n",
       "\n",
       "   Verification Status_mean_labels  Payment Plan_mean_labels  \n",
       "0                              0.0                       0.0  \n",
       "1                              0.5                       0.0  \n",
       "2                              0.5                       0.0  \n",
       "3                              0.5                       0.0  \n",
       "4                              0.5                       0.0  \n",
       "\n",
       "[5 rows x 34 columns]"
      ]
     },
     "execution_count": 88,
     "metadata": {},
     "output_type": "execute_result"
    }
   ],
   "source": [
    "from sklearn.preprocessing import RobustScaler\n",
    "scaler=RobustScaler()\n",
    "X_train=pd.DataFrame(scaler.fit_transform(X_train),columns=X_train.columns)\n",
    "X_train.head()"
   ]
  },
  {
   "cell_type": "code",
   "execution_count": 89,
   "metadata": {},
   "outputs": [
    {
     "data": {
      "text/html": [
       "<div>\n",
       "<style scoped>\n",
       "    .dataframe tbody tr th:only-of-type {\n",
       "        vertical-align: middle;\n",
       "    }\n",
       "\n",
       "    .dataframe tbody tr th {\n",
       "        vertical-align: top;\n",
       "    }\n",
       "\n",
       "    .dataframe thead th {\n",
       "        text-align: right;\n",
       "    }\n",
       "</style>\n",
       "<table border=\"1\" class=\"dataframe\">\n",
       "  <thead>\n",
       "    <tr style=\"text-align: right;\">\n",
       "      <th></th>\n",
       "      <th>ID</th>\n",
       "      <th>Loan Amount</th>\n",
       "      <th>Funded Amount</th>\n",
       "      <th>Funded Amount Investor</th>\n",
       "      <th>Term</th>\n",
       "      <th>Batch Enrolled</th>\n",
       "      <th>Interest Rate</th>\n",
       "      <th>Sub Grade</th>\n",
       "      <th>Home Ownership</th>\n",
       "      <th>Loan Title</th>\n",
       "      <th>...</th>\n",
       "      <th>Last week Pay</th>\n",
       "      <th>Accounts Delinquent</th>\n",
       "      <th>Total Collection Amount</th>\n",
       "      <th>Total Current Balance</th>\n",
       "      <th>Total Revolving Credit Limit</th>\n",
       "      <th>Grade_mean_labels</th>\n",
       "      <th>Employment Duration_mean_labels</th>\n",
       "      <th>Application Type_mean_labels</th>\n",
       "      <th>Verification Status_mean_labels</th>\n",
       "      <th>Payment Plan_mean_labels</th>\n",
       "    </tr>\n",
       "  </thead>\n",
       "  <tbody>\n",
       "    <tr>\n",
       "      <th>0</th>\n",
       "      <td>0.757752</td>\n",
       "      <td>0.128000</td>\n",
       "      <td>-0.229054</td>\n",
       "      <td>0.324677</td>\n",
       "      <td>0.0</td>\n",
       "      <td>-0.055556</td>\n",
       "      <td>0.091084</td>\n",
       "      <td>0.4</td>\n",
       "      <td>0.172564</td>\n",
       "      <td>1.000000</td>\n",
       "      <td>...</td>\n",
       "      <td>1.136364</td>\n",
       "      <td>0.0</td>\n",
       "      <td>-0.146341</td>\n",
       "      <td>2.053319</td>\n",
       "      <td>-0.590340</td>\n",
       "      <td>-1.0</td>\n",
       "      <td>1.0</td>\n",
       "      <td>0.0</td>\n",
       "      <td>0.0</td>\n",
       "      <td>0.0</td>\n",
       "    </tr>\n",
       "    <tr>\n",
       "      <th>1</th>\n",
       "      <td>-0.085027</td>\n",
       "      <td>-0.713011</td>\n",
       "      <td>-0.125232</td>\n",
       "      <td>-0.033030</td>\n",
       "      <td>0.0</td>\n",
       "      <td>0.055556</td>\n",
       "      <td>-0.982062</td>\n",
       "      <td>1.1</td>\n",
       "      <td>-0.702040</td>\n",
       "      <td>-1.000000</td>\n",
       "      <td>...</td>\n",
       "      <td>-0.060606</td>\n",
       "      <td>0.0</td>\n",
       "      <td>-0.707317</td>\n",
       "      <td>-0.206781</td>\n",
       "      <td>-0.663338</td>\n",
       "      <td>-0.5</td>\n",
       "      <td>0.0</td>\n",
       "      <td>0.0</td>\n",
       "      <td>0.0</td>\n",
       "      <td>0.0</td>\n",
       "    </tr>\n",
       "    <tr>\n",
       "      <th>2</th>\n",
       "      <td>-0.399743</td>\n",
       "      <td>0.816084</td>\n",
       "      <td>1.020037</td>\n",
       "      <td>-0.137376</td>\n",
       "      <td>0.0</td>\n",
       "      <td>-0.777778</td>\n",
       "      <td>0.582843</td>\n",
       "      <td>0.1</td>\n",
       "      <td>-0.401386</td>\n",
       "      <td>0.000000</td>\n",
       "      <td>...</td>\n",
       "      <td>-0.863636</td>\n",
       "      <td>0.0</td>\n",
       "      <td>-0.097561</td>\n",
       "      <td>0.984382</td>\n",
       "      <td>0.033748</td>\n",
       "      <td>-1.0</td>\n",
       "      <td>0.0</td>\n",
       "      <td>0.0</td>\n",
       "      <td>0.0</td>\n",
       "      <td>0.0</td>\n",
       "    </tr>\n",
       "    <tr>\n",
       "      <th>3</th>\n",
       "      <td>-0.393894</td>\n",
       "      <td>1.278400</td>\n",
       "      <td>-0.285691</td>\n",
       "      <td>0.256556</td>\n",
       "      <td>0.0</td>\n",
       "      <td>0.722222</td>\n",
       "      <td>-0.223245</td>\n",
       "      <td>-1.0</td>\n",
       "      <td>-0.000600</td>\n",
       "      <td>-0.636364</td>\n",
       "      <td>...</td>\n",
       "      <td>-0.590909</td>\n",
       "      <td>0.0</td>\n",
       "      <td>0.048780</td>\n",
       "      <td>-0.383818</td>\n",
       "      <td>-0.473691</td>\n",
       "      <td>-1.0</td>\n",
       "      <td>1.0</td>\n",
       "      <td>0.0</td>\n",
       "      <td>0.5</td>\n",
       "      <td>0.0</td>\n",
       "    </tr>\n",
       "    <tr>\n",
       "      <th>4</th>\n",
       "      <td>0.541270</td>\n",
       "      <td>-0.566063</td>\n",
       "      <td>-0.305486</td>\n",
       "      <td>-0.603712</td>\n",
       "      <td>-1.0</td>\n",
       "      <td>0.555556</td>\n",
       "      <td>-0.324196</td>\n",
       "      <td>-0.4</td>\n",
       "      <td>0.516302</td>\n",
       "      <td>0.000000</td>\n",
       "      <td>...</td>\n",
       "      <td>0.666667</td>\n",
       "      <td>0.0</td>\n",
       "      <td>0.073171</td>\n",
       "      <td>-0.103525</td>\n",
       "      <td>0.297412</td>\n",
       "      <td>0.0</td>\n",
       "      <td>0.5</td>\n",
       "      <td>0.0</td>\n",
       "      <td>0.5</td>\n",
       "      <td>0.0</td>\n",
       "    </tr>\n",
       "  </tbody>\n",
       "</table>\n",
       "<p>5 rows × 34 columns</p>\n",
       "</div>"
      ],
      "text/plain": [
       "         ID  Loan Amount  Funded Amount  Funded Amount Investor  Term  \\\n",
       "0  0.757752     0.128000      -0.229054                0.324677   0.0   \n",
       "1 -0.085027    -0.713011      -0.125232               -0.033030   0.0   \n",
       "2 -0.399743     0.816084       1.020037               -0.137376   0.0   \n",
       "3 -0.393894     1.278400      -0.285691                0.256556   0.0   \n",
       "4  0.541270    -0.566063      -0.305486               -0.603712  -1.0   \n",
       "\n",
       "   Batch Enrolled  Interest Rate  Sub Grade  Home Ownership  Loan Title  ...  \\\n",
       "0       -0.055556       0.091084        0.4        0.172564    1.000000  ...   \n",
       "1        0.055556      -0.982062        1.1       -0.702040   -1.000000  ...   \n",
       "2       -0.777778       0.582843        0.1       -0.401386    0.000000  ...   \n",
       "3        0.722222      -0.223245       -1.0       -0.000600   -0.636364  ...   \n",
       "4        0.555556      -0.324196       -0.4        0.516302    0.000000  ...   \n",
       "\n",
       "   Last week Pay  Accounts Delinquent  Total Collection Amount  \\\n",
       "0       1.136364                  0.0                -0.146341   \n",
       "1      -0.060606                  0.0                -0.707317   \n",
       "2      -0.863636                  0.0                -0.097561   \n",
       "3      -0.590909                  0.0                 0.048780   \n",
       "4       0.666667                  0.0                 0.073171   \n",
       "\n",
       "   Total Current Balance  Total Revolving Credit Limit  Grade_mean_labels  \\\n",
       "0               2.053319                     -0.590340               -1.0   \n",
       "1              -0.206781                     -0.663338               -0.5   \n",
       "2               0.984382                      0.033748               -1.0   \n",
       "3              -0.383818                     -0.473691               -1.0   \n",
       "4              -0.103525                      0.297412                0.0   \n",
       "\n",
       "   Employment Duration_mean_labels  Application Type_mean_labels  \\\n",
       "0                              1.0                           0.0   \n",
       "1                              0.0                           0.0   \n",
       "2                              0.0                           0.0   \n",
       "3                              1.0                           0.0   \n",
       "4                              0.5                           0.0   \n",
       "\n",
       "   Verification Status_mean_labels  Payment Plan_mean_labels  \n",
       "0                              0.0                       0.0  \n",
       "1                              0.0                       0.0  \n",
       "2                              0.0                       0.0  \n",
       "3                              0.5                       0.0  \n",
       "4                              0.5                       0.0  \n",
       "\n",
       "[5 rows x 34 columns]"
      ]
     },
     "execution_count": 89,
     "metadata": {},
     "output_type": "execute_result"
    }
   ],
   "source": [
    "from sklearn.preprocessing import RobustScaler\n",
    "scaler=RobustScaler()\n",
    "X_test=pd.DataFrame(scaler.fit_transform(X_test),columns=X_test.columns)\n",
    "X_test.head()"
   ]
  },
  {
   "cell_type": "markdown",
   "metadata": {},
   "source": [
    "##### DISTRIBUTION OF THE `COLUMNS` "
   ]
  },
  {
   "cell_type": "code",
   "execution_count": 90,
   "metadata": {},
   "outputs": [],
   "source": [
    "import matplotlib.pyplot as plt"
   ]
  },
  {
   "cell_type": "code",
   "execution_count": 91,
   "metadata": {},
   "outputs": [
    {
     "data": {
      "image/png": "[encoded data removed]",
      "text/plain": [
       "<Figure size 1296x360 with 6 Axes>"
      ]
     },
     "metadata": {
      "needs_background": "light"
     },
     "output_type": "display_data"
    }
   ],
   "source": [
    "plt.figure(figsize=(18,5))\n",
    "plt.subplot(1,6,1)\n",
    "plt.hist(X_train['Loan Amount'],bins=20)\n",
    "plt.subplot(1,6,2)\n",
    "plt.hist(X_train['Funded Amount'],bins=20)\n",
    "plt.subplot(1,6,3)\n",
    "plt.hist(X_train['Funded Amount Investor'],bins=20)\n",
    "plt.subplot(1,6,4)\n",
    "plt.hist(X_train['Batch Enrolled'],bins=20)\n",
    "plt.subplot(1,6,5)\n",
    "plt.hist(X_train['Interest Rate'],bins=20)\n",
    "plt.subplot(1,6,6)\n",
    "plt.hist(X_train['Home Ownership'],bins=20)\n",
    "plt.show()"
   ]
  },
  {
   "cell_type": "markdown",
   "metadata": {},
   "source": [
    "### Checking For `Outliers`"
   ]
  },
  {
   "cell_type": "markdown",
   "metadata": {},
   "source": [
    "##### Outlier Treatment"
   ]
  },
  {
   "cell_type": "markdown",
   "metadata": {},
   "source": [
    "Perhaps the most important hyperparameter in the model is the “contamination” argument, which is used to help estimate the number of outliers in the dataset. This is a value between 0.0 and 0.5 and by default is set to 0.1."
   ]
  },
  {
   "cell_type": "markdown",
   "metadata": {},
   "source": [
    "##### Isolation Forest"
   ]
  },
  {
   "cell_type": "markdown",
   "metadata": {},
   "source": [
    "`Isolation Forest`, or iForest for short, is a tree-based anomaly detection algorithm.\n",
    "\n",
    "It is based on modeling the normal data in such a way as to isolate anomalies that are both few in number and different in the feature space.\n",
    "\n",
    "for reference,\n",
    "https://machinelearningmastery.com/model-based-outlier-detection-and-removal-in-python/\n"
   ]
  },
  {
   "cell_type": "code",
   "execution_count": 92,
   "metadata": {},
   "outputs": [],
   "source": [
    "from pandas import read_csv\n",
    "from sklearn.model_selection import train_test_split\n",
    "from sklearn.linear_model import LinearRegression\n",
    "from sklearn.ensemble import IsolationForest\n",
    "from sklearn.metrics import mean_absolute_error"
   ]
  },
  {
   "cell_type": "code",
   "execution_count": 93,
   "metadata": {},
   "outputs": [],
   "source": [
    "# identify outliers in the training dataset\n",
    "iso = IsolationForest(contamination=0.1)\n",
    "yhat = iso.fit_predict(X_train)"
   ]
  },
  {
   "cell_type": "code",
   "execution_count": 94,
   "metadata": {},
   "outputs": [],
   "source": [
    "# select all rows that are not outliers\n",
    "mask = yhat != -1"
   ]
  },
  {
   "cell_type": "code",
   "execution_count": 95,
   "metadata": {},
   "outputs": [],
   "source": [
    "X_train = X_train[mask]"
   ]
  },
  {
   "cell_type": "code",
   "execution_count": 96,
   "metadata": {},
   "outputs": [],
   "source": [
    "y_train = y_train[mask]"
   ]
  },
  {
   "cell_type": "code",
   "execution_count": 97,
   "metadata": {},
   "outputs": [
    {
     "name": "stdout",
     "output_type": "stream",
     "text": [
      "(60716, 34) (60716,)\n"
     ]
    }
   ],
   "source": [
    "# summarize the shape of the updated training dataset\n",
    "print(X_train.shape, y_train.shape)"
   ]
  },
  {
   "cell_type": "markdown",
   "metadata": {},
   "source": [
    "## FEATURE SELECTION "
   ]
  },
  {
   "cell_type": "markdown",
   "metadata": {},
   "source": [
    "#### Univariate Selection"
   ]
  },
  {
   "cell_type": "code",
   "execution_count": 98,
   "metadata": {},
   "outputs": [],
   "source": [
    "from sklearn.feature_selection import SelectKBest\n",
    "from sklearn.feature_selection import chi2"
   ]
  },
  {
   "cell_type": "code",
   "execution_count": 99,
   "metadata": {},
   "outputs": [
    {
     "data": {
      "text/plain": [
       "ExtraTreesClassifier()"
      ]
     },
     "execution_count": 99,
     "metadata": {},
     "output_type": "execute_result"
    }
   ],
   "source": [
    "from sklearn.ensemble import ExtraTreesClassifier\n",
    "import matplotlib.pyplot as plt\n",
    "model=ExtraTreesClassifier()\n",
    "model.fit(X_train,y_train)"
   ]
  },
  {
   "cell_type": "code",
   "execution_count": 100,
   "metadata": {},
   "outputs": [
    {
     "name": "stdout",
     "output_type": "stream",
     "text": [
      "[0.0393263  0.04019786 0.03921439 0.03969459 0.01873325 0.03835857\n",
      " 0.0399369  0.03866194 0.03975933 0.03263748 0.03957788 0.02253316\n",
      " 0.01245903 0.03861881 0.00921616 0.03916621 0.03947818 0.04002472\n",
      " 0.00633919 0.03927748 0.03991926 0.03884573 0.03879721 0.00213901\n",
      " 0.03932833 0.         0.03918178 0.04027746 0.03937386 0.03036047\n",
      " 0.01573351 0.00046428 0.02236769 0.        ]\n"
     ]
    }
   ],
   "source": [
    "print(model.feature_importances_)\n"
   ]
  },
  {
   "cell_type": "code",
   "execution_count": 101,
   "metadata": {},
   "outputs": [
    {
     "data": {
      "image/png": "[encoded data removed]",
      "text/plain": [
       "<Figure size 1080x720 with 1 Axes>"
      ]
     },
     "metadata": {
      "needs_background": "light"
     },
     "output_type": "display_data"
    }
   ],
   "source": [
    "plt.figure(figsize = [15,10])\n",
    "ranked_features=pd.Series(model.feature_importances_,index=X_train.columns)\n",
    "ranked_features.nlargest(20).plot(kind='barh')\n",
    "plt.show()"
   ]
  },
  {
   "cell_type": "markdown",
   "metadata": {},
   "source": [
    "### Importance Of The Features Wrt, `Label/Target Variable`"
   ]
  },
  {
   "cell_type": "code",
   "execution_count": 102,
   "metadata": {},
   "outputs": [
    {
     "data": {
      "text/plain": [
       "Total Current Balance           0.040277\n",
       "Loan Amount                     0.040198\n",
       "Total Accounts                  0.040025\n",
       "Interest Rate                   0.039937\n",
       "Total Received Late Fee         0.039919\n",
       "Home Ownership                  0.039759\n",
       "Funded Amount Investor          0.039695\n",
       "Debit to Income                 0.039578\n",
       "Revolving Utilities             0.039478\n",
       "Total Revolving Credit Limit    0.039374\n",
       "Last week Pay                   0.039328\n",
       "ID                              0.039326\n",
       "Total Received Interest         0.039277\n",
       "Funded Amount                   0.039214\n",
       "Total Collection Amount         0.039182\n",
       "Revolving Balance               0.039166\n",
       "Recoveries                      0.038846\n",
       "Collection Recovery Fee         0.038797\n",
       "Sub Grade                       0.038662\n",
       "Open Account                    0.038619\n",
       "dtype: float64"
      ]
     },
     "execution_count": 102,
     "metadata": {},
     "output_type": "execute_result"
    }
   ],
   "source": [
    "ranked_features.nlargest(20, keep='all')"
   ]
  },
  {
   "cell_type": "markdown",
   "metadata": {},
   "source": [
    "### Correlation - To Check `Multicollinearity`"
   ]
  },
  {
   "cell_type": "code",
   "execution_count": 103,
   "metadata": {},
   "outputs": [
    {
     "data": {
      "text/html": [
       "<div>\n",
       "<style scoped>\n",
       "    .dataframe tbody tr th:only-of-type {\n",
       "        vertical-align: middle;\n",
       "    }\n",
       "\n",
       "    .dataframe tbody tr th {\n",
       "        vertical-align: top;\n",
       "    }\n",
       "\n",
       "    .dataframe thead th {\n",
       "        text-align: right;\n",
       "    }\n",
       "</style>\n",
       "<table border=\"1\" class=\"dataframe\">\n",
       "  <thead>\n",
       "    <tr style=\"text-align: right;\">\n",
       "      <th></th>\n",
       "      <th>ID</th>\n",
       "      <th>Loan Amount</th>\n",
       "      <th>Funded Amount</th>\n",
       "      <th>Funded Amount Investor</th>\n",
       "      <th>Term</th>\n",
       "      <th>Batch Enrolled</th>\n",
       "      <th>Interest Rate</th>\n",
       "      <th>Sub Grade</th>\n",
       "      <th>Home Ownership</th>\n",
       "      <th>Loan Title</th>\n",
       "      <th>...</th>\n",
       "      <th>Last week Pay</th>\n",
       "      <th>Accounts Delinquent</th>\n",
       "      <th>Total Collection Amount</th>\n",
       "      <th>Total Current Balance</th>\n",
       "      <th>Total Revolving Credit Limit</th>\n",
       "      <th>Grade_mean_labels</th>\n",
       "      <th>Employment Duration_ordinal_labels</th>\n",
       "      <th>Application Type_mean_labels</th>\n",
       "      <th>Verification Status_mean_labels</th>\n",
       "      <th>Payment Plan_mean_labels</th>\n",
       "    </tr>\n",
       "  </thead>\n",
       "  <tbody>\n",
       "    <tr>\n",
       "      <th>ID</th>\n",
       "      <td>1.000000</td>\n",
       "      <td>-0.003023</td>\n",
       "      <td>-0.007852</td>\n",
       "      <td>-0.000740</td>\n",
       "      <td>0.010864</td>\n",
       "      <td>0.004296</td>\n",
       "      <td>0.003614</td>\n",
       "      <td>0.007624</td>\n",
       "      <td>-0.003372</td>\n",
       "      <td>0.000605</td>\n",
       "      <td>...</td>\n",
       "      <td>0.003336</td>\n",
       "      <td>NaN</td>\n",
       "      <td>-0.001517</td>\n",
       "      <td>-0.009598</td>\n",
       "      <td>-0.002346</td>\n",
       "      <td>-0.001226</td>\n",
       "      <td>0.000062</td>\n",
       "      <td>0.001031</td>\n",
       "      <td>0.007876</td>\n",
       "      <td>NaN</td>\n",
       "    </tr>\n",
       "    <tr>\n",
       "      <th>Loan Amount</th>\n",
       "      <td>-0.003023</td>\n",
       "      <td>1.000000</td>\n",
       "      <td>-0.002603</td>\n",
       "      <td>0.003634</td>\n",
       "      <td>0.006731</td>\n",
       "      <td>0.002454</td>\n",
       "      <td>-0.005984</td>\n",
       "      <td>-0.005884</td>\n",
       "      <td>0.014311</td>\n",
       "      <td>-0.005567</td>\n",
       "      <td>...</td>\n",
       "      <td>-0.001674</td>\n",
       "      <td>NaN</td>\n",
       "      <td>-0.003175</td>\n",
       "      <td>-0.008088</td>\n",
       "      <td>0.007810</td>\n",
       "      <td>-0.032580</td>\n",
       "      <td>-0.027593</td>\n",
       "      <td>-0.004810</td>\n",
       "      <td>-0.014035</td>\n",
       "      <td>NaN</td>\n",
       "    </tr>\n",
       "    <tr>\n",
       "      <th>Funded Amount</th>\n",
       "      <td>-0.007852</td>\n",
       "      <td>-0.002603</td>\n",
       "      <td>1.000000</td>\n",
       "      <td>0.008099</td>\n",
       "      <td>0.001296</td>\n",
       "      <td>0.002174</td>\n",
       "      <td>-0.001295</td>\n",
       "      <td>0.001328</td>\n",
       "      <td>-0.006782</td>\n",
       "      <td>0.001132</td>\n",
       "      <td>...</td>\n",
       "      <td>-0.002492</td>\n",
       "      <td>NaN</td>\n",
       "      <td>-0.009346</td>\n",
       "      <td>-0.006790</td>\n",
       "      <td>0.004447</td>\n",
       "      <td>-0.006713</td>\n",
       "      <td>0.012622</td>\n",
       "      <td>-0.003896</td>\n",
       "      <td>-0.003036</td>\n",
       "      <td>NaN</td>\n",
       "    </tr>\n",
       "    <tr>\n",
       "      <th>Funded Amount Investor</th>\n",
       "      <td>-0.000740</td>\n",
       "      <td>0.003634</td>\n",
       "      <td>0.008099</td>\n",
       "      <td>1.000000</td>\n",
       "      <td>0.012138</td>\n",
       "      <td>0.000758</td>\n",
       "      <td>-0.006219</td>\n",
       "      <td>-0.004376</td>\n",
       "      <td>-0.000852</td>\n",
       "      <td>-0.000656</td>\n",
       "      <td>...</td>\n",
       "      <td>0.000534</td>\n",
       "      <td>NaN</td>\n",
       "      <td>-0.007650</td>\n",
       "      <td>-0.006308</td>\n",
       "      <td>-0.000502</td>\n",
       "      <td>0.002632</td>\n",
       "      <td>-0.016935</td>\n",
       "      <td>-0.004933</td>\n",
       "      <td>-0.003603</td>\n",
       "      <td>NaN</td>\n",
       "    </tr>\n",
       "    <tr>\n",
       "      <th>Term</th>\n",
       "      <td>0.010864</td>\n",
       "      <td>0.006731</td>\n",
       "      <td>0.001296</td>\n",
       "      <td>0.012138</td>\n",
       "      <td>1.000000</td>\n",
       "      <td>-0.000171</td>\n",
       "      <td>0.003657</td>\n",
       "      <td>-0.002004</td>\n",
       "      <td>0.001790</td>\n",
       "      <td>-0.000629</td>\n",
       "      <td>...</td>\n",
       "      <td>0.009446</td>\n",
       "      <td>NaN</td>\n",
       "      <td>0.013854</td>\n",
       "      <td>0.005568</td>\n",
       "      <td>0.010615</td>\n",
       "      <td>0.020429</td>\n",
       "      <td>0.012242</td>\n",
       "      <td>-0.001058</td>\n",
       "      <td>-0.005619</td>\n",
       "      <td>NaN</td>\n",
       "    </tr>\n",
       "    <tr>\n",
       "      <th>Batch Enrolled</th>\n",
       "      <td>0.004296</td>\n",
       "      <td>0.002454</td>\n",
       "      <td>0.002174</td>\n",
       "      <td>0.000758</td>\n",
       "      <td>-0.000171</td>\n",
       "      <td>1.000000</td>\n",
       "      <td>0.000241</td>\n",
       "      <td>0.002499</td>\n",
       "      <td>-0.000361</td>\n",
       "      <td>-0.001177</td>\n",
       "      <td>...</td>\n",
       "      <td>-0.005169</td>\n",
       "      <td>NaN</td>\n",
       "      <td>-0.004266</td>\n",
       "      <td>-0.010720</td>\n",
       "      <td>0.000003</td>\n",
       "      <td>0.007214</td>\n",
       "      <td>-0.013496</td>\n",
       "      <td>0.001636</td>\n",
       "      <td>0.005791</td>\n",
       "      <td>NaN</td>\n",
       "    </tr>\n",
       "    <tr>\n",
       "      <th>Interest Rate</th>\n",
       "      <td>0.003614</td>\n",
       "      <td>-0.005984</td>\n",
       "      <td>-0.001295</td>\n",
       "      <td>-0.006219</td>\n",
       "      <td>0.003657</td>\n",
       "      <td>0.000241</td>\n",
       "      <td>1.000000</td>\n",
       "      <td>-0.004265</td>\n",
       "      <td>0.005109</td>\n",
       "      <td>0.001565</td>\n",
       "      <td>...</td>\n",
       "      <td>-0.012470</td>\n",
       "      <td>NaN</td>\n",
       "      <td>-0.000701</td>\n",
       "      <td>-0.006113</td>\n",
       "      <td>0.015889</td>\n",
       "      <td>0.009468</td>\n",
       "      <td>0.011980</td>\n",
       "      <td>0.002496</td>\n",
       "      <td>-0.000046</td>\n",
       "      <td>NaN</td>\n",
       "    </tr>\n",
       "    <tr>\n",
       "      <th>Sub Grade</th>\n",
       "      <td>0.007624</td>\n",
       "      <td>-0.005884</td>\n",
       "      <td>0.001328</td>\n",
       "      <td>-0.004376</td>\n",
       "      <td>-0.002004</td>\n",
       "      <td>0.002499</td>\n",
       "      <td>-0.004265</td>\n",
       "      <td>1.000000</td>\n",
       "      <td>0.004362</td>\n",
       "      <td>-0.006336</td>\n",
       "      <td>...</td>\n",
       "      <td>0.005336</td>\n",
       "      <td>NaN</td>\n",
       "      <td>-0.009300</td>\n",
       "      <td>0.005253</td>\n",
       "      <td>0.002182</td>\n",
       "      <td>0.017958</td>\n",
       "      <td>-0.002847</td>\n",
       "      <td>-0.000194</td>\n",
       "      <td>0.007419</td>\n",
       "      <td>NaN</td>\n",
       "    </tr>\n",
       "    <tr>\n",
       "      <th>Home Ownership</th>\n",
       "      <td>-0.003372</td>\n",
       "      <td>0.014311</td>\n",
       "      <td>-0.006782</td>\n",
       "      <td>-0.000852</td>\n",
       "      <td>0.001790</td>\n",
       "      <td>-0.000361</td>\n",
       "      <td>0.005109</td>\n",
       "      <td>0.004362</td>\n",
       "      <td>1.000000</td>\n",
       "      <td>0.002959</td>\n",
       "      <td>...</td>\n",
       "      <td>-0.005615</td>\n",
       "      <td>NaN</td>\n",
       "      <td>-0.005247</td>\n",
       "      <td>-0.000390</td>\n",
       "      <td>0.001840</td>\n",
       "      <td>0.012280</td>\n",
       "      <td>-0.028108</td>\n",
       "      <td>0.001309</td>\n",
       "      <td>-0.011253</td>\n",
       "      <td>NaN</td>\n",
       "    </tr>\n",
       "    <tr>\n",
       "      <th>Loan Title</th>\n",
       "      <td>0.000605</td>\n",
       "      <td>-0.005567</td>\n",
       "      <td>0.001132</td>\n",
       "      <td>-0.000656</td>\n",
       "      <td>-0.000629</td>\n",
       "      <td>-0.001177</td>\n",
       "      <td>0.001565</td>\n",
       "      <td>-0.006336</td>\n",
       "      <td>0.002959</td>\n",
       "      <td>1.000000</td>\n",
       "      <td>...</td>\n",
       "      <td>0.007832</td>\n",
       "      <td>NaN</td>\n",
       "      <td>0.002626</td>\n",
       "      <td>-0.002440</td>\n",
       "      <td>0.001230</td>\n",
       "      <td>0.007151</td>\n",
       "      <td>-0.001809</td>\n",
       "      <td>-0.002024</td>\n",
       "      <td>0.006458</td>\n",
       "      <td>NaN</td>\n",
       "    </tr>\n",
       "    <tr>\n",
       "      <th>Debit to Income</th>\n",
       "      <td>-0.010614</td>\n",
       "      <td>0.007620</td>\n",
       "      <td>0.003337</td>\n",
       "      <td>-0.000426</td>\n",
       "      <td>0.004533</td>\n",
       "      <td>0.004389</td>\n",
       "      <td>-0.008967</td>\n",
       "      <td>-0.010682</td>\n",
       "      <td>0.023146</td>\n",
       "      <td>0.003495</td>\n",
       "      <td>...</td>\n",
       "      <td>0.009060</td>\n",
       "      <td>NaN</td>\n",
       "      <td>-0.002791</td>\n",
       "      <td>-0.011582</td>\n",
       "      <td>-0.008991</td>\n",
       "      <td>-0.017557</td>\n",
       "      <td>-0.009262</td>\n",
       "      <td>0.006572</td>\n",
       "      <td>-0.009451</td>\n",
       "      <td>NaN</td>\n",
       "    </tr>\n",
       "    <tr>\n",
       "      <th>Delinquency - two years</th>\n",
       "      <td>-0.001454</td>\n",
       "      <td>-0.003332</td>\n",
       "      <td>0.004081</td>\n",
       "      <td>-0.005384</td>\n",
       "      <td>0.014721</td>\n",
       "      <td>-0.009255</td>\n",
       "      <td>-0.002038</td>\n",
       "      <td>-0.001414</td>\n",
       "      <td>-0.011181</td>\n",
       "      <td>-0.002587</td>\n",
       "      <td>...</td>\n",
       "      <td>-0.002781</td>\n",
       "      <td>NaN</td>\n",
       "      <td>-0.005208</td>\n",
       "      <td>-0.007696</td>\n",
       "      <td>-0.001611</td>\n",
       "      <td>-0.000573</td>\n",
       "      <td>-0.016360</td>\n",
       "      <td>-0.001352</td>\n",
       "      <td>-0.001143</td>\n",
       "      <td>NaN</td>\n",
       "    </tr>\n",
       "    <tr>\n",
       "      <th>Inquires - six months</th>\n",
       "      <td>-0.016871</td>\n",
       "      <td>0.002572</td>\n",
       "      <td>-0.008777</td>\n",
       "      <td>-0.009522</td>\n",
       "      <td>0.025740</td>\n",
       "      <td>-0.002245</td>\n",
       "      <td>0.004982</td>\n",
       "      <td>-0.019672</td>\n",
       "      <td>-0.004467</td>\n",
       "      <td>-0.000600</td>\n",
       "      <td>...</td>\n",
       "      <td>-0.006260</td>\n",
       "      <td>NaN</td>\n",
       "      <td>-0.012218</td>\n",
       "      <td>-0.013837</td>\n",
       "      <td>-0.011446</td>\n",
       "      <td>-0.008456</td>\n",
       "      <td>-0.013933</td>\n",
       "      <td>0.000034</td>\n",
       "      <td>-0.002440</td>\n",
       "      <td>NaN</td>\n",
       "    </tr>\n",
       "    <tr>\n",
       "      <th>Open Account</th>\n",
       "      <td>-0.004147</td>\n",
       "      <td>0.007915</td>\n",
       "      <td>0.005190</td>\n",
       "      <td>-0.014161</td>\n",
       "      <td>0.016533</td>\n",
       "      <td>0.009141</td>\n",
       "      <td>-0.004511</td>\n",
       "      <td>-0.013090</td>\n",
       "      <td>0.007306</td>\n",
       "      <td>0.000128</td>\n",
       "      <td>...</td>\n",
       "      <td>-0.017377</td>\n",
       "      <td>NaN</td>\n",
       "      <td>-0.013154</td>\n",
       "      <td>-0.012341</td>\n",
       "      <td>0.000102</td>\n",
       "      <td>-0.030534</td>\n",
       "      <td>-0.022181</td>\n",
       "      <td>0.004210</td>\n",
       "      <td>0.006085</td>\n",
       "      <td>NaN</td>\n",
       "    </tr>\n",
       "    <tr>\n",
       "      <th>Public Record</th>\n",
       "      <td>0.002786</td>\n",
       "      <td>-0.003307</td>\n",
       "      <td>-0.000104</td>\n",
       "      <td>-0.004603</td>\n",
       "      <td>0.020432</td>\n",
       "      <td>-0.000131</td>\n",
       "      <td>-0.001165</td>\n",
       "      <td>-0.003648</td>\n",
       "      <td>-0.000481</td>\n",
       "      <td>0.002950</td>\n",
       "      <td>...</td>\n",
       "      <td>-0.002032</td>\n",
       "      <td>NaN</td>\n",
       "      <td>-0.009037</td>\n",
       "      <td>-0.010494</td>\n",
       "      <td>0.000851</td>\n",
       "      <td>0.007201</td>\n",
       "      <td>-0.005702</td>\n",
       "      <td>-0.000400</td>\n",
       "      <td>0.010717</td>\n",
       "      <td>NaN</td>\n",
       "    </tr>\n",
       "    <tr>\n",
       "      <th>Revolving Balance</th>\n",
       "      <td>0.000502</td>\n",
       "      <td>-0.006597</td>\n",
       "      <td>-0.005999</td>\n",
       "      <td>-0.016850</td>\n",
       "      <td>0.019202</td>\n",
       "      <td>-0.001543</td>\n",
       "      <td>0.016452</td>\n",
       "      <td>-0.010512</td>\n",
       "      <td>0.011519</td>\n",
       "      <td>-0.001941</td>\n",
       "      <td>...</td>\n",
       "      <td>-0.015340</td>\n",
       "      <td>NaN</td>\n",
       "      <td>-0.004796</td>\n",
       "      <td>-0.016649</td>\n",
       "      <td>0.014838</td>\n",
       "      <td>0.018713</td>\n",
       "      <td>-0.011757</td>\n",
       "      <td>-0.006310</td>\n",
       "      <td>0.013004</td>\n",
       "      <td>NaN</td>\n",
       "    </tr>\n",
       "    <tr>\n",
       "      <th>Revolving Utilities</th>\n",
       "      <td>0.003032</td>\n",
       "      <td>0.015836</td>\n",
       "      <td>0.004655</td>\n",
       "      <td>-0.005679</td>\n",
       "      <td>-0.000759</td>\n",
       "      <td>0.001673</td>\n",
       "      <td>0.000800</td>\n",
       "      <td>-0.006378</td>\n",
       "      <td>-0.003309</td>\n",
       "      <td>-0.004964</td>\n",
       "      <td>...</td>\n",
       "      <td>0.004649</td>\n",
       "      <td>NaN</td>\n",
       "      <td>-0.000434</td>\n",
       "      <td>-0.020540</td>\n",
       "      <td>-0.008570</td>\n",
       "      <td>-0.030430</td>\n",
       "      <td>-0.008217</td>\n",
       "      <td>-0.002311</td>\n",
       "      <td>0.003068</td>\n",
       "      <td>NaN</td>\n",
       "    </tr>\n",
       "    <tr>\n",
       "      <th>Total Accounts</th>\n",
       "      <td>0.002752</td>\n",
       "      <td>-0.001256</td>\n",
       "      <td>0.008932</td>\n",
       "      <td>-0.000241</td>\n",
       "      <td>0.007024</td>\n",
       "      <td>0.005301</td>\n",
       "      <td>0.007687</td>\n",
       "      <td>-0.000919</td>\n",
       "      <td>0.015711</td>\n",
       "      <td>-0.004772</td>\n",
       "      <td>...</td>\n",
       "      <td>0.014731</td>\n",
       "      <td>NaN</td>\n",
       "      <td>-0.006853</td>\n",
       "      <td>-0.010641</td>\n",
       "      <td>0.029177</td>\n",
       "      <td>-0.012859</td>\n",
       "      <td>0.002962</td>\n",
       "      <td>0.004048</td>\n",
       "      <td>-0.011438</td>\n",
       "      <td>NaN</td>\n",
       "    </tr>\n",
       "    <tr>\n",
       "      <th>Initial List Status</th>\n",
       "      <td>0.002642</td>\n",
       "      <td>0.005083</td>\n",
       "      <td>-0.005555</td>\n",
       "      <td>0.012091</td>\n",
       "      <td>-0.006492</td>\n",
       "      <td>0.011078</td>\n",
       "      <td>0.002226</td>\n",
       "      <td>-0.004227</td>\n",
       "      <td>0.024348</td>\n",
       "      <td>-0.003855</td>\n",
       "      <td>...</td>\n",
       "      <td>-0.009191</td>\n",
       "      <td>NaN</td>\n",
       "      <td>0.000621</td>\n",
       "      <td>-0.016314</td>\n",
       "      <td>-0.014756</td>\n",
       "      <td>-0.049315</td>\n",
       "      <td>-0.092570</td>\n",
       "      <td>-0.006564</td>\n",
       "      <td>-0.026579</td>\n",
       "      <td>NaN</td>\n",
       "    </tr>\n",
       "    <tr>\n",
       "      <th>Total Received Interest</th>\n",
       "      <td>-0.009558</td>\n",
       "      <td>-0.003873</td>\n",
       "      <td>-0.002369</td>\n",
       "      <td>-0.009459</td>\n",
       "      <td>0.013434</td>\n",
       "      <td>-0.007917</td>\n",
       "      <td>0.001243</td>\n",
       "      <td>-0.004944</td>\n",
       "      <td>-0.019561</td>\n",
       "      <td>-0.004069</td>\n",
       "      <td>...</td>\n",
       "      <td>-0.004118</td>\n",
       "      <td>NaN</td>\n",
       "      <td>-0.010394</td>\n",
       "      <td>-0.009734</td>\n",
       "      <td>0.005891</td>\n",
       "      <td>0.003833</td>\n",
       "      <td>-0.002573</td>\n",
       "      <td>0.001151</td>\n",
       "      <td>-0.000362</td>\n",
       "      <td>NaN</td>\n",
       "    </tr>\n",
       "    <tr>\n",
       "      <th>Total Received Late Fee</th>\n",
       "      <td>0.005926</td>\n",
       "      <td>-0.006740</td>\n",
       "      <td>-0.000087</td>\n",
       "      <td>-0.011500</td>\n",
       "      <td>0.019371</td>\n",
       "      <td>0.001263</td>\n",
       "      <td>0.000597</td>\n",
       "      <td>-0.016612</td>\n",
       "      <td>-0.007951</td>\n",
       "      <td>0.005416</td>\n",
       "      <td>...</td>\n",
       "      <td>-0.005220</td>\n",
       "      <td>NaN</td>\n",
       "      <td>-0.009669</td>\n",
       "      <td>-0.005548</td>\n",
       "      <td>-0.009335</td>\n",
       "      <td>-0.004413</td>\n",
       "      <td>-0.018752</td>\n",
       "      <td>-0.002702</td>\n",
       "      <td>0.007667</td>\n",
       "      <td>NaN</td>\n",
       "    </tr>\n",
       "    <tr>\n",
       "      <th>Recoveries</th>\n",
       "      <td>-0.000745</td>\n",
       "      <td>-0.002377</td>\n",
       "      <td>-0.004057</td>\n",
       "      <td>-0.008685</td>\n",
       "      <td>0.012597</td>\n",
       "      <td>-0.001072</td>\n",
       "      <td>0.007843</td>\n",
       "      <td>-0.004708</td>\n",
       "      <td>-0.002933</td>\n",
       "      <td>0.002879</td>\n",
       "      <td>...</td>\n",
       "      <td>-0.008487</td>\n",
       "      <td>NaN</td>\n",
       "      <td>-0.002409</td>\n",
       "      <td>-0.015494</td>\n",
       "      <td>-0.011746</td>\n",
       "      <td>0.005686</td>\n",
       "      <td>-0.022592</td>\n",
       "      <td>0.003352</td>\n",
       "      <td>-0.002299</td>\n",
       "      <td>NaN</td>\n",
       "    </tr>\n",
       "    <tr>\n",
       "      <th>Collection Recovery Fee</th>\n",
       "      <td>-0.005212</td>\n",
       "      <td>-0.000312</td>\n",
       "      <td>0.001576</td>\n",
       "      <td>-0.009794</td>\n",
       "      <td>0.009743</td>\n",
       "      <td>-0.001656</td>\n",
       "      <td>-0.005906</td>\n",
       "      <td>-0.006380</td>\n",
       "      <td>-0.004672</td>\n",
       "      <td>-0.001582</td>\n",
       "      <td>...</td>\n",
       "      <td>0.000804</td>\n",
       "      <td>NaN</td>\n",
       "      <td>-0.009234</td>\n",
       "      <td>-0.010592</td>\n",
       "      <td>-0.000406</td>\n",
       "      <td>-0.000021</td>\n",
       "      <td>-0.003409</td>\n",
       "      <td>0.001808</td>\n",
       "      <td>0.011733</td>\n",
       "      <td>NaN</td>\n",
       "    </tr>\n",
       "    <tr>\n",
       "      <th>Collection 12 months Medical</th>\n",
       "      <td>-0.005659</td>\n",
       "      <td>-0.010743</td>\n",
       "      <td>-0.001559</td>\n",
       "      <td>-0.007601</td>\n",
       "      <td>0.012249</td>\n",
       "      <td>-0.000574</td>\n",
       "      <td>-0.008993</td>\n",
       "      <td>-0.003657</td>\n",
       "      <td>-0.009986</td>\n",
       "      <td>0.001063</td>\n",
       "      <td>...</td>\n",
       "      <td>0.004974</td>\n",
       "      <td>NaN</td>\n",
       "      <td>-0.010404</td>\n",
       "      <td>-0.016302</td>\n",
       "      <td>-0.016578</td>\n",
       "      <td>-0.010749</td>\n",
       "      <td>-0.013148</td>\n",
       "      <td>0.003851</td>\n",
       "      <td>0.010902</td>\n",
       "      <td>NaN</td>\n",
       "    </tr>\n",
       "    <tr>\n",
       "      <th>Last week Pay</th>\n",
       "      <td>0.003336</td>\n",
       "      <td>-0.001674</td>\n",
       "      <td>-0.002492</td>\n",
       "      <td>0.000534</td>\n",
       "      <td>0.009446</td>\n",
       "      <td>-0.005169</td>\n",
       "      <td>-0.012470</td>\n",
       "      <td>0.005336</td>\n",
       "      <td>-0.005615</td>\n",
       "      <td>0.007832</td>\n",
       "      <td>...</td>\n",
       "      <td>1.000000</td>\n",
       "      <td>NaN</td>\n",
       "      <td>-0.002104</td>\n",
       "      <td>-0.001676</td>\n",
       "      <td>-0.004576</td>\n",
       "      <td>-0.000113</td>\n",
       "      <td>0.016666</td>\n",
       "      <td>-0.000211</td>\n",
       "      <td>-0.010103</td>\n",
       "      <td>NaN</td>\n",
       "    </tr>\n",
       "    <tr>\n",
       "      <th>Accounts Delinquent</th>\n",
       "      <td>NaN</td>\n",
       "      <td>NaN</td>\n",
       "      <td>NaN</td>\n",
       "      <td>NaN</td>\n",
       "      <td>NaN</td>\n",
       "      <td>NaN</td>\n",
       "      <td>NaN</td>\n",
       "      <td>NaN</td>\n",
       "      <td>NaN</td>\n",
       "      <td>NaN</td>\n",
       "      <td>...</td>\n",
       "      <td>NaN</td>\n",
       "      <td>NaN</td>\n",
       "      <td>NaN</td>\n",
       "      <td>NaN</td>\n",
       "      <td>NaN</td>\n",
       "      <td>NaN</td>\n",
       "      <td>NaN</td>\n",
       "      <td>NaN</td>\n",
       "      <td>NaN</td>\n",
       "      <td>NaN</td>\n",
       "    </tr>\n",
       "    <tr>\n",
       "      <th>Total Collection Amount</th>\n",
       "      <td>-0.001517</td>\n",
       "      <td>-0.003175</td>\n",
       "      <td>-0.009346</td>\n",
       "      <td>-0.007650</td>\n",
       "      <td>0.013854</td>\n",
       "      <td>-0.004266</td>\n",
       "      <td>-0.000701</td>\n",
       "      <td>-0.009300</td>\n",
       "      <td>-0.005247</td>\n",
       "      <td>0.002626</td>\n",
       "      <td>...</td>\n",
       "      <td>-0.002104</td>\n",
       "      <td>NaN</td>\n",
       "      <td>1.000000</td>\n",
       "      <td>-0.004719</td>\n",
       "      <td>-0.008499</td>\n",
       "      <td>-0.004035</td>\n",
       "      <td>-0.015612</td>\n",
       "      <td>-0.003545</td>\n",
       "      <td>0.000286</td>\n",
       "      <td>NaN</td>\n",
       "    </tr>\n",
       "    <tr>\n",
       "      <th>Total Current Balance</th>\n",
       "      <td>-0.009598</td>\n",
       "      <td>-0.008088</td>\n",
       "      <td>-0.006790</td>\n",
       "      <td>-0.006308</td>\n",
       "      <td>0.005568</td>\n",
       "      <td>-0.010720</td>\n",
       "      <td>-0.006113</td>\n",
       "      <td>0.005253</td>\n",
       "      <td>-0.000390</td>\n",
       "      <td>-0.002440</td>\n",
       "      <td>...</td>\n",
       "      <td>-0.001676</td>\n",
       "      <td>NaN</td>\n",
       "      <td>-0.004719</td>\n",
       "      <td>1.000000</td>\n",
       "      <td>-0.000413</td>\n",
       "      <td>0.024079</td>\n",
       "      <td>0.031228</td>\n",
       "      <td>-0.002110</td>\n",
       "      <td>0.018522</td>\n",
       "      <td>NaN</td>\n",
       "    </tr>\n",
       "    <tr>\n",
       "      <th>Total Revolving Credit Limit</th>\n",
       "      <td>-0.002346</td>\n",
       "      <td>0.007810</td>\n",
       "      <td>0.004447</td>\n",
       "      <td>-0.000502</td>\n",
       "      <td>0.010615</td>\n",
       "      <td>0.000003</td>\n",
       "      <td>0.015889</td>\n",
       "      <td>0.002182</td>\n",
       "      <td>0.001840</td>\n",
       "      <td>0.001230</td>\n",
       "      <td>...</td>\n",
       "      <td>-0.004576</td>\n",
       "      <td>NaN</td>\n",
       "      <td>-0.008499</td>\n",
       "      <td>-0.000413</td>\n",
       "      <td>1.000000</td>\n",
       "      <td>0.018669</td>\n",
       "      <td>-0.004392</td>\n",
       "      <td>-0.002732</td>\n",
       "      <td>0.001593</td>\n",
       "      <td>NaN</td>\n",
       "    </tr>\n",
       "    <tr>\n",
       "      <th>Grade_mean_labels</th>\n",
       "      <td>-0.001226</td>\n",
       "      <td>-0.032580</td>\n",
       "      <td>-0.006713</td>\n",
       "      <td>0.002632</td>\n",
       "      <td>0.020429</td>\n",
       "      <td>0.007214</td>\n",
       "      <td>0.009468</td>\n",
       "      <td>0.017958</td>\n",
       "      <td>0.012280</td>\n",
       "      <td>0.007151</td>\n",
       "      <td>...</td>\n",
       "      <td>-0.000113</td>\n",
       "      <td>NaN</td>\n",
       "      <td>-0.004035</td>\n",
       "      <td>0.024079</td>\n",
       "      <td>0.018669</td>\n",
       "      <td>1.000000</td>\n",
       "      <td>0.072946</td>\n",
       "      <td>-0.010892</td>\n",
       "      <td>0.030666</td>\n",
       "      <td>NaN</td>\n",
       "    </tr>\n",
       "    <tr>\n",
       "      <th>Employment Duration_ordinal_labels</th>\n",
       "      <td>0.000062</td>\n",
       "      <td>-0.027593</td>\n",
       "      <td>0.012622</td>\n",
       "      <td>-0.016935</td>\n",
       "      <td>0.012242</td>\n",
       "      <td>-0.013496</td>\n",
       "      <td>0.011980</td>\n",
       "      <td>-0.002847</td>\n",
       "      <td>-0.028108</td>\n",
       "      <td>-0.001809</td>\n",
       "      <td>...</td>\n",
       "      <td>0.016666</td>\n",
       "      <td>NaN</td>\n",
       "      <td>-0.015612</td>\n",
       "      <td>0.031228</td>\n",
       "      <td>-0.004392</td>\n",
       "      <td>0.072946</td>\n",
       "      <td>1.000000</td>\n",
       "      <td>-0.000962</td>\n",
       "      <td>0.023412</td>\n",
       "      <td>NaN</td>\n",
       "    </tr>\n",
       "    <tr>\n",
       "      <th>Application Type_mean_labels</th>\n",
       "      <td>0.001031</td>\n",
       "      <td>-0.004810</td>\n",
       "      <td>-0.003896</td>\n",
       "      <td>-0.004933</td>\n",
       "      <td>-0.001058</td>\n",
       "      <td>0.001636</td>\n",
       "      <td>0.002496</td>\n",
       "      <td>-0.000194</td>\n",
       "      <td>0.001309</td>\n",
       "      <td>-0.002024</td>\n",
       "      <td>...</td>\n",
       "      <td>-0.000211</td>\n",
       "      <td>NaN</td>\n",
       "      <td>-0.003545</td>\n",
       "      <td>-0.002110</td>\n",
       "      <td>-0.002732</td>\n",
       "      <td>-0.010892</td>\n",
       "      <td>-0.000962</td>\n",
       "      <td>1.000000</td>\n",
       "      <td>0.005437</td>\n",
       "      <td>NaN</td>\n",
       "    </tr>\n",
       "    <tr>\n",
       "      <th>Verification Status_mean_labels</th>\n",
       "      <td>0.007876</td>\n",
       "      <td>-0.014035</td>\n",
       "      <td>-0.003036</td>\n",
       "      <td>-0.003603</td>\n",
       "      <td>-0.005619</td>\n",
       "      <td>0.005791</td>\n",
       "      <td>-0.000046</td>\n",
       "      <td>0.007419</td>\n",
       "      <td>-0.011253</td>\n",
       "      <td>0.006458</td>\n",
       "      <td>...</td>\n",
       "      <td>-0.010103</td>\n",
       "      <td>NaN</td>\n",
       "      <td>0.000286</td>\n",
       "      <td>0.018522</td>\n",
       "      <td>0.001593</td>\n",
       "      <td>0.030666</td>\n",
       "      <td>0.023412</td>\n",
       "      <td>0.005437</td>\n",
       "      <td>1.000000</td>\n",
       "      <td>NaN</td>\n",
       "    </tr>\n",
       "    <tr>\n",
       "      <th>Payment Plan_mean_labels</th>\n",
       "      <td>NaN</td>\n",
       "      <td>NaN</td>\n",
       "      <td>NaN</td>\n",
       "      <td>NaN</td>\n",
       "      <td>NaN</td>\n",
       "      <td>NaN</td>\n",
       "      <td>NaN</td>\n",
       "      <td>NaN</td>\n",
       "      <td>NaN</td>\n",
       "      <td>NaN</td>\n",
       "      <td>...</td>\n",
       "      <td>NaN</td>\n",
       "      <td>NaN</td>\n",
       "      <td>NaN</td>\n",
       "      <td>NaN</td>\n",
       "      <td>NaN</td>\n",
       "      <td>NaN</td>\n",
       "      <td>NaN</td>\n",
       "      <td>NaN</td>\n",
       "      <td>NaN</td>\n",
       "      <td>NaN</td>\n",
       "    </tr>\n",
       "  </tbody>\n",
       "</table>\n",
       "<p>34 rows × 34 columns</p>\n",
       "</div>"
      ],
      "text/plain": [
       "                                          ID  Loan Amount  Funded Amount  \\\n",
       "ID                                  1.000000    -0.003023      -0.007852   \n",
       "Loan Amount                        -0.003023     1.000000      -0.002603   \n",
       "Funded Amount                      -0.007852    -0.002603       1.000000   \n",
       "Funded Amount Investor             -0.000740     0.003634       0.008099   \n",
       "Term                                0.010864     0.006731       0.001296   \n",
       "Batch Enrolled                      0.004296     0.002454       0.002174   \n",
       "Interest Rate                       0.003614    -0.005984      -0.001295   \n",
       "Sub Grade                           0.007624    -0.005884       0.001328   \n",
       "Home Ownership                     -0.003372     0.014311      -0.006782   \n",
       "Loan Title                          0.000605    -0.005567       0.001132   \n",
       "Debit to Income                    -0.010614     0.007620       0.003337   \n",
       "Delinquency - two years            -0.001454    -0.003332       0.004081   \n",
       "Inquires - six months              -0.016871     0.002572      -0.008777   \n",
       "Open Account                       -0.004147     0.007915       0.005190   \n",
       "Public Record                       0.002786    -0.003307      -0.000104   \n",
       "Revolving Balance                   0.000502    -0.006597      -0.005999   \n",
       "Revolving Utilities                 0.003032     0.015836       0.004655   \n",
       "Total Accounts                      0.002752    -0.001256       0.008932   \n",
       "Initial List Status                 0.002642     0.005083      -0.005555   \n",
       "Total Received Interest            -0.009558    -0.003873      -0.002369   \n",
       "Total Received Late Fee             0.005926    -0.006740      -0.000087   \n",
       "Recoveries                         -0.000745    -0.002377      -0.004057   \n",
       "Collection Recovery Fee            -0.005212    -0.000312       0.001576   \n",
       "Collection 12 months Medical       -0.005659    -0.010743      -0.001559   \n",
       "Last week Pay                       0.003336    -0.001674      -0.002492   \n",
       "Accounts Delinquent                      NaN          NaN            NaN   \n",
       "Total Collection Amount            -0.001517    -0.003175      -0.009346   \n",
       "Total Current Balance              -0.009598    -0.008088      -0.006790   \n",
       "Total Revolving Credit Limit       -0.002346     0.007810       0.004447   \n",
       "Grade_mean_labels                  -0.001226    -0.032580      -0.006713   \n",
       "Employment Duration_ordinal_labels  0.000062    -0.027593       0.012622   \n",
       "Application Type_mean_labels        0.001031    -0.004810      -0.003896   \n",
       "Verification Status_mean_labels     0.007876    -0.014035      -0.003036   \n",
       "Payment Plan_mean_labels                 NaN          NaN            NaN   \n",
       "\n",
       "                                    Funded Amount Investor      Term  \\\n",
       "ID                                               -0.000740  0.010864   \n",
       "Loan Amount                                       0.003634  0.006731   \n",
       "Funded Amount                                     0.008099  0.001296   \n",
       "Funded Amount Investor                            1.000000  0.012138   \n",
       "Term                                              0.012138  1.000000   \n",
       "Batch Enrolled                                    0.000758 -0.000171   \n",
       "Interest Rate                                    -0.006219  0.003657   \n",
       "Sub Grade                                        -0.004376 -0.002004   \n",
       "Home Ownership                                   -0.000852  0.001790   \n",
       "Loan Title                                       -0.000656 -0.000629   \n",
       "Debit to Income                                  -0.000426  0.004533   \n",
       "Delinquency - two years                          -0.005384  0.014721   \n",
       "Inquires - six months                            -0.009522  0.025740   \n",
       "Open Account                                     -0.014161  0.016533   \n",
       "Public Record                                    -0.004603  0.020432   \n",
       "Revolving Balance                                -0.016850  0.019202   \n",
       "Revolving Utilities                              -0.005679 -0.000759   \n",
       "Total Accounts                                   -0.000241  0.007024   \n",
       "Initial List Status                               0.012091 -0.006492   \n",
       "Total Received Interest                          -0.009459  0.013434   \n",
       "Total Received Late Fee                          -0.011500  0.019371   \n",
       "Recoveries                                       -0.008685  0.012597   \n",
       "Collection Recovery Fee                          -0.009794  0.009743   \n",
       "Collection 12 months Medical                     -0.007601  0.012249   \n",
       "Last week Pay                                     0.000534  0.009446   \n",
       "Accounts Delinquent                                    NaN       NaN   \n",
       "Total Collection Amount                          -0.007650  0.013854   \n",
       "Total Current Balance                            -0.006308  0.005568   \n",
       "Total Revolving Credit Limit                     -0.000502  0.010615   \n",
       "Grade_mean_labels                                 0.002632  0.020429   \n",
       "Employment Duration_ordinal_labels               -0.016935  0.012242   \n",
       "Application Type_mean_labels                     -0.004933 -0.001058   \n",
       "Verification Status_mean_labels                  -0.003603 -0.005619   \n",
       "Payment Plan_mean_labels                               NaN       NaN   \n",
       "\n",
       "                                    Batch Enrolled  Interest Rate  Sub Grade  \\\n",
       "ID                                        0.004296       0.003614   0.007624   \n",
       "Loan Amount                               0.002454      -0.005984  -0.005884   \n",
       "Funded Amount                             0.002174      -0.001295   0.001328   \n",
       "Funded Amount Investor                    0.000758      -0.006219  -0.004376   \n",
       "Term                                     -0.000171       0.003657  -0.002004   \n",
       "Batch Enrolled                            1.000000       0.000241   0.002499   \n",
       "Interest Rate                             0.000241       1.000000  -0.004265   \n",
       "Sub Grade                                 0.002499      -0.004265   1.000000   \n",
       "Home Ownership                           -0.000361       0.005109   0.004362   \n",
       "Loan Title                               -0.001177       0.001565  -0.006336   \n",
       "Debit to Income                           0.004389      -0.008967  -0.010682   \n",
       "Delinquency - two years                  -0.009255      -0.002038  -0.001414   \n",
       "Inquires - six months                    -0.002245       0.004982  -0.019672   \n",
       "Open Account                              0.009141      -0.004511  -0.013090   \n",
       "Public Record                            -0.000131      -0.001165  -0.003648   \n",
       "Revolving Balance                        -0.001543       0.016452  -0.010512   \n",
       "Revolving Utilities                       0.001673       0.000800  -0.006378   \n",
       "Total Accounts                            0.005301       0.007687  -0.000919   \n",
       "Initial List Status                       0.011078       0.002226  -0.004227   \n",
       "Total Received Interest                  -0.007917       0.001243  -0.004944   \n",
       "Total Received Late Fee                   0.001263       0.000597  -0.016612   \n",
       "Recoveries                               -0.001072       0.007843  -0.004708   \n",
       "Collection Recovery Fee                  -0.001656      -0.005906  -0.006380   \n",
       "Collection 12 months Medical             -0.000574      -0.008993  -0.003657   \n",
       "Last week Pay                            -0.005169      -0.012470   0.005336   \n",
       "Accounts Delinquent                            NaN            NaN        NaN   \n",
       "Total Collection Amount                  -0.004266      -0.000701  -0.009300   \n",
       "Total Current Balance                    -0.010720      -0.006113   0.005253   \n",
       "Total Revolving Credit Limit              0.000003       0.015889   0.002182   \n",
       "Grade_mean_labels                         0.007214       0.009468   0.017958   \n",
       "Employment Duration_ordinal_labels       -0.013496       0.011980  -0.002847   \n",
       "Application Type_mean_labels              0.001636       0.002496  -0.000194   \n",
       "Verification Status_mean_labels           0.005791      -0.000046   0.007419   \n",
       "Payment Plan_mean_labels                       NaN            NaN        NaN   \n",
       "\n",
       "                                    Home Ownership  Loan Title  ...  \\\n",
       "ID                                       -0.003372    0.000605  ...   \n",
       "Loan Amount                               0.014311   -0.005567  ...   \n",
       "Funded Amount                            -0.006782    0.001132  ...   \n",
       "Funded Amount Investor                   -0.000852   -0.000656  ...   \n",
       "Term                                      0.001790   -0.000629  ...   \n",
       "Batch Enrolled                           -0.000361   -0.001177  ...   \n",
       "Interest Rate                             0.005109    0.001565  ...   \n",
       "Sub Grade                                 0.004362   -0.006336  ...   \n",
       "Home Ownership                            1.000000    0.002959  ...   \n",
       "Loan Title                                0.002959    1.000000  ...   \n",
       "Debit to Income                           0.023146    0.003495  ...   \n",
       "Delinquency - two years                  -0.011181   -0.002587  ...   \n",
       "Inquires - six months                    -0.004467   -0.000600  ...   \n",
       "Open Account                              0.007306    0.000128  ...   \n",
       "Public Record                            -0.000481    0.002950  ...   \n",
       "Revolving Balance                         0.011519   -0.001941  ...   \n",
       "Revolving Utilities                      -0.003309   -0.004964  ...   \n",
       "Total Accounts                            0.015711   -0.004772  ...   \n",
       "Initial List Status                       0.024348   -0.003855  ...   \n",
       "Total Received Interest                  -0.019561   -0.004069  ...   \n",
       "Total Received Late Fee                  -0.007951    0.005416  ...   \n",
       "Recoveries                               -0.002933    0.002879  ...   \n",
       "Collection Recovery Fee                  -0.004672   -0.001582  ...   \n",
       "Collection 12 months Medical             -0.009986    0.001063  ...   \n",
       "Last week Pay                            -0.005615    0.007832  ...   \n",
       "Accounts Delinquent                            NaN         NaN  ...   \n",
       "Total Collection Amount                  -0.005247    0.002626  ...   \n",
       "Total Current Balance                    -0.000390   -0.002440  ...   \n",
       "Total Revolving Credit Limit              0.001840    0.001230  ...   \n",
       "Grade_mean_labels                         0.012280    0.007151  ...   \n",
       "Employment Duration_ordinal_labels       -0.028108   -0.001809  ...   \n",
       "Application Type_mean_labels              0.001309   -0.002024  ...   \n",
       "Verification Status_mean_labels          -0.011253    0.006458  ...   \n",
       "Payment Plan_mean_labels                       NaN         NaN  ...   \n",
       "\n",
       "                                    Last week Pay  Accounts Delinquent  \\\n",
       "ID                                       0.003336                  NaN   \n",
       "Loan Amount                             -0.001674                  NaN   \n",
       "Funded Amount                           -0.002492                  NaN   \n",
       "Funded Amount Investor                   0.000534                  NaN   \n",
       "Term                                     0.009446                  NaN   \n",
       "Batch Enrolled                          -0.005169                  NaN   \n",
       "Interest Rate                           -0.012470                  NaN   \n",
       "Sub Grade                                0.005336                  NaN   \n",
       "Home Ownership                          -0.005615                  NaN   \n",
       "Loan Title                               0.007832                  NaN   \n",
       "Debit to Income                          0.009060                  NaN   \n",
       "Delinquency - two years                 -0.002781                  NaN   \n",
       "Inquires - six months                   -0.006260                  NaN   \n",
       "Open Account                            -0.017377                  NaN   \n",
       "Public Record                           -0.002032                  NaN   \n",
       "Revolving Balance                       -0.015340                  NaN   \n",
       "Revolving Utilities                      0.004649                  NaN   \n",
       "Total Accounts                           0.014731                  NaN   \n",
       "Initial List Status                     -0.009191                  NaN   \n",
       "Total Received Interest                 -0.004118                  NaN   \n",
       "Total Received Late Fee                 -0.005220                  NaN   \n",
       "Recoveries                              -0.008487                  NaN   \n",
       "Collection Recovery Fee                  0.000804                  NaN   \n",
       "Collection 12 months Medical             0.004974                  NaN   \n",
       "Last week Pay                            1.000000                  NaN   \n",
       "Accounts Delinquent                           NaN                  NaN   \n",
       "Total Collection Amount                 -0.002104                  NaN   \n",
       "Total Current Balance                   -0.001676                  NaN   \n",
       "Total Revolving Credit Limit            -0.004576                  NaN   \n",
       "Grade_mean_labels                       -0.000113                  NaN   \n",
       "Employment Duration_ordinal_labels       0.016666                  NaN   \n",
       "Application Type_mean_labels            -0.000211                  NaN   \n",
       "Verification Status_mean_labels         -0.010103                  NaN   \n",
       "Payment Plan_mean_labels                      NaN                  NaN   \n",
       "\n",
       "                                    Total Collection Amount  \\\n",
       "ID                                                -0.001517   \n",
       "Loan Amount                                       -0.003175   \n",
       "Funded Amount                                     -0.009346   \n",
       "Funded Amount Investor                            -0.007650   \n",
       "Term                                               0.013854   \n",
       "Batch Enrolled                                    -0.004266   \n",
       "Interest Rate                                     -0.000701   \n",
       "Sub Grade                                         -0.009300   \n",
       "Home Ownership                                    -0.005247   \n",
       "Loan Title                                         0.002626   \n",
       "Debit to Income                                   -0.002791   \n",
       "Delinquency - two years                           -0.005208   \n",
       "Inquires - six months                             -0.012218   \n",
       "Open Account                                      -0.013154   \n",
       "Public Record                                     -0.009037   \n",
       "Revolving Balance                                 -0.004796   \n",
       "Revolving Utilities                               -0.000434   \n",
       "Total Accounts                                    -0.006853   \n",
       "Initial List Status                                0.000621   \n",
       "Total Received Interest                           -0.010394   \n",
       "Total Received Late Fee                           -0.009669   \n",
       "Recoveries                                        -0.002409   \n",
       "Collection Recovery Fee                           -0.009234   \n",
       "Collection 12 months Medical                      -0.010404   \n",
       "Last week Pay                                     -0.002104   \n",
       "Accounts Delinquent                                     NaN   \n",
       "Total Collection Amount                            1.000000   \n",
       "Total Current Balance                             -0.004719   \n",
       "Total Revolving Credit Limit                      -0.008499   \n",
       "Grade_mean_labels                                 -0.004035   \n",
       "Employment Duration_ordinal_labels                -0.015612   \n",
       "Application Type_mean_labels                      -0.003545   \n",
       "Verification Status_mean_labels                    0.000286   \n",
       "Payment Plan_mean_labels                                NaN   \n",
       "\n",
       "                                    Total Current Balance  \\\n",
       "ID                                              -0.009598   \n",
       "Loan Amount                                     -0.008088   \n",
       "Funded Amount                                   -0.006790   \n",
       "Funded Amount Investor                          -0.006308   \n",
       "Term                                             0.005568   \n",
       "Batch Enrolled                                  -0.010720   \n",
       "Interest Rate                                   -0.006113   \n",
       "Sub Grade                                        0.005253   \n",
       "Home Ownership                                  -0.000390   \n",
       "Loan Title                                      -0.002440   \n",
       "Debit to Income                                 -0.011582   \n",
       "Delinquency - two years                         -0.007696   \n",
       "Inquires - six months                           -0.013837   \n",
       "Open Account                                    -0.012341   \n",
       "Public Record                                   -0.010494   \n",
       "Revolving Balance                               -0.016649   \n",
       "Revolving Utilities                             -0.020540   \n",
       "Total Accounts                                  -0.010641   \n",
       "Initial List Status                             -0.016314   \n",
       "Total Received Interest                         -0.009734   \n",
       "Total Received Late Fee                         -0.005548   \n",
       "Recoveries                                      -0.015494   \n",
       "Collection Recovery Fee                         -0.010592   \n",
       "Collection 12 months Medical                    -0.016302   \n",
       "Last week Pay                                   -0.001676   \n",
       "Accounts Delinquent                                   NaN   \n",
       "Total Collection Amount                         -0.004719   \n",
       "Total Current Balance                            1.000000   \n",
       "Total Revolving Credit Limit                    -0.000413   \n",
       "Grade_mean_labels                                0.024079   \n",
       "Employment Duration_ordinal_labels               0.031228   \n",
       "Application Type_mean_labels                    -0.002110   \n",
       "Verification Status_mean_labels                  0.018522   \n",
       "Payment Plan_mean_labels                              NaN   \n",
       "\n",
       "                                    Total Revolving Credit Limit  \\\n",
       "ID                                                     -0.002346   \n",
       "Loan Amount                                             0.007810   \n",
       "Funded Amount                                           0.004447   \n",
       "Funded Amount Investor                                 -0.000502   \n",
       "Term                                                    0.010615   \n",
       "Batch Enrolled                                          0.000003   \n",
       "Interest Rate                                           0.015889   \n",
       "Sub Grade                                               0.002182   \n",
       "Home Ownership                                          0.001840   \n",
       "Loan Title                                              0.001230   \n",
       "Debit to Income                                        -0.008991   \n",
       "Delinquency - two years                                -0.001611   \n",
       "Inquires - six months                                  -0.011446   \n",
       "Open Account                                            0.000102   \n",
       "Public Record                                           0.000851   \n",
       "Revolving Balance                                       0.014838   \n",
       "Revolving Utilities                                    -0.008570   \n",
       "Total Accounts                                          0.029177   \n",
       "Initial List Status                                    -0.014756   \n",
       "Total Received Interest                                 0.005891   \n",
       "Total Received Late Fee                                -0.009335   \n",
       "Recoveries                                             -0.011746   \n",
       "Collection Recovery Fee                                -0.000406   \n",
       "Collection 12 months Medical                           -0.016578   \n",
       "Last week Pay                                          -0.004576   \n",
       "Accounts Delinquent                                          NaN   \n",
       "Total Collection Amount                                -0.008499   \n",
       "Total Current Balance                                  -0.000413   \n",
       "Total Revolving Credit Limit                            1.000000   \n",
       "Grade_mean_labels                                       0.018669   \n",
       "Employment Duration_ordinal_labels                     -0.004392   \n",
       "Application Type_mean_labels                           -0.002732   \n",
       "Verification Status_mean_labels                         0.001593   \n",
       "Payment Plan_mean_labels                                     NaN   \n",
       "\n",
       "                                    Grade_mean_labels  \\\n",
       "ID                                          -0.001226   \n",
       "Loan Amount                                 -0.032580   \n",
       "Funded Amount                               -0.006713   \n",
       "Funded Amount Investor                       0.002632   \n",
       "Term                                         0.020429   \n",
       "Batch Enrolled                               0.007214   \n",
       "Interest Rate                                0.009468   \n",
       "Sub Grade                                    0.017958   \n",
       "Home Ownership                               0.012280   \n",
       "Loan Title                                   0.007151   \n",
       "Debit to Income                             -0.017557   \n",
       "Delinquency - two years                     -0.000573   \n",
       "Inquires - six months                       -0.008456   \n",
       "Open Account                                -0.030534   \n",
       "Public Record                                0.007201   \n",
       "Revolving Balance                            0.018713   \n",
       "Revolving Utilities                         -0.030430   \n",
       "Total Accounts                              -0.012859   \n",
       "Initial List Status                         -0.049315   \n",
       "Total Received Interest                      0.003833   \n",
       "Total Received Late Fee                     -0.004413   \n",
       "Recoveries                                   0.005686   \n",
       "Collection Recovery Fee                     -0.000021   \n",
       "Collection 12 months Medical                -0.010749   \n",
       "Last week Pay                               -0.000113   \n",
       "Accounts Delinquent                               NaN   \n",
       "Total Collection Amount                     -0.004035   \n",
       "Total Current Balance                        0.024079   \n",
       "Total Revolving Credit Limit                 0.018669   \n",
       "Grade_mean_labels                            1.000000   \n",
       "Employment Duration_ordinal_labels           0.072946   \n",
       "Application Type_mean_labels                -0.010892   \n",
       "Verification Status_mean_labels              0.030666   \n",
       "Payment Plan_mean_labels                          NaN   \n",
       "\n",
       "                                    Employment Duration_ordinal_labels  \\\n",
       "ID                                                            0.000062   \n",
       "Loan Amount                                                  -0.027593   \n",
       "Funded Amount                                                 0.012622   \n",
       "Funded Amount Investor                                       -0.016935   \n",
       "Term                                                          0.012242   \n",
       "Batch Enrolled                                               -0.013496   \n",
       "Interest Rate                                                 0.011980   \n",
       "Sub Grade                                                    -0.002847   \n",
       "Home Ownership                                               -0.028108   \n",
       "Loan Title                                                   -0.001809   \n",
       "Debit to Income                                              -0.009262   \n",
       "Delinquency - two years                                      -0.016360   \n",
       "Inquires - six months                                        -0.013933   \n",
       "Open Account                                                 -0.022181   \n",
       "Public Record                                                -0.005702   \n",
       "Revolving Balance                                            -0.011757   \n",
       "Revolving Utilities                                          -0.008217   \n",
       "Total Accounts                                                0.002962   \n",
       "Initial List Status                                          -0.092570   \n",
       "Total Received Interest                                      -0.002573   \n",
       "Total Received Late Fee                                      -0.018752   \n",
       "Recoveries                                                   -0.022592   \n",
       "Collection Recovery Fee                                      -0.003409   \n",
       "Collection 12 months Medical                                 -0.013148   \n",
       "Last week Pay                                                 0.016666   \n",
       "Accounts Delinquent                                                NaN   \n",
       "Total Collection Amount                                      -0.015612   \n",
       "Total Current Balance                                         0.031228   \n",
       "Total Revolving Credit Limit                                 -0.004392   \n",
       "Grade_mean_labels                                             0.072946   \n",
       "Employment Duration_ordinal_labels                            1.000000   \n",
       "Application Type_mean_labels                                 -0.000962   \n",
       "Verification Status_mean_labels                               0.023412   \n",
       "Payment Plan_mean_labels                                           NaN   \n",
       "\n",
       "                                    Application Type_mean_labels  \\\n",
       "ID                                                      0.001031   \n",
       "Loan Amount                                            -0.004810   \n",
       "Funded Amount                                          -0.003896   \n",
       "Funded Amount Investor                                 -0.004933   \n",
       "Term                                                   -0.001058   \n",
       "Batch Enrolled                                          0.001636   \n",
       "Interest Rate                                           0.002496   \n",
       "Sub Grade                                              -0.000194   \n",
       "Home Ownership                                          0.001309   \n",
       "Loan Title                                             -0.002024   \n",
       "Debit to Income                                         0.006572   \n",
       "Delinquency - two years                                -0.001352   \n",
       "Inquires - six months                                   0.000034   \n",
       "Open Account                                            0.004210   \n",
       "Public Record                                          -0.000400   \n",
       "Revolving Balance                                      -0.006310   \n",
       "Revolving Utilities                                    -0.002311   \n",
       "Total Accounts                                          0.004048   \n",
       "Initial List Status                                    -0.006564   \n",
       "Total Received Interest                                 0.001151   \n",
       "Total Received Late Fee                                -0.002702   \n",
       "Recoveries                                              0.003352   \n",
       "Collection Recovery Fee                                 0.001808   \n",
       "Collection 12 months Medical                            0.003851   \n",
       "Last week Pay                                          -0.000211   \n",
       "Accounts Delinquent                                          NaN   \n",
       "Total Collection Amount                                -0.003545   \n",
       "Total Current Balance                                  -0.002110   \n",
       "Total Revolving Credit Limit                           -0.002732   \n",
       "Grade_mean_labels                                      -0.010892   \n",
       "Employment Duration_ordinal_labels                     -0.000962   \n",
       "Application Type_mean_labels                            1.000000   \n",
       "Verification Status_mean_labels                         0.005437   \n",
       "Payment Plan_mean_labels                                     NaN   \n",
       "\n",
       "                                    Verification Status_mean_labels  \\\n",
       "ID                                                         0.007876   \n",
       "Loan Amount                                               -0.014035   \n",
       "Funded Amount                                             -0.003036   \n",
       "Funded Amount Investor                                    -0.003603   \n",
       "Term                                                      -0.005619   \n",
       "Batch Enrolled                                             0.005791   \n",
       "Interest Rate                                             -0.000046   \n",
       "Sub Grade                                                  0.007419   \n",
       "Home Ownership                                            -0.011253   \n",
       "Loan Title                                                 0.006458   \n",
       "Debit to Income                                           -0.009451   \n",
       "Delinquency - two years                                   -0.001143   \n",
       "Inquires - six months                                     -0.002440   \n",
       "Open Account                                               0.006085   \n",
       "Public Record                                              0.010717   \n",
       "Revolving Balance                                          0.013004   \n",
       "Revolving Utilities                                        0.003068   \n",
       "Total Accounts                                            -0.011438   \n",
       "Initial List Status                                       -0.026579   \n",
       "Total Received Interest                                   -0.000362   \n",
       "Total Received Late Fee                                    0.007667   \n",
       "Recoveries                                                -0.002299   \n",
       "Collection Recovery Fee                                    0.011733   \n",
       "Collection 12 months Medical                               0.010902   \n",
       "Last week Pay                                             -0.010103   \n",
       "Accounts Delinquent                                             NaN   \n",
       "Total Collection Amount                                    0.000286   \n",
       "Total Current Balance                                      0.018522   \n",
       "Total Revolving Credit Limit                               0.001593   \n",
       "Grade_mean_labels                                          0.030666   \n",
       "Employment Duration_ordinal_labels                         0.023412   \n",
       "Application Type_mean_labels                               0.005437   \n",
       "Verification Status_mean_labels                            1.000000   \n",
       "Payment Plan_mean_labels                                        NaN   \n",
       "\n",
       "                                    Payment Plan_mean_labels  \n",
       "ID                                                       NaN  \n",
       "Loan Amount                                              NaN  \n",
       "Funded Amount                                            NaN  \n",
       "Funded Amount Investor                                   NaN  \n",
       "Term                                                     NaN  \n",
       "Batch Enrolled                                           NaN  \n",
       "Interest Rate                                            NaN  \n",
       "Sub Grade                                                NaN  \n",
       "Home Ownership                                           NaN  \n",
       "Loan Title                                               NaN  \n",
       "Debit to Income                                          NaN  \n",
       "Delinquency - two years                                  NaN  \n",
       "Inquires - six months                                    NaN  \n",
       "Open Account                                             NaN  \n",
       "Public Record                                            NaN  \n",
       "Revolving Balance                                        NaN  \n",
       "Revolving Utilities                                      NaN  \n",
       "Total Accounts                                           NaN  \n",
       "Initial List Status                                      NaN  \n",
       "Total Received Interest                                  NaN  \n",
       "Total Received Late Fee                                  NaN  \n",
       "Recoveries                                               NaN  \n",
       "Collection Recovery Fee                                  NaN  \n",
       "Collection 12 months Medical                             NaN  \n",
       "Last week Pay                                            NaN  \n",
       "Accounts Delinquent                                      NaN  \n",
       "Total Collection Amount                                  NaN  \n",
       "Total Current Balance                                    NaN  \n",
       "Total Revolving Credit Limit                             NaN  \n",
       "Grade_mean_labels                                        NaN  \n",
       "Employment Duration_ordinal_labels                       NaN  \n",
       "Application Type_mean_labels                             NaN  \n",
       "Verification Status_mean_labels                          NaN  \n",
       "Payment Plan_mean_labels                                 NaN  \n",
       "\n",
       "[34 rows x 34 columns]"
      ]
     },
     "execution_count": 103,
     "metadata": {},
     "output_type": "execute_result"
    }
   ],
   "source": [
    "X_train.corr()"
   ]
  },
  {
   "cell_type": "code",
   "execution_count": 104,
   "metadata": {},
   "outputs": [
    {
     "data": {
      "text/plain": [
       "<AxesSubplot:>"
      ]
     },
     "execution_count": 104,
     "metadata": {},
     "output_type": "execute_result"
    },
    {
     "data": {
      "image/png": "[encoded data removed]",
      "text/plain": [
       "<Figure size 2160x1080 with 2 Axes>"
      ]
     },
     "metadata": {
      "needs_background": "light"
     },
     "output_type": "display_data"
    }
   ],
   "source": [
    "import seaborn as sns\n",
    "corr=X_train.corr()\n",
    "top_features=corr.index\n",
    "plt.figure(figsize=(30,15))\n",
    "sns.heatmap(X_train[top_features].corr(),annot=True)\n"
   ]
  },
  {
   "cell_type": "markdown",
   "metadata": {},
   "source": [
    "### Reduction Of `Multi Collinearity`"
   ]
  },
  {
   "cell_type": "code",
   "execution_count": 105,
   "metadata": {},
   "outputs": [],
   "source": [
    "threshold=0.6"
   ]
  },
  {
   "cell_type": "code",
   "execution_count": 106,
   "metadata": {},
   "outputs": [],
   "source": [
    "# find and remove correlated features\n",
    "def correlation(dataset, threshold):\n",
    "    col_corr = set()  # Set of all the names of correlated columns\n",
    "    corr_matrix = dataset.corr()\n",
    "    for i in range(len(corr_matrix.columns)):\n",
    "        for j in range(i):\n",
    "            if abs(corr_matrix.iloc[i, j]) > threshold: # we are interested in absolute coeff value\n",
    "                colname = corr_matrix.columns[i]  # getting the name of column\n",
    "                col_corr.add(colname)\n",
    "    return col_corr"
   ]
  },
  {
   "cell_type": "code",
   "execution_count": 107,
   "metadata": {},
   "outputs": [
    {
     "data": {
      "text/plain": [
       "set()"
      ]
     },
     "execution_count": 107,
     "metadata": {},
     "output_type": "execute_result"
    }
   ],
   "source": [
    "correlation(X_train,threshold)"
   ]
  },
  {
   "cell_type": "markdown",
   "metadata": {},
   "source": [
    "#### Information Gain"
   ]
  },
  {
   "cell_type": "code",
   "execution_count": 108,
   "metadata": {},
   "outputs": [],
   "source": [
    "from sklearn.feature_selection import mutual_info_classif"
   ]
  },
  {
   "cell_type": "code",
   "execution_count": 109,
   "metadata": {},
   "outputs": [],
   "source": [
    "mutual_info=mutual_info_classif(X_train,y_train)"
   ]
  },
  {
   "cell_type": "code",
   "execution_count": 110,
   "metadata": {},
   "outputs": [
    {
     "data": {
      "text/plain": [
       "Initial List Status                   0.003009\n",
       "Loan Title                            0.002710\n",
       "Sub Grade                             0.002314\n",
       "Collection Recovery Fee               0.002143\n",
       "Delinquency - two years               0.002037\n",
       "Revolving Utilities                   0.001959\n",
       "Employment Duration_ordinal_labels    0.001486\n",
       "Grade_mean_labels                     0.001435\n",
       "Recoveries                            0.001376\n",
       "Funded Amount Investor                0.001323\n",
       "Term                                  0.001271\n",
       "Verification Status_mean_labels       0.001259\n",
       "Total Collection Amount               0.000975\n",
       "Funded Amount                         0.000972\n",
       "Total Received Interest               0.000906\n",
       "Loan Amount                           0.000807\n",
       "Total Accounts                        0.000731\n",
       "Last week Pay                         0.000655\n",
       "Application Type_mean_labels          0.000505\n",
       "Open Account                          0.000487\n",
       "Total Current Balance                 0.000386\n",
       "Revolving Balance                     0.000352\n",
       "Home Ownership                        0.000086\n",
       "Total Revolving Credit Limit          0.000000\n",
       "Accounts Delinquent                   0.000000\n",
       "ID                                    0.000000\n",
       "Collection 12 months Medical          0.000000\n",
       "Total Received Late Fee               0.000000\n",
       "Public Record                         0.000000\n",
       "Inquires - six months                 0.000000\n",
       "Debit to Income                       0.000000\n",
       "Interest Rate                         0.000000\n",
       "Batch Enrolled                        0.000000\n",
       "Payment Plan_mean_labels              0.000000\n",
       "dtype: float64"
      ]
     },
     "execution_count": 110,
     "metadata": {},
     "output_type": "execute_result"
    }
   ],
   "source": [
    "mutual_data=pd.Series(mutual_info,index=X_train.columns)\n",
    "mutual_data.sort_values(ascending=False)"
   ]
  },
  {
   "cell_type": "markdown",
   "metadata": {},
   "source": [
    "From the above Information, <br>\n",
    "We will be `ignorning` the feature variable with No `Information Gain` <br>\n",
    "\n",
    "- Payment Plan_mean_labels         <br>\n",
    "- Home Ownership          <br>\n",
    "- Debit to Income        <br>\n",
    "- Delinquency - two years        <br>\n",
    "- Revolving Balance       <br>\n",
    "- Total Received Late Fee        <br>\n",
    "- Last week Pay  <br>\n",
    "- Total Accounts <br>\n",
    "- ID <br>\n",
    "- Application Type_mean_labels <br>\n",
    "- Total Collection Amount <br>\n",
    "- Total Revolving Credit Limit <br>"
   ]
  },
  {
   "cell_type": "code",
   "execution_count": 111,
   "metadata": {},
   "outputs": [],
   "source": [
    "X_train = X_train.drop(columns = ['Payment Plan_mean_labels', 'Home Ownership', 'Debit to Income', 'Delinquency - two years', 'Revolving Balance', 'Total Received Late Fee', 'Last week Pay', 'Total Accounts', 'ID', 'Application Type_mean_labels', 'Total Collection Amount', 'Total Revolving Credit Limit'])"
   ]
  },
  {
   "cell_type": "code",
   "execution_count": 112,
   "metadata": {},
   "outputs": [],
   "source": [
    "X_test = X_test.drop(columns = ['Payment Plan_mean_labels', 'Home Ownership', 'Debit to Income', 'Delinquency - two years', 'Revolving Balance', 'Total Received Late Fee', 'Last week Pay', 'Total Accounts', 'ID', 'Application Type_mean_labels', 'Total Collection Amount', 'Total Revolving Credit Limit'])"
   ]
  },
  {
   "cell_type": "markdown",
   "metadata": {},
   "source": [
    "#### Final Dimensions - After Evaluation the Criteria For `Information Gain`"
   ]
  },
  {
   "cell_type": "code",
   "execution_count": 113,
   "metadata": {},
   "outputs": [
    {
     "data": {
      "text/plain": [
       "(60716, 22)"
      ]
     },
     "execution_count": 113,
     "metadata": {},
     "output_type": "execute_result"
    }
   ],
   "source": [
    "X_train.shape"
   ]
  },
  {
   "cell_type": "code",
   "execution_count": 114,
   "metadata": {},
   "outputs": [
    {
     "data": {
      "text/plain": [
       "(28913, 22)"
      ]
     },
     "execution_count": 114,
     "metadata": {},
     "output_type": "execute_result"
    }
   ],
   "source": [
    "X_test.shape"
   ]
  },
  {
   "cell_type": "markdown",
   "metadata": {},
   "source": [
    "### Checking If the Dataset is balanced or not"
   ]
  },
  {
   "cell_type": "code",
   "execution_count": 115,
   "metadata": {},
   "outputs": [
    {
     "data": {
      "text/plain": [
       "0    55183\n",
       "1     5533\n",
       "Name: Loan Status, dtype: int64"
      ]
     },
     "execution_count": 115,
     "metadata": {},
     "output_type": "execute_result"
    }
   ],
   "source": [
    "y_train.value_counts()"
   ]
  },
  {
   "cell_type": "code",
   "execution_count": 116,
   "metadata": {},
   "outputs": [
    {
     "data": {
      "text/plain": [
       "Text(0, 0.5, 'Frequency')"
      ]
     },
     "execution_count": 116,
     "metadata": {},
     "output_type": "execute_result"
    },
    {
     "data": {
      "image/png": "[encoded data removed]",
      "text/plain": [
       "<Figure size 432x288 with 1 Axes>"
      ]
     },
     "metadata": {
      "needs_background": "light"
     },
     "output_type": "display_data"
    }
   ],
   "source": [
    "count_classes = pd.value_counts(loan_train['Loan Status'], sort = True)\n",
    "\n",
    "count_classes.plot(kind = 'bar', rot=0)\n",
    "\n",
    "plt.title(\"Transaction Class Distribution\")\n",
    "\n",
    "#plt.xticks(range(2), LABELS)\n",
    "\n",
    "plt.xlabel(\"y_train\")\n",
    "\n",
    "plt.ylabel(\"Frequency\")"
   ]
  },
  {
   "cell_type": "markdown",
   "metadata": {},
   "source": [
    "#### SMOTETomek"
   ]
  },
  {
   "cell_type": "markdown",
   "metadata": {},
   "source": [
    "class imblearn.combine.SMOTETomek(*, sampling_strategy='auto', random_state=None, smote=None, tomek=None, n_jobs=None)[source]\n",
    "Over-sampling using SMOTE and cleaning using Tomek links.\n",
    "\n",
    "Combine over- and under-sampling using SMOTE and Tomek links.\n",
    "\n",
    "Read more in the User Guide."
   ]
  },
  {
   "cell_type": "code",
   "execution_count": 117,
   "metadata": {},
   "outputs": [],
   "source": [
    "from imblearn.combine import SMOTETomek"
   ]
  },
  {
   "cell_type": "code",
   "execution_count": 118,
   "metadata": {},
   "outputs": [
    {
     "data": {
      "text/plain": [
       "Counter({0: 55183, 1: 5533})"
      ]
     },
     "execution_count": 118,
     "metadata": {},
     "output_type": "execute_result"
    }
   ],
   "source": [
    "from collections import Counter\n",
    "Counter(y_train)"
   ]
  },
  {
   "cell_type": "code",
   "execution_count": 119,
   "metadata": {},
   "outputs": [
    {
     "name": "stdout",
     "output_type": "stream",
     "text": [
      "The number of classes before fit Counter({0: 55183, 1: 5533})\n",
      "The number of classes after fit Counter({0: 55149, 1: 41353})\n"
     ]
    }
   ],
   "source": [
    "os=SMOTETomek(0.75)\n",
    "X_train_ns,y_train_ns=os.fit_resample(X_train,y_train)\n",
    "print(\"The number of classes before fit {}\".format(Counter(y_train)))\n",
    "print(\"The number of classes after fit {}\".format(Counter(y_train_ns)))"
   ]
  },
  {
   "cell_type": "code",
   "execution_count": 120,
   "metadata": {},
   "outputs": [
    {
     "data": {
      "text/plain": [
       "RandomForestClassifier()"
      ]
     },
     "execution_count": 120,
     "metadata": {},
     "output_type": "execute_result"
    }
   ],
   "source": [
    "from sklearn.ensemble import RandomForestClassifier\n",
    "classifier=RandomForestClassifier()\n",
    "classifier.fit(X_train_ns,y_train_ns)"
   ]
  },
  {
   "cell_type": "code",
   "execution_count": 121,
   "metadata": {},
   "outputs": [
    {
     "name": "stdout",
     "output_type": "stream",
     "text": [
      "[[19944  8969]\n",
      " [    0     0]]\n",
      "0.689793518486494\n",
      "              precision    recall  f1-score   support\n",
      "\n",
      "           0       1.00      0.69      0.82     28913\n",
      "           1       0.00      0.00      0.00         0\n",
      "\n",
      "    accuracy                           0.69     28913\n",
      "   macro avg       0.50      0.34      0.41     28913\n",
      "weighted avg       1.00      0.69      0.82     28913\n",
      "\n"
     ]
    }
   ],
   "source": [
    "from sklearn.metrics import confusion_matrix,classification_report,accuracy_score\n",
    "y_pred=classifier.predict(X_test)\n",
    "print(confusion_matrix(y_test,y_pred))\n",
    "print(accuracy_score(y_test,y_pred))\n",
    "print(classification_report(y_test,y_pred))"
   ]
  },
  {
   "cell_type": "markdown",
   "metadata": {},
   "source": [
    "## PIPELINE CREATION TO CHECK WHICH MODEL WORKS BETTER"
   ]
  },
  {
   "cell_type": "code",
   "execution_count": 122,
   "metadata": {},
   "outputs": [],
   "source": [
    "## Pipelines Creation\n",
    "## 1. Data Preprocessing by using Standard Scaler\n",
    "## 2. Reduce Dimension using PCA\n",
    "## 3. Apply  Classifier"
   ]
  },
  {
   "cell_type": "code",
   "execution_count": 123,
   "metadata": {},
   "outputs": [],
   "source": [
    "from sklearn.datasets import load_iris\n",
    "from sklearn.model_selection import train_test_split\n",
    "from sklearn.preprocessing import StandardScaler\n",
    "from sklearn.decomposition import PCA\n",
    "from sklearn.pipeline import Pipeline\n",
    "from sklearn.linear_model import LogisticRegression\n",
    "from sklearn.tree import DecisionTreeClassifier\n",
    "from sklearn.ensemble import RandomForestClassifier\n",
    "from sklearn.ensemble import GradientBoostingClassifier\n",
    "from xgboost import XGBClassifier"
   ]
  },
  {
   "cell_type": "code",
   "execution_count": 124,
   "metadata": {},
   "outputs": [],
   "source": [
    "pipeline_lr=Pipeline([('scalar1',RobustScaler()),\n",
    "                     ('pca1',PCA(n_components=2)),\n",
    "                     ('lr_classifier',LogisticRegression(random_state=0))])"
   ]
  },
  {
   "cell_type": "code",
   "execution_count": 125,
   "metadata": {},
   "outputs": [],
   "source": [
    "pipeline_dt=Pipeline([('scalar2',RobustScaler()),\n",
    "                     ('pca2',PCA(n_components=2)),\n",
    "                     ('dt_classifier',DecisionTreeClassifier())])"
   ]
  },
  {
   "cell_type": "code",
   "execution_count": 126,
   "metadata": {},
   "outputs": [],
   "source": [
    "pipeline_randomforest=Pipeline([('scalar3',RobustScaler()),\n",
    "                     ('pca3',PCA(n_components=2)),\n",
    "                     ('rf_classifier',RandomForestClassifier())])"
   ]
  },
  {
   "cell_type": "code",
   "execution_count": 127,
   "metadata": {},
   "outputs": [],
   "source": [
    "pipeline_gradient_boost=Pipeline([('scalar4',RobustScaler()),\n",
    "                     ('pca4',PCA(n_components=2)),\n",
    "                     ('gb_classifier',GradientBoostingClassifier())])"
   ]
  },
  {
   "cell_type": "code",
   "execution_count": 128,
   "metadata": {},
   "outputs": [],
   "source": [
    "pipeline_XGboost=Pipeline([('scalar5',RobustScaler()),\n",
    "                          ('pca5',PCA(n_components=2)),\n",
    "                          ('xgb_classifier',XGBClassifier())])"
   ]
  },
  {
   "cell_type": "code",
   "execution_count": 129,
   "metadata": {},
   "outputs": [],
   "source": [
    "## LEts make the list of pipelines\n",
    "pipelines = [pipeline_lr, pipeline_dt, pipeline_randomforest,pipeline_gradient_boost,pipeline_XGboost]"
   ]
  },
  {
   "cell_type": "code",
   "execution_count": 130,
   "metadata": {},
   "outputs": [],
   "source": [
    "best_accuracy=0.0\n",
    "best_classifier=0\n",
    "best_pipeline=\"\""
   ]
  },
  {
   "cell_type": "code",
   "execution_count": 131,
   "metadata": {},
   "outputs": [
    {
     "name": "stdout",
     "output_type": "stream",
     "text": [
      "[17:46:15] WARNING: C:/Users/Administrator/workspace/xgboost-win64_release_1.4.0/src/learner.cc:1095: Starting in XGBoost 1.3.0, the default evaluation metric used with the objective 'binary:logistic' was changed from 'error' to 'logloss'. Explicitly set eval_metric if you'd like to restore the old behavior.\n"
     ]
    }
   ],
   "source": [
    "# Dictionary of pipelines and classifier types for ease of reference\n",
    "pipe_dict = {0: 'Logistic Regression', 1: 'Decision Tree', 2: 'RandomForest', 3: 'Gradient Boost', 4: 'Extreme Gradient Boost'}\n",
    "\n",
    "# Fit the pipelines\n",
    "for pipe in pipelines:\n",
    "\tpipe.fit(X_train_ns, y_train_ns)"
   ]
  },
  {
   "cell_type": "code",
   "execution_count": 132,
   "metadata": {},
   "outputs": [
    {
     "name": "stdout",
     "output_type": "stream",
     "text": [
      "Logistic Regression Test Accuracy: 1.0\n",
      "Decision Tree Test Accuracy: 0.5786670355895273\n",
      "RandomForest Test Accuracy: 0.6951890153218275\n",
      "Gradient Boost Test Accuracy: 0.9954691661190468\n",
      "Extreme Gradient Boost Test Accuracy: 0.9096946010445128\n"
     ]
    }
   ],
   "source": [
    "for i,model in enumerate(pipelines):\n",
    "    print(\"{} Test Accuracy: {}\".format(pipe_dict[i],model.score(X_test,y_test)))"
   ]
  },
  {
   "cell_type": "code",
   "execution_count": 133,
   "metadata": {},
   "outputs": [
    {
     "name": "stdout",
     "output_type": "stream",
     "text": [
      "Classifier with best accuracy:Logistic Regression\n"
     ]
    }
   ],
   "source": [
    "for i,model in enumerate(pipelines):\n",
    "    if model.score(X_test,y_test)>best_accuracy:\n",
    "        best_accuracy=model.score(X_test,y_test)\n",
    "        best_pipeline=model\n",
    "        best_classifier=i\n",
    "print('Classifier with best accuracy:{}'.format(pipe_dict[best_classifier]))"
   ]
  },
  {
   "cell_type": "code",
   "execution_count": 134,
   "metadata": {},
   "outputs": [
    {
     "data": {
      "text/plain": [
       "0    55149\n",
       "1    41353\n",
       "Name: Loan Status, dtype: int64"
      ]
     },
     "execution_count": 134,
     "metadata": {},
     "output_type": "execute_result"
    }
   ],
   "source": [
    "y_train_ns.value_counts()"
   ]
  },
  {
   "cell_type": "markdown",
   "metadata": {},
   "source": [
    "### Let's Use Logistic Regression"
   ]
  },
  {
   "cell_type": "code",
   "execution_count": 135,
   "metadata": {},
   "outputs": [
    {
     "name": "stdout",
     "output_type": "stream",
     "text": [
      "[[28872    41]\n",
      " [    0     0]]\n",
      "0.9985819527548162\n",
      "              precision    recall  f1-score   support\n",
      "\n",
      "           0       1.00      1.00      1.00     28913\n",
      "           1       0.00      0.00      0.00         0\n",
      "\n",
      "    accuracy                           1.00     28913\n",
      "   macro avg       0.50      0.50      0.50     28913\n",
      "weighted avg       1.00      1.00      1.00     28913\n",
      "\n"
     ]
    }
   ],
   "source": [
    "### Manual Hyperparameter Tuning\n",
    "\n",
    "model=LogisticRegression(penalty='l2',solver='liblinear',max_iter=100).fit(X_train_ns,y_train_ns)\n",
    "predictions=model.predict(X_test)\n",
    "print(confusion_matrix(y_test,predictions))\n",
    "print(accuracy_score(y_test,predictions))\n",
    "print(classification_report(y_test,predictions))"
   ]
  },
  {
   "cell_type": "markdown",
   "metadata": {},
   "source": [
    "##### Randomized Search Cv"
   ]
  },
  {
   "cell_type": "code",
   "execution_count": 136,
   "metadata": {},
   "outputs": [
    {
     "name": "stdout",
     "output_type": "stream",
     "text": [
      "{'penalty': ['l1', 'l2', 'elasticnet', 'none'], 'C': array([1.00000000e-04, 2.63665090e-04, 6.95192796e-04, 1.83298071e-03,\n",
      "       4.83293024e-03, 1.27427499e-02, 3.35981829e-02, 8.85866790e-02,\n",
      "       2.33572147e-01, 6.15848211e-01, 1.62377674e+00, 4.28133240e+00,\n",
      "       1.12883789e+01, 2.97635144e+01, 7.84759970e+01, 2.06913808e+02,\n",
      "       5.45559478e+02, 1.43844989e+03, 3.79269019e+03, 1.00000000e+04]), 'solver': ['lbfgs', 'newton-cg', 'liblinear', 'sag', 'saga'], 'max_iter': [100, 1000, 2500, 5000]}\n"
     ]
    }
   ],
   "source": [
    "import numpy as np\n",
    "from sklearn.model_selection import RandomizedSearchCV\n",
    "# Number of features to consider at every split\n",
    "penalty = ['l1', 'l2', 'elasticnet', 'none']\n",
    "# Maximum number of levels in tree\n",
    "C=np.logspace(-4, 4, 20)\n",
    "# Minimum number of samples required to split a node\n",
    "solver=['lbfgs','newton-cg','liblinear','sag','saga']\n",
    "# Minimum number of samples required at each leaf node\n",
    "max_iter=[100, 1000,2500, 5000]\n",
    "# Create the random grid\n",
    "random_grid = {'penalty': penalty,\n",
    "               'C': C,\n",
    "               'solver': solver,\n",
    "               'max_iter': max_iter}\n",
    "print(random_grid)"
   ]
  },
  {
   "cell_type": "code",
   "execution_count": 137,
   "metadata": {},
   "outputs": [
    {
     "name": "stdout",
     "output_type": "stream",
     "text": [
      "Fitting 3 folds for each of 10 candidates, totalling 30 fits\n"
     ]
    },
    {
     "name": "stderr",
     "output_type": "stream",
     "text": [
      "[Parallel(n_jobs=-1)]: Using backend LokyBackend with 4 concurrent workers.\n",
      "[Parallel(n_jobs=-1)]: Done  30 out of  30 | elapsed:  7.1min finished\n"
     ]
    },
    {
     "data": {
      "text/plain": [
       "RandomizedSearchCV(cv=3, estimator=LogisticRegression(), n_jobs=-1,\n",
       "                   param_distributions={'C': array([1.00000000e-04, 2.63665090e-04, 6.95192796e-04, 1.83298071e-03,\n",
       "       4.83293024e-03, 1.27427499e-02, 3.35981829e-02, 8.85866790e-02,\n",
       "       2.33572147e-01, 6.15848211e-01, 1.62377674e+00, 4.28133240e+00,\n",
       "       1.12883789e+01, 2.97635144e+01, 7.84759970e+01, 2.06913808e+02,\n",
       "       5.45559478e+02, 1.43844989e+03, 3.79269019e+03, 1.00000000e+04]),\n",
       "                                        'max_iter': [100, 1000, 2500, 5000],\n",
       "                                        'penalty': ['l1', 'l2', 'elasticnet',\n",
       "                                                    'none'],\n",
       "                                        'solver': ['lbfgs', 'newton-cg',\n",
       "                                                   'liblinear', 'sag',\n",
       "                                                   'saga']},\n",
       "                   random_state=100, verbose=2)"
      ]
     },
     "execution_count": 137,
     "metadata": {},
     "output_type": "execute_result"
    }
   ],
   "source": [
    "rf=LogisticRegression()\n",
    "rf_randomcv=RandomizedSearchCV(estimator=rf,param_distributions=random_grid,cv=3,verbose=2,\n",
    "                               random_state=100,n_jobs=-1)\n",
    "### fit the randomized model\n",
    "rf_randomcv.fit(X_train_ns,y_train_ns)"
   ]
  },
  {
   "cell_type": "code",
   "execution_count": 138,
   "metadata": {},
   "outputs": [
    {
     "data": {
      "text/plain": [
       "{'solver': 'saga', 'penalty': 'l1', 'max_iter': 1000, 'C': 10000.0}"
      ]
     },
     "execution_count": 138,
     "metadata": {},
     "output_type": "execute_result"
    }
   ],
   "source": [
    "rf_randomcv.best_params_"
   ]
  },
  {
   "cell_type": "code",
   "execution_count": 139,
   "metadata": {},
   "outputs": [
    {
     "data": {
      "text/plain": [
       "RandomizedSearchCV(cv=3, estimator=LogisticRegression(), n_jobs=-1,\n",
       "                   param_distributions={'C': array([1.00000000e-04, 2.63665090e-04, 6.95192796e-04, 1.83298071e-03,\n",
       "       4.83293024e-03, 1.27427499e-02, 3.35981829e-02, 8.85866790e-02,\n",
       "       2.33572147e-01, 6.15848211e-01, 1.62377674e+00, 4.28133240e+00,\n",
       "       1.12883789e+01, 2.97635144e+01, 7.84759970e+01, 2.06913808e+02,\n",
       "       5.45559478e+02, 1.43844989e+03, 3.79269019e+03, 1.00000000e+04]),\n",
       "                                        'max_iter': [100, 1000, 2500, 5000],\n",
       "                                        'penalty': ['l1', 'l2', 'elasticnet',\n",
       "                                                    'none'],\n",
       "                                        'solver': ['lbfgs', 'newton-cg',\n",
       "                                                   'liblinear', 'sag',\n",
       "                                                   'saga']},\n",
       "                   random_state=100, verbose=2)"
      ]
     },
     "execution_count": 139,
     "metadata": {},
     "output_type": "execute_result"
    }
   ],
   "source": [
    "rf_randomcv"
   ]
  },
  {
   "cell_type": "code",
   "execution_count": 140,
   "metadata": {},
   "outputs": [],
   "source": [
    "best_random_grid=rf_randomcv.best_estimator_"
   ]
  },
  {
   "cell_type": "code",
   "execution_count": 141,
   "metadata": {},
   "outputs": [
    {
     "name": "stdout",
     "output_type": "stream",
     "text": [
      "[[28879    34]\n",
      " [    0     0]]\n",
      "Accuracy Score 0.9988240583820427\n",
      "Classification report:               precision    recall  f1-score   support\n",
      "\n",
      "           0       1.00      1.00      1.00     28913\n",
      "           1       0.00      0.00      0.00         0\n",
      "\n",
      "    accuracy                           1.00     28913\n",
      "   macro avg       0.50      0.50      0.50     28913\n",
      "weighted avg       1.00      1.00      1.00     28913\n",
      "\n"
     ]
    }
   ],
   "source": [
    "from sklearn.metrics import accuracy_score\n",
    "y_pred=best_random_grid.predict(X_test)\n",
    "print(confusion_matrix(y_test,y_pred))\n",
    "print(\"Accuracy Score {}\".format(accuracy_score(y_test,y_pred)))\n",
    "print(\"Classification report: {}\".format(classification_report(y_test,y_pred)))"
   ]
  },
  {
   "cell_type": "code",
   "execution_count": 142,
   "metadata": {},
   "outputs": [
    {
     "name": "stdout",
     "output_type": "stream",
     "text": [
      "[[28879    34]\n",
      " [    0     0]]\n"
     ]
    }
   ],
   "source": [
    "# Confusion matrix \n",
    "from sklearn import metrics\n",
    "confusion = metrics.confusion_matrix(y_test, y_pred)\n",
    "print(confusion)"
   ]
  },
  {
   "cell_type": "code",
   "execution_count": 143,
   "metadata": {},
   "outputs": [
    {
     "data": {
      "text/plain": [
       "<Figure size 360x360 with 0 Axes>"
      ]
     },
     "metadata": {},
     "output_type": "display_data"
    },
    {
     "data": {
      "image/png": "[encoded data removed]",
      "text/plain": [
       "<Figure size 360x360 with 1 Axes>"
      ]
     },
     "metadata": {
      "needs_background": "light"
     },
     "output_type": "display_data"
    }
   ],
   "source": [
    "#\n",
    "# Print the confusion matrix using Matplotlib\n",
    "#\n",
    "plt.figure(figsize = [5,5])\n",
    "fig, ax = plt.subplots(figsize=(5, 5))\n",
    "ax.matshow(confusion, cmap=plt.cm.Reds, alpha=0.3)\n",
    "for i in range(confusion.shape[0]):\n",
    "    for j in range(confusion.shape[1]):\n",
    "        ax.text(x=j, y=i,s=confusion[i, j], va='center', ha='center', size='xx-large')\n",
    " \n",
    "plt.xlabel('Predictions', fontsize=18)\n",
    "plt.ylabel('Actuals', fontsize=18)\n",
    "plt.title('Confusion Matrix', fontsize=18)\n",
    "plt.show()"
   ]
  },
  {
   "cell_type": "markdown",
   "metadata": {},
   "source": [
    "### Evaluation To Check If the Model Is Over Or Under Fitting \n",
    "### 1. As we can see the accuracy for train and test data is near about , so there is issues. Also , we did resampling previously"
   ]
  },
  {
   "cell_type": "code",
   "execution_count": 144,
   "metadata": {},
   "outputs": [
    {
     "name": "stdout",
     "output_type": "stream",
     "text": [
      "0.9988240583820427\n"
     ]
    }
   ],
   "source": [
    "# Let's check the overall accuracy.\n",
    "print(metrics.accuracy_score(y_test, y_pred))"
   ]
  },
  {
   "cell_type": "code",
   "execution_count": 145,
   "metadata": {},
   "outputs": [],
   "source": [
    "y_pred2=best_random_grid.predict(X_train)"
   ]
  },
  {
   "cell_type": "code",
   "execution_count": 146,
   "metadata": {},
   "outputs": [
    {
     "name": "stdout",
     "output_type": "stream",
     "text": [
      "0.90696027406285\n"
     ]
    }
   ],
   "source": [
    "# Let's check the overall accuracy.\n",
    "print(metrics.accuracy_score(y_train, y_pred2))"
   ]
  },
  {
   "cell_type": "code",
   "execution_count": 147,
   "metadata": {},
   "outputs": [],
   "source": [
    "# Converting y_pred to a dataframe which is an array\n",
    "y_pred_1 = pd.DataFrame(y_pred)"
   ]
  },
  {
   "cell_type": "code",
   "execution_count": 148,
   "metadata": {},
   "outputs": [
    {
     "data": {
      "text/html": [
       "<div>\n",
       "<style scoped>\n",
       "    .dataframe tbody tr th:only-of-type {\n",
       "        vertical-align: middle;\n",
       "    }\n",
       "\n",
       "    .dataframe tbody tr th {\n",
       "        vertical-align: top;\n",
       "    }\n",
       "\n",
       "    .dataframe thead th {\n",
       "        text-align: right;\n",
       "    }\n",
       "</style>\n",
       "<table border=\"1\" class=\"dataframe\">\n",
       "  <thead>\n",
       "    <tr style=\"text-align: right;\">\n",
       "      <th></th>\n",
       "      <th>0</th>\n",
       "    </tr>\n",
       "  </thead>\n",
       "  <tbody>\n",
       "    <tr>\n",
       "      <th>0</th>\n",
       "      <td>0</td>\n",
       "    </tr>\n",
       "    <tr>\n",
       "      <th>1</th>\n",
       "      <td>0</td>\n",
       "    </tr>\n",
       "    <tr>\n",
       "      <th>2</th>\n",
       "      <td>0</td>\n",
       "    </tr>\n",
       "    <tr>\n",
       "      <th>3</th>\n",
       "      <td>0</td>\n",
       "    </tr>\n",
       "    <tr>\n",
       "      <th>4</th>\n",
       "      <td>0</td>\n",
       "    </tr>\n",
       "  </tbody>\n",
       "</table>\n",
       "</div>"
      ],
      "text/plain": [
       "   0\n",
       "0  0\n",
       "1  0\n",
       "2  0\n",
       "3  0\n",
       "4  0"
      ]
     },
     "execution_count": 148,
     "metadata": {},
     "output_type": "execute_result"
    }
   ],
   "source": [
    "# Let's see the head\n",
    "y_pred_1.head()"
   ]
  },
  {
   "cell_type": "code",
   "execution_count": 149,
   "metadata": {},
   "outputs": [
    {
     "data": {
      "text/plain": [
       "0    28879\n",
       "1       34\n",
       "dtype: int64"
      ]
     },
     "execution_count": 149,
     "metadata": {},
     "output_type": "execute_result"
    }
   ],
   "source": [
    "y_pred_1.value_counts()"
   ]
  },
  {
   "cell_type": "code",
   "execution_count": 150,
   "metadata": {},
   "outputs": [],
   "source": [
    "y_pred_final = y_pred_1.rename(columns={0:\"Loan Status\"})"
   ]
  },
  {
   "cell_type": "code",
   "execution_count": 151,
   "metadata": {},
   "outputs": [],
   "source": [
    "y_pred_final.to_csv('my_submission_file.csv', index=False)"
   ]
  },
  {
   "cell_type": "code",
   "execution_count": null,
   "metadata": {},
   "outputs": [],
   "source": []
  }
 ],
 "metadata": {
  "kernelspec": {
   "display_name": "Python 3",
   "language": "python",
   "name": "python3"
  },
  "language_info": {
   "codemirror_mode": {
    "name": "ipython",
    "version": 3
   },
   "file_extension": ".py",
   "mimetype": "text/x-python",
   "name": "python",
   "nbconvert_exporter": "python",
   "pygments_lexer": "ipython3",
   "version": "3.7.6"
  }
 },
 "nbformat": 4,
 "nbformat_minor": 5
}
