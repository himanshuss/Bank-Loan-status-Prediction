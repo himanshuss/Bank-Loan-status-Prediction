{
 "cells": [
  {
   "cell_type": "code",
   "execution_count": 71,
   "metadata": {},
   "outputs": [],
   "source": [
    "import numpy as np\n",
    "import matplotlib.pyplot as plt\n",
    "from sklearn.datasets import make_classification\n",
    "from sklearn.ensemble import RandomForestClassifier\n",
    "from sklearn.preprocessing import StandardScaler\n",
    "from scipy.sparse import hstack\n",
    "import pandas as pd\n",
    "from sklearn import model_selection\n",
    "from sklearn.preprocessing import StandardScaler\n",
    "SS = StandardScaler()\n",
    "from sklearn.preprocessing import OneHotEncoder\n",
    "ohe = OneHotEncoder()\n",
    "from sklearn.neighbors import KNeighborsClassifier\n",
    "from sklearn.metrics import roc_auc_score\n",
    "import math\n",
    "from sklearn.metrics import confusion_matrix\n",
    "import numpy as np"
   ]
  },
  {
   "cell_type": "code",
   "execution_count": 72,
   "metadata": {},
   "outputs": [
    {
     "name": "stdout",
     "output_type": "stream",
     "text": [
      "<class 'pandas.core.frame.DataFrame'>\n",
      "RangeIndex: 67463 entries, 0 to 67462\n",
      "Data columns (total 35 columns):\n",
      " #   Column                        Non-Null Count  Dtype  \n",
      "---  ------                        --------------  -----  \n",
      " 0   ID                            67463 non-null  int64  \n",
      " 1   Loan Amount                   67463 non-null  int64  \n",
      " 2   Funded Amount                 67463 non-null  int64  \n",
      " 3   Funded Amount Investor        67463 non-null  float64\n",
      " 4   Term                          67463 non-null  int64  \n",
      " 5   Batch Enrolled                67463 non-null  object \n",
      " 6   Interest Rate                 67463 non-null  float64\n",
      " 7   Grade                         67463 non-null  object \n",
      " 8   Sub Grade                     67463 non-null  object \n",
      " 9   Employment Duration           67463 non-null  object \n",
      " 10  Home Ownership                67463 non-null  float64\n",
      " 11  Verification Status           67463 non-null  object \n",
      " 12  Payment Plan                  67463 non-null  object \n",
      " 13  Loan Title                    67463 non-null  object \n",
      " 14  Debit to Income               67463 non-null  float64\n",
      " 15  Delinquency - two years       67463 non-null  int64  \n",
      " 16  Inquires - six months         67463 non-null  int64  \n",
      " 17  Open Account                  67463 non-null  int64  \n",
      " 18  Public Record                 67463 non-null  int64  \n",
      " 19  Revolving Balance             67463 non-null  int64  \n",
      " 20  Revolving Utilities           67463 non-null  float64\n",
      " 21  Total Accounts                67463 non-null  int64  \n",
      " 22  Initial List Status           67463 non-null  object \n",
      " 23  Total Received Interest       67463 non-null  float64\n",
      " 24  Total Received Late Fee       67463 non-null  float64\n",
      " 25  Recoveries                    67463 non-null  float64\n",
      " 26  Collection Recovery Fee       67463 non-null  float64\n",
      " 27  Collection 12 months Medical  67463 non-null  int64  \n",
      " 28  Application Type              67463 non-null  object \n",
      " 29  Last week Pay                 67463 non-null  int64  \n",
      " 30  Accounts Delinquent           67463 non-null  int64  \n",
      " 31  Total Collection Amount       67463 non-null  int64  \n",
      " 32  Total Current Balance         67463 non-null  int64  \n",
      " 33  Total Revolving Credit Limit  67463 non-null  int64  \n",
      " 34  Loan Status                   67463 non-null  int64  \n",
      "dtypes: float64(9), int64(17), object(9)\n",
      "memory usage: 18.0+ MB\n"
     ]
    }
   ],
   "source": [
    "import pandas as pd\n",
    "data =pd.read_csv(\"train.csv\")\n",
    "data.info()"
   ]
  },
  {
   "cell_type": "code",
   "execution_count": 73,
   "metadata": {},
   "outputs": [],
   "source": [
    "test_data = pd.read_csv(\"test.csv\")"
   ]
  },
  {
   "cell_type": "code",
   "execution_count": 74,
   "metadata": {},
   "outputs": [],
   "source": [
    "data = data.drop(columns = ['ID','Payment Plan', \n",
    "                            'Accounts Delinquent', 'Total Received Late Fee', \n",
    "                            'Collection Recovery Fee', 'Total Received Interest', \n",
    "                            'Recoveries','Total Collection Amount'])\n",
    "\n",
    "test_data = test_data.drop(columns = ['ID','Payment Plan', \n",
    "                            'Accounts Delinquent', 'Total Received Late Fee', \n",
    "                            'Collection Recovery Fee', 'Total Received Interest', \n",
    "                            'Recoveries','Total Collection Amount'])"
   ]
  },
  {
   "cell_type": "code",
   "execution_count": null,
   "metadata": {},
   "outputs": [],
   "source": []
  },
  {
   "cell_type": "code",
   "execution_count": 75,
   "metadata": {},
   "outputs": [
    {
     "name": "stdout",
     "output_type": "stream",
     "text": [
      "<class 'pandas.core.frame.DataFrame'>\n",
      "RangeIndex: 67463 entries, 0 to 67462\n",
      "Data columns (total 27 columns):\n",
      " #   Column                        Non-Null Count  Dtype  \n",
      "---  ------                        --------------  -----  \n",
      " 0   Loan Amount                   67463 non-null  int64  \n",
      " 1   Funded Amount                 67463 non-null  int64  \n",
      " 2   Funded Amount Investor        67463 non-null  float64\n",
      " 3   Term                          67463 non-null  int64  \n",
      " 4   Batch Enrolled                67463 non-null  object \n",
      " 5   Interest Rate                 67463 non-null  float64\n",
      " 6   Grade                         67463 non-null  object \n",
      " 7   Sub Grade                     67463 non-null  object \n",
      " 8   Employment Duration           67463 non-null  object \n",
      " 9   Home Ownership                67463 non-null  float64\n",
      " 10  Verification Status           67463 non-null  object \n",
      " 11  Loan Title                    67463 non-null  object \n",
      " 12  Debit to Income               67463 non-null  float64\n",
      " 13  Delinquency - two years       67463 non-null  int64  \n",
      " 14  Inquires - six months         67463 non-null  int64  \n",
      " 15  Open Account                  67463 non-null  int64  \n",
      " 16  Public Record                 67463 non-null  int64  \n",
      " 17  Revolving Balance             67463 non-null  int64  \n",
      " 18  Revolving Utilities           67463 non-null  float64\n",
      " 19  Total Accounts                67463 non-null  int64  \n",
      " 20  Initial List Status           67463 non-null  object \n",
      " 21  Collection 12 months Medical  67463 non-null  int64  \n",
      " 22  Application Type              67463 non-null  object \n",
      " 23  Last week Pay                 67463 non-null  int64  \n",
      " 24  Total Current Balance         67463 non-null  int64  \n",
      " 25  Total Revolving Credit Limit  67463 non-null  int64  \n",
      " 26  Loan Status                   67463 non-null  int64  \n",
      "dtypes: float64(5), int64(14), object(8)\n",
      "memory usage: 13.9+ MB\n"
     ]
    }
   ],
   "source": [
    "data.info()"
   ]
  },
  {
   "cell_type": "code",
   "execution_count": 121,
   "metadata": {},
   "outputs": [
    {
     "data": {
      "text/html": [
       "<div>\n",
       "<style scoped>\n",
       "    .dataframe tbody tr th:only-of-type {\n",
       "        vertical-align: middle;\n",
       "    }\n",
       "\n",
       "    .dataframe tbody tr th {\n",
       "        vertical-align: top;\n",
       "    }\n",
       "\n",
       "    .dataframe thead th {\n",
       "        text-align: right;\n",
       "    }\n",
       "</style>\n",
       "<table border=\"1\" class=\"dataframe\">\n",
       "  <thead>\n",
       "    <tr style=\"text-align: right;\">\n",
       "      <th></th>\n",
       "      <th>n_estimators</th>\n",
       "      <th>max_depth</th>\n",
       "      <th>AUC</th>\n",
       "    </tr>\n",
       "  </thead>\n",
       "  <tbody>\n",
       "    <tr>\n",
       "      <th>0</th>\n",
       "      <td>20</td>\n",
       "      <td>1</td>\n",
       "      <td>0.530820</td>\n",
       "    </tr>\n",
       "    <tr>\n",
       "      <th>1</th>\n",
       "      <td>20</td>\n",
       "      <td>5</td>\n",
       "      <td>0.575453</td>\n",
       "    </tr>\n",
       "    <tr>\n",
       "      <th>2</th>\n",
       "      <td>20</td>\n",
       "      <td>10</td>\n",
       "      <td>0.709838</td>\n",
       "    </tr>\n",
       "    <tr>\n",
       "      <th>3</th>\n",
       "      <td>20</td>\n",
       "      <td>50</td>\n",
       "      <td>0.998529</td>\n",
       "    </tr>\n",
       "    <tr>\n",
       "      <th>4</th>\n",
       "      <td>20</td>\n",
       "      <td>100</td>\n",
       "      <td>0.998923</td>\n",
       "    </tr>\n",
       "    <tr>\n",
       "      <th>5</th>\n",
       "      <td>20</td>\n",
       "      <td>500</td>\n",
       "      <td>0.998884</td>\n",
       "    </tr>\n",
       "    <tr>\n",
       "      <th>6</th>\n",
       "      <td>20</td>\n",
       "      <td>1000</td>\n",
       "      <td>0.998953</td>\n",
       "    </tr>\n",
       "    <tr>\n",
       "      <th>7</th>\n",
       "      <td>40</td>\n",
       "      <td>1</td>\n",
       "      <td>0.537567</td>\n",
       "    </tr>\n",
       "    <tr>\n",
       "      <th>8</th>\n",
       "      <td>40</td>\n",
       "      <td>5</td>\n",
       "      <td>0.602389</td>\n",
       "    </tr>\n",
       "    <tr>\n",
       "      <th>9</th>\n",
       "      <td>40</td>\n",
       "      <td>10</td>\n",
       "      <td>0.763718</td>\n",
       "    </tr>\n",
       "  </tbody>\n",
       "</table>\n",
       "</div>"
      ],
      "text/plain": [
       "   n_estimators  max_depth       AUC\n",
       "0            20          1  0.530820\n",
       "1            20          5  0.575453\n",
       "2            20         10  0.709838\n",
       "3            20         50  0.998529\n",
       "4            20        100  0.998923\n",
       "5            20        500  0.998884\n",
       "6            20       1000  0.998953\n",
       "7            40          1  0.537567\n",
       "8            40          5  0.602389\n",
       "9            40         10  0.763718"
      ]
     },
     "execution_count": 121,
     "metadata": {},
     "output_type": "execute_result"
    }
   ],
   "source": [
    "data.head(10)"
   ]
  },
  {
   "cell_type": "markdown",
   "metadata": {},
   "source": [
    "## Feature Engineering"
   ]
  },
  {
   "cell_type": "code",
   "execution_count": 76,
   "metadata": {},
   "outputs": [],
   "source": [
    "data['Interest Rate']=data['Interest Rate'].apply(np.int64)\n",
    "data['Revolving Utilities']=data['Revolving Utilities'].apply(np.int64)\n",
    "data['Debit to Income']=data['Debit to Income'].apply(np.int64)"
   ]
  },
  {
   "cell_type": "code",
   "execution_count": 77,
   "metadata": {},
   "outputs": [],
   "source": [
    "\n",
    "test_data['Interest Rate']=test_data['Interest Rate'].apply(np.int64)\n",
    "test_data['Revolving Utilities']=test_data['Revolving Utilities'].apply(np.int64)\n",
    "test_data['Debit to Income']=test_data['Debit to Income'].apply(np.int64)\n"
   ]
  },
  {
   "cell_type": "code",
   "execution_count": 78,
   "metadata": {},
   "outputs": [],
   "source": [
    "data['Loan Title'] = data['Loan Title'].str[:3]\n",
    "data['Loan Title'] = data['Loan Title'].str.upper()\n",
    "\n",
    "test_data['Loan Title'] = test_data['Loan Title'].str[:3]\n",
    "test_data['Loan Title'] = test_data['Loan Title'].str.upper()"
   ]
  },
  {
   "cell_type": "code",
   "execution_count": 79,
   "metadata": {},
   "outputs": [],
   "source": [
    "y = data['Loan Status']\n",
    "data.drop(['Loan Status'], axis = 1, inplace = True) \n",
    "\n",
    "test_data.drop(['Loan Status'], axis = 1, inplace = True)"
   ]
  },
  {
   "cell_type": "code",
   "execution_count": 80,
   "metadata": {},
   "outputs": [
    {
     "data": {
      "text/html": [
       "<div>\n",
       "<style scoped>\n",
       "    .dataframe tbody tr th:only-of-type {\n",
       "        vertical-align: middle;\n",
       "    }\n",
       "\n",
       "    .dataframe tbody tr th {\n",
       "        vertical-align: top;\n",
       "    }\n",
       "\n",
       "    .dataframe thead th {\n",
       "        text-align: right;\n",
       "    }\n",
       "</style>\n",
       "<table border=\"1\" class=\"dataframe\">\n",
       "  <thead>\n",
       "    <tr style=\"text-align: right;\">\n",
       "      <th></th>\n",
       "      <th>Loan Amount</th>\n",
       "      <th>Funded Amount</th>\n",
       "      <th>Funded Amount Investor</th>\n",
       "      <th>Term</th>\n",
       "      <th>Batch Enrolled</th>\n",
       "      <th>Interest Rate</th>\n",
       "      <th>Grade</th>\n",
       "      <th>Sub Grade</th>\n",
       "      <th>Employment Duration</th>\n",
       "      <th>Home Ownership</th>\n",
       "      <th>...</th>\n",
       "      <th>Public Record</th>\n",
       "      <th>Revolving Balance</th>\n",
       "      <th>Revolving Utilities</th>\n",
       "      <th>Total Accounts</th>\n",
       "      <th>Initial List Status</th>\n",
       "      <th>Collection 12 months Medical</th>\n",
       "      <th>Application Type</th>\n",
       "      <th>Last week Pay</th>\n",
       "      <th>Total Current Balance</th>\n",
       "      <th>Total Revolving Credit Limit</th>\n",
       "    </tr>\n",
       "  </thead>\n",
       "  <tbody>\n",
       "  </tbody>\n",
       "</table>\n",
       "<p>0 rows × 26 columns</p>\n",
       "</div>"
      ],
      "text/plain": [
       "Empty DataFrame\n",
       "Columns: [Loan Amount, Funded Amount, Funded Amount Investor, Term, Batch Enrolled, Interest Rate, Grade, Sub Grade, Employment Duration, Home Ownership, Verification Status, Loan Title, Debit to Income, Delinquency - two years, Inquires - six months, Open Account, Public Record, Revolving Balance, Revolving Utilities, Total Accounts, Initial List Status, Collection 12 months Medical, Application Type, Last week Pay, Total Current Balance, Total Revolving Credit Limit]\n",
       "Index: []\n",
       "\n",
       "[0 rows x 26 columns]"
      ]
     },
     "execution_count": 80,
     "metadata": {},
     "output_type": "execute_result"
    }
   ],
   "source": [
    "dupli = data[data.duplicated(keep=\"last\")]\n",
    "dupli"
   ]
  },
  {
   "cell_type": "code",
   "execution_count": 81,
   "metadata": {},
   "outputs": [
    {
     "data": {
      "text/plain": [
       "['Batch Enrolled',\n",
       " 'Grade',\n",
       " 'Sub Grade',\n",
       " 'Employment Duration',\n",
       " 'Verification Status',\n",
       " 'Loan Title',\n",
       " 'Initial List Status',\n",
       " 'Application Type']"
      ]
     },
     "execution_count": 81,
     "metadata": {},
     "output_type": "execute_result"
    }
   ],
   "source": [
    "categorical_feature_mask = data.dtypes==object\n",
    "categorical = data.columns[categorical_feature_mask].tolist()\n",
    "categorical"
   ]
  },
  {
   "cell_type": "markdown",
   "metadata": {},
   "source": [
    "## Spliting data"
   ]
  },
  {
   "cell_type": "code",
   "execution_count": 82,
   "metadata": {},
   "outputs": [],
   "source": [
    "# splitting the data \n",
    "from sklearn import model_selection\n",
    "x_train, x_test, y_train, y_test = model_selection.train_test_split(data, y, test_size=0.3, random_state=42)\n",
    "x_train, x_cv, y_train, y_cv = model_selection.train_test_split(x_train, y_train, test_size=0.3)"
   ]
  },
  {
   "cell_type": "code",
   "execution_count": 83,
   "metadata": {},
   "outputs": [
    {
     "name": "stdout",
     "output_type": "stream",
     "text": [
      "the shape of x_train data,(33056, 26) and shape of x_test data (20239, 26):\n",
      "the shape of y_train data,(33056,) and shape of y_test data (20239,):\n",
      "the shape of x_cv data,(14168, 26) and shape of y_cv data (14168,):\n"
     ]
    }
   ],
   "source": [
    "print(\"the shape of x_train data,{} and shape of x_test data {}:\".format(x_train.shape,x_test.shape))\n",
    "print(\"the shape of y_train data,{} and shape of y_test data {}:\".format(y_train.shape,y_test.shape))\n",
    "print(\"the shape of x_cv data,{} and shape of y_cv data {}:\".format(x_cv.shape,y_cv.shape))"
   ]
  },
  {
   "cell_type": "markdown",
   "metadata": {},
   "source": [
    "## Transforming data"
   ]
  },
  {
   "cell_type": "code",
   "execution_count": 84,
   "metadata": {},
   "outputs": [],
   "source": [
    "from sklearn.preprocessing import StandardScaler\n",
    "SS = StandardScaler()"
   ]
  },
  {
   "cell_type": "code",
   "execution_count": 85,
   "metadata": {},
   "outputs": [],
   "source": [
    "from sklearn.preprocessing import Normalizer\n",
    "SS=Normalizer()"
   ]
  },
  {
   "cell_type": "code",
   "execution_count": 86,
   "metadata": {},
   "outputs": [
    {
     "data": {
      "text/plain": [
       "(33056, 1)"
      ]
     },
     "execution_count": 86,
     "metadata": {},
     "output_type": "execute_result"
    }
   ],
   "source": [
    "SS.fit(x_train['Loan Amount'].values.reshape(-1,1))\n",
    "\n",
    "x_train_real_loan_amount = SS.transform(x_train['Loan Amount'].values.reshape(-1,1))\n",
    "x_test_real_loan_amount = SS.transform(x_test['Loan Amount'].values.reshape(-1,1))\n",
    "x_cv_real_loan_amount = SS.transform(x_cv['Loan Amount'].values.reshape(-1,1))\n",
    "test_cv_real_loan_amount = SS.transform(test_data['Loan Amount'].values.reshape(-1,1))\n",
    "\n",
    "x_train_real_loan_amount.shape"
   ]
  },
  {
   "cell_type": "code",
   "execution_count": null,
   "metadata": {},
   "outputs": [],
   "source": []
  },
  {
   "cell_type": "code",
   "execution_count": 87,
   "metadata": {},
   "outputs": [],
   "source": [
    "SS.fit(x_train['Funded Amount'].values.reshape(-1,1))\n",
    "\n",
    "x_train_real_funded_amount = SS.transform(x_train['Funded Amount'].values.reshape(-1,1))\n",
    "x_test_real_funded_amount = SS.transform(x_test['Funded Amount'].values.reshape(-1,1))\n",
    "x_cv_real_funded_amount = SS.transform(x_cv['Funded Amount'].values.reshape(-1,1))\n",
    "test_cv_real_funded_amount = SS.transform(test_data['Funded Amount'].values.reshape(-1,1))"
   ]
  },
  {
   "cell_type": "code",
   "execution_count": 88,
   "metadata": {},
   "outputs": [],
   "source": [
    "SS.fit(x_train['Funded Amount Investor'].values.reshape(-1,1))\n",
    "\n",
    "x_train_real_investor = SS.transform(x_train['Funded Amount Investor'].values.reshape(-1,1))\n",
    "x_test_real_investor = SS.transform(x_test['Funded Amount Investor'].values.reshape(-1,1))\n",
    "x_cv_real_investor = SS.transform(x_cv['Funded Amount Investor'].values.reshape(-1,1))\n",
    "test_cv_real_investor = SS.transform(test_data['Funded Amount Investor'].values.reshape(-1,1))"
   ]
  },
  {
   "cell_type": "code",
   "execution_count": 89,
   "metadata": {},
   "outputs": [],
   "source": [
    "SS.fit(x_train['Term'].values.reshape(-1,1))\n",
    "\n",
    "x_train_real_term = SS.transform(x_train['Term'].values.reshape(-1,1))\n",
    "x_test_real_term = SS.transform(x_test['Term'].values.reshape(-1,1))\n",
    "x_cv_real_term = SS.transform(x_cv['Term'].values.reshape(-1,1))\n",
    "test_cv_real_term = SS.transform(test_data['Term'].values.reshape(-1,1))"
   ]
  },
  {
   "cell_type": "code",
   "execution_count": 90,
   "metadata": {},
   "outputs": [],
   "source": [
    "SS.fit(x_train['Interest Rate'].values.reshape(-1,1))\n",
    "\n",
    "x_train_real_rate = SS.transform(x_train['Interest Rate'].values.reshape(-1,1))\n",
    "x_test_real_rate = SS.transform(x_test['Interest Rate'].values.reshape(-1,1))\n",
    "x_cv_real_rate = SS.transform(x_cv['Interest Rate'].values.reshape(-1,1))\n",
    "test_cv_real_rate = SS.transform(test_data['Interest Rate'].values.reshape(-1,1))"
   ]
  },
  {
   "cell_type": "code",
   "execution_count": 91,
   "metadata": {},
   "outputs": [],
   "source": [
    "SS.fit(x_train['Home Ownership'].values.reshape(-1,1))\n",
    "\n",
    "x_train_real_home = SS.transform(x_train['Home Ownership'].values.reshape(-1,1))\n",
    "x_test_real_home = SS.transform(x_test['Home Ownership'].values.reshape(-1,1))\n",
    "x_cv_real_home = SS.transform(x_cv['Home Ownership'].values.reshape(-1,1))\n",
    "test_cv_real_home = SS.transform(test_data['Home Ownership'].values.reshape(-1,1))"
   ]
  },
  {
   "cell_type": "code",
   "execution_count": 92,
   "metadata": {},
   "outputs": [],
   "source": [
    "SS.fit(x_train['Debit to Income'].values.reshape(-1,1))\n",
    "\n",
    "x_train_real_di = SS.transform(x_train['Debit to Income'].values.reshape(-1,1))\n",
    "x_test_real_di = SS.transform(x_test['Debit to Income'].values.reshape(-1,1))\n",
    "x_cv_real_di = SS.transform(x_cv['Debit to Income'].values.reshape(-1,1))\n",
    "test_cv_real_di = SS.transform(test_data['Debit to Income'].values.reshape(-1,1))"
   ]
  },
  {
   "cell_type": "code",
   "execution_count": 93,
   "metadata": {},
   "outputs": [],
   "source": [
    "SS.fit(x_train['Delinquency - two years'].values.reshape(-1,1))\n",
    "\n",
    "x_train_real_dtwoyears = SS.transform(x_train['Delinquency - two years'].values.reshape(-1,1))\n",
    "x_test_real_dtwoyears = SS.transform(x_test['Delinquency - two years'].values.reshape(-1,1))\n",
    "x_cv_real_dtwoyears = SS.transform(x_cv['Delinquency - two years'].values.reshape(-1,1))\n",
    "test_cv_real_dtwoyears = SS.transform(test_data['Delinquency - two years'].values.reshape(-1,1))"
   ]
  },
  {
   "cell_type": "code",
   "execution_count": 94,
   "metadata": {},
   "outputs": [],
   "source": [
    "SS.fit(x_train['Inquires - six months'].values.reshape(-1,1))\n",
    "\n",
    "x_train_real_ismonths = SS.transform(x_train['Inquires - six months'].values.reshape(-1,1))\n",
    "x_test_real_ismonths = SS.transform(x_test['Inquires - six months'].values.reshape(-1,1))\n",
    "x_cv_real_ismonths = SS.transform(x_cv['Inquires - six months'].values.reshape(-1,1))\n",
    "test_cv_real_ismonths = SS.transform(test_data['Inquires - six months'].values.reshape(-1,1))"
   ]
  },
  {
   "cell_type": "code",
   "execution_count": 95,
   "metadata": {},
   "outputs": [],
   "source": [
    "SS.fit(x_train['Open Account'].values.reshape(-1,1))\n",
    "\n",
    "x_train_real_oaccount = SS.transform(x_train['Open Account'].values.reshape(-1,1))\n",
    "x_test_real_oaccount = SS.transform(x_test['Open Account'].values.reshape(-1,1))\n",
    "x_cv_real_oaccount = SS.transform(x_cv['Open Account'].values.reshape(-1,1))\n",
    "test_cv_real_oaccount = SS.transform(test_data['Open Account'].values.reshape(-1,1))"
   ]
  },
  {
   "cell_type": "code",
   "execution_count": 96,
   "metadata": {},
   "outputs": [],
   "source": [
    "SS.fit(x_train['Revolving Balance'].values.reshape(-1,1))\n",
    "\n",
    "x_train_real_rbalance = SS.transform(x_train['Revolving Balance'].values.reshape(-1,1))\n",
    "x_test_real_rbalance = SS.transform(x_test['Revolving Balance'].values.reshape(-1,1))\n",
    "x_cv_real_rbalance = SS.transform(x_cv['Revolving Balance'].values.reshape(-1,1))\n",
    "test_cv_real_rbalance = SS.transform(test_data['Revolving Balance'].values.reshape(-1,1))"
   ]
  },
  {
   "cell_type": "code",
   "execution_count": 97,
   "metadata": {},
   "outputs": [],
   "source": [
    "SS.fit(x_train['Revolving Utilities'].values.reshape(-1,1))\n",
    "\n",
    "x_train_real_rutilities = SS.transform(x_train['Revolving Utilities'].values.reshape(-1,1))\n",
    "x_test_real_rutilities = SS.transform(x_test['Revolving Utilities'].values.reshape(-1,1))\n",
    "x_cv_real_rutilities = SS.transform(x_cv['Revolving Utilities'].values.reshape(-1,1))\n",
    "test_cv_real_rutilities = SS.transform(test_data['Revolving Utilities'].values.reshape(-1,1))"
   ]
  },
  {
   "cell_type": "code",
   "execution_count": 98,
   "metadata": {},
   "outputs": [],
   "source": [
    "SS.fit(x_train['Total Accounts'].values.reshape(-1,1))\n",
    "\n",
    "x_train_real_taccount = SS.transform(x_train['Total Accounts'].values.reshape(-1,1))\n",
    "x_test_real_taccount = SS.transform(x_test['Total Accounts'].values.reshape(-1,1))\n",
    "x_cv_real_taccount = SS.transform(x_cv['Total Accounts'].values.reshape(-1,1))\n",
    "test_cv_real_taccount = SS.transform(test_data['Total Accounts'].values.reshape(-1,1))"
   ]
  },
  {
   "cell_type": "code",
   "execution_count": 99,
   "metadata": {},
   "outputs": [],
   "source": [
    "SS.fit(x_train['Collection 12 months Medical'].values.reshape(-1,1))\n",
    "\n",
    "x_train_real_medical = SS.transform(x_train['Collection 12 months Medical'].values.reshape(-1,1))\n",
    "x_test_real_medical = SS.transform(x_test['Collection 12 months Medical'].values.reshape(-1,1))\n",
    "x_cv_real_medical = SS.transform(x_cv['Collection 12 months Medical'].values.reshape(-1,1))\n",
    "test_cv_real_medical = SS.transform(test_data['Collection 12 months Medical'].values.reshape(-1,1))"
   ]
  },
  {
   "cell_type": "code",
   "execution_count": 100,
   "metadata": {},
   "outputs": [],
   "source": [
    "SS.fit(x_train['Last week Pay'].values.reshape(-1,1))\n",
    "\n",
    "x_train_real_pay = SS.transform(x_train['Last week Pay'].values.reshape(-1,1))\n",
    "x_test_real_pay = SS.transform(x_test['Last week Pay'].values.reshape(-1,1))\n",
    "x_cv_real_pay = SS.transform(x_cv['Last week Pay'].values.reshape(-1,1))\n",
    "test_cv_real_pay = SS.transform(test_data['Last week Pay'].values.reshape(-1,1))"
   ]
  },
  {
   "cell_type": "code",
   "execution_count": 101,
   "metadata": {},
   "outputs": [],
   "source": [
    "SS.fit(x_train['Total Current Balance'].values.reshape(-1,1))\n",
    "\n",
    "x_train_real_tcbalance = SS.transform(x_train['Total Current Balance'].values.reshape(-1,1))\n",
    "x_test_real_tcbalance = SS.transform(x_test['Total Current Balance'].values.reshape(-1,1))\n",
    "x_cv_real_tcbalance = SS.transform(x_cv['Total Current Balance'].values.reshape(-1,1))\n",
    "test_cv_real_tcbalance = SS.transform(test_data['Total Current Balance'].values.reshape(-1,1))"
   ]
  },
  {
   "cell_type": "code",
   "execution_count": 102,
   "metadata": {},
   "outputs": [],
   "source": [
    "SS.fit(x_train['Total Revolving Credit Limit'].values.reshape(-1,1))\n",
    "\n",
    "x_train_real_trcl = SS.transform(x_train['Total Revolving Credit Limit'].values.reshape(-1,1))\n",
    "x_test_real_trcl = SS.transform(x_test['Total Revolving Credit Limit'].values.reshape(-1,1))\n",
    "x_cv_real_trcl = SS.transform(x_cv['Total Revolving Credit Limit'].values.reshape(-1,1))\n",
    "test_cv_real_trcl = SS.transform(test_data['Total Revolving Credit Limit'].values.reshape(-1,1))"
   ]
  },
  {
   "cell_type": "code",
   "execution_count": 103,
   "metadata": {},
   "outputs": [],
   "source": [
    "SS.fit(x_train['Public Record'].values.reshape(-1,1))\n",
    "\n",
    "x_train_real_precord = SS.fit_transform(x_train['Public Record'].values.reshape(-1,1))\n",
    "x_test_real_precord = SS.fit_transform(x_test['Public Record'].values.reshape(-1,1))\n",
    "x_cv_real_precord = SS.fit_transform(x_cv['Public Record'].values.reshape(-1,1))\n",
    "test_cv_real_precord = SS.fit_transform(test_data['Public Record'].values.reshape(-1,1))"
   ]
  },
  {
   "cell_type": "code",
   "execution_count": 104,
   "metadata": {},
   "outputs": [],
   "source": [
    "real_x_train = np.concatenate((x_train_real_loan_amount,x_train_real_funded_amount,x_train_real_investor,x_train_real_term,\n",
    "                                x_train_real_rate,x_train_real_home,x_train_real_di,x_train_real_dtwoyears,x_train_real_ismonths,\n",
    "                                x_train_real_oaccount,x_train_real_precord,x_train_real_rbalance,x_train_real_rutilities,\n",
    "                                x_train_real_taccount,x_train_real_medical,x_train_real_pay,\n",
    "                                x_train_real_tcbalance,x_train_real_trcl),axis = 1)"
   ]
  },
  {
   "cell_type": "code",
   "execution_count": 105,
   "metadata": {},
   "outputs": [],
   "source": [
    "real_x_test = np.concatenate((x_test_real_loan_amount,x_test_real_funded_amount,x_test_real_investor,x_test_real_term,\n",
    "x_test_real_rate,x_test_real_home,x_test_real_di,x_test_real_dtwoyears,x_test_real_ismonths,\n",
    "x_test_real_oaccount,x_test_real_precord,x_test_real_rbalance,x_test_real_rutilities,\n",
    "x_test_real_taccount,x_test_real_medical,x_test_real_pay,\n",
    "x_test_real_tcbalance,x_test_real_trcl),axis=1)"
   ]
  },
  {
   "cell_type": "code",
   "execution_count": 106,
   "metadata": {},
   "outputs": [],
   "source": [
    "real_x_cv = np.concatenate((x_cv_real_loan_amount,x_cv_real_funded_amount,x_cv_real_investor,x_cv_real_term,\n",
    "x_cv_real_rate,x_cv_real_home,x_cv_real_di,x_cv_real_dtwoyears,x_cv_real_ismonths,\n",
    "x_cv_real_oaccount,x_cv_real_precord,x_cv_real_rbalance,x_cv_real_rutilities,\n",
    "x_cv_real_taccount,x_cv_real_medical,x_cv_real_pay,x_cv_real_tcbalance,\n",
    "x_cv_real_trcl),axis=1)"
   ]
  },
  {
   "cell_type": "code",
   "execution_count": 107,
   "metadata": {},
   "outputs": [],
   "source": [
    "real_testpred= np.concatenate((test_cv_real_loan_amount,test_cv_real_funded_amount,test_cv_real_investor,test_cv_real_term,\n",
    "test_cv_real_rate,test_cv_real_home,test_cv_real_di,test_cv_real_dtwoyears,test_cv_real_ismonths,\n",
    "test_cv_real_oaccount,test_cv_real_precord,test_cv_real_rbalance,test_cv_real_rutilities,\n",
    "test_cv_real_taccount,test_cv_real_medical,test_cv_real_pay,test_cv_real_tcbalance,\n",
    "test_cv_real_trcl),axis=1)"
   ]
  },
  {
   "cell_type": "code",
   "execution_count": 108,
   "metadata": {},
   "outputs": [],
   "source": [
    "from sklearn.preprocessing import OneHotEncoder\n",
    "ohe = OneHotEncoder()"
   ]
  },
  {
   "cell_type": "code",
   "execution_count": 41,
   "metadata": {},
   "outputs": [],
   "source": [
    "def get_gv_fea_dict(alpha, feature, df):   \n",
    "    value_count = x_train[feature].value_counts()\n",
    "\n",
    "    gv_dict = dict()\n",
    "    for i, denominator in value_count.items():\n",
    "        vec = []\n",
    "        for k in range(1,3):\n",
    "            cls_cnt = x_train.loc[(y_train==k) & (x_train[feature]==i)]\n",
    "            vec.append((cls_cnt.shape[0] + alpha*10)/ (denominator + 20*alpha))\n",
    "        gv_dict[i]=vec\n",
    "    return gv_dict\n",
    "\n",
    "def get_gv_feature(alpha, feature, df):\n",
    "    \n",
    "    gv_dict = get_gv_fea_dict(alpha, feature, df)\n",
    "    value_count = x_train[feature].value_counts()\n",
    "    \n",
    "    \n",
    "    gv_fea = []\n",
    "    for index, row in df.iterrows():\n",
    "        if row[feature] in dict(value_count).keys():\n",
    "            gv_fea.append(gv_dict[row[feature]])\n",
    "        else:\n",
    "            gv_fea.append([1/2,1/2])\n",
    "    return gv_fea"
   ]
  },
  {
   "cell_type": "code",
   "execution_count": 42,
   "metadata": {},
   "outputs": [],
   "source": [
    "#response-coding of the job feature\n",
    "# alpha is used for laplace smoothing\n",
    "alpha = 1\n",
    "# train job feature\n",
    "train_batch_feature_responseCoding = np.array(get_gv_feature(alpha, 'Batch Enrolled', x_train))\n",
    "# test job feature\n",
    "test_batch_feature_responseCoding = np.array(get_gv_feature(alpha, 'Batch Enrolled', x_test))\n",
    "# cross validation job feature\n",
    "cv_batch_feature_responseCoding = np.array(get_gv_feature(alpha, 'Batch Enrolled', x_cv))\n",
    "test_data_batch_response = np.array(get_gv_feature(alpha, 'Batch Enrolled', test_data))"
   ]
  },
  {
   "cell_type": "code",
   "execution_count": 43,
   "metadata": {},
   "outputs": [],
   "source": [
    "alpha = 1\n",
    "# train job feature\n",
    "train_Grade_feature_responseCoding = np.array(get_gv_feature(alpha, 'Grade', x_train))\n",
    "# test job feature\n",
    "test_Grade_feature_responseCoding = np.array(get_gv_feature(alpha, 'Grade', x_test))\n",
    "# cross validation job feature\n",
    "cv_Grade_feature_responseCoding = np.array(get_gv_feature(alpha, 'Grade', x_cv))\n",
    "test_Grade_batch_response = np.array(get_gv_feature(alpha, 'Grade', test_data))"
   ]
  },
  {
   "cell_type": "code",
   "execution_count": 44,
   "metadata": {},
   "outputs": [],
   "source": [
    "alpha = 1\n",
    "# train job feature\n",
    "train_sGrade_feature_responseCoding = np.array(get_gv_feature(alpha, 'Sub Grade', x_train))\n",
    "# test job feature\n",
    "test_sGrade_feature_responseCoding = np.array(get_gv_feature(alpha, 'Sub Grade', x_test))\n",
    "# cross validation job feature\n",
    "cv_sGrade_feature_responseCoding = np.array(get_gv_feature(alpha, 'Sub Grade', x_cv))\n",
    "test_sGrade_batch_response = np.array(get_gv_feature(alpha, 'Sub Grade', test_data))"
   ]
  },
  {
   "cell_type": "code",
   "execution_count": 45,
   "metadata": {},
   "outputs": [],
   "source": [
    "alpha = 1\n",
    "# train job feature\n",
    "train_Employment_feature_responseCoding = np.array(get_gv_feature(alpha, 'Employment Duration', x_train))\n",
    "# test job feature\n",
    "test_Employment_feature_responseCoding = np.array(get_gv_feature(alpha, 'Employment Duration', x_test))\n",
    "# cross validation job feature\n",
    "cv_Employment_feature_responseCoding = np.array(get_gv_feature(alpha, 'Employment Duration', x_cv))\n",
    "test_Employment_batch_response = np.array(get_gv_feature(alpha, 'Employment Duration', test_data))"
   ]
  },
  {
   "cell_type": "code",
   "execution_count": 46,
   "metadata": {},
   "outputs": [],
   "source": [
    "alpha = 1\n",
    "# train job feature\n",
    "train_VStatus_feature_responseCoding = np.array(get_gv_feature(alpha, 'Verification Status', x_train))\n",
    "# test job feature\n",
    "test_VStatus_feature_responseCoding = np.array(get_gv_feature(alpha, 'Verification Status', x_test))\n",
    "# cross validation job feature\n",
    "cv_VStatus_feature_responseCoding = np.array(get_gv_feature(alpha, 'Verification Status', x_cv))\n",
    "test_VStatus_batch_response = np.array(get_gv_feature(alpha, 'Verification Status', test_data))"
   ]
  },
  {
   "cell_type": "code",
   "execution_count": 47,
   "metadata": {},
   "outputs": [],
   "source": [
    "alpha = 1\n",
    "# train job feature\n",
    "train_title_feature_responseCoding = np.array(get_gv_feature(alpha, 'Loan Title', x_train))\n",
    "# test job feature\n",
    "test_title_feature_responseCoding = np.array(get_gv_feature(alpha, 'Loan Title', x_test))\n",
    "# cross validation job feature\n",
    "cv_title_feature_responseCoding = np.array(get_gv_feature(alpha, 'Loan Title', x_cv))\n",
    "test_title_batch_response = np.array(get_gv_feature(alpha, 'Loan Title', test_data))"
   ]
  },
  {
   "cell_type": "code",
   "execution_count": 48,
   "metadata": {},
   "outputs": [],
   "source": [
    "alpha = 1\n",
    "# train job feature\n",
    "train_ilstatus_feature_responseCoding = np.array(get_gv_feature(alpha, 'Initial List Status', x_train))\n",
    "# test job feature\n",
    "test_ilstatus_feature_responseCoding = np.array(get_gv_feature(alpha, 'Initial List Status', x_test))\n",
    "# cross validation job feature\n",
    "cv_ilstatus_feature_responseCoding = np.array(get_gv_feature(alpha, 'Initial List Status', x_cv))\n",
    "test_ilstatus_batch_response = np.array(get_gv_feature(alpha, 'Initial List Status', test_data))"
   ]
  },
  {
   "cell_type": "code",
   "execution_count": 49,
   "metadata": {},
   "outputs": [],
   "source": [
    "alpha = 1\n",
    "# train job feature\n",
    "train_atype_feature_responseCoding = np.array(get_gv_feature(alpha, 'Application Type', x_train))\n",
    "# test job feature\n",
    "test_atype_feature_responseCoding = np.array(get_gv_feature(alpha, 'Application Type', x_test))\n",
    "# cross validation job feature\n",
    "cv_atype_feature_responseCoding = np.array(get_gv_feature(alpha, 'Application Type', x_cv))\n",
    "test_atype_batch_response = np.array(get_gv_feature(alpha, 'Application Type', test_data))"
   ]
  },
  {
   "cell_type": "code",
   "execution_count": 50,
   "metadata": {},
   "outputs": [
    {
     "data": {
      "text/plain": [
       "(28913, 16)"
      ]
     },
     "execution_count": 50,
     "metadata": {},
     "output_type": "execute_result"
    }
   ],
   "source": [
    "cat_response_x_train = np.concatenate((train_batch_feature_responseCoding,train_Grade_feature_responseCoding,train_sGrade_feature_responseCoding,\n",
    "train_Employment_feature_responseCoding,train_VStatus_feature_responseCoding,\n",
    "train_title_feature_responseCoding,train_ilstatus_feature_responseCoding,train_atype_feature_responseCoding),axis=1)\n",
    "\n",
    "cat_response_x_test = np.concatenate((test_batch_feature_responseCoding,test_Grade_feature_responseCoding,test_sGrade_feature_responseCoding,\n",
    "test_Employment_feature_responseCoding,test_VStatus_feature_responseCoding,\n",
    "test_title_feature_responseCoding,test_ilstatus_feature_responseCoding,test_atype_feature_responseCoding),axis=1)\n",
    "\n",
    "cat_response_x_cv = np.concatenate((cv_batch_feature_responseCoding,cv_Grade_feature_responseCoding,cv_sGrade_feature_responseCoding,\n",
    "cv_Employment_feature_responseCoding,cv_VStatus_feature_responseCoding,\n",
    "cv_title_feature_responseCoding,cv_ilstatus_feature_responseCoding,cv_atype_feature_responseCoding),axis=1)\n",
    "\n",
    "cat_response_x_textcsv = np.concatenate((test_data_batch_response,test_Grade_batch_response,test_sGrade_batch_response,test_Employment_batch_response,\n",
    "test_VStatus_batch_response,test_title_batch_response,test_ilstatus_batch_response,\n",
    "test_atype_batch_response),axis=1)\n",
    "\n",
    "cat_response_x_textcsv.shape"
   ]
  },
  {
   "cell_type": "code",
   "execution_count": 51,
   "metadata": {},
   "outputs": [],
   "source": [
    "rc_x_train = np.concatenate((cat_response_x_train,real_x_train),axis = 1)\n",
    "rc_x_test = np.concatenate((cat_response_x_test,real_x_test),axis = 1)\n",
    "rc_x_cv = np.concatenate((cat_response_x_cv,real_x_cv),axis = 1)\n",
    "rc_x_testcsv = np.concatenate((cat_response_x_textcsv,real_testpred),axis = 1)"
   ]
  },
  {
   "cell_type": "markdown",
   "metadata": {},
   "source": [
    "## Applying Random Forest"
   ]
  },
  {
   "cell_type": "code",
   "execution_count": 52,
   "metadata": {},
   "outputs": [
    {
     "name": "stdout",
     "output_type": "stream",
     "text": [
      "optimal n_estimators 120\n",
      "optimal max_depth 5\n"
     ]
    }
   ],
   "source": [
    "from sklearn.ensemble import RandomForestClassifier\n",
    "from sklearn.metrics import roc_auc_score\n",
    "from sklearn.model_selection import GridSearchCV\n",
    "\n",
    "dept = [1, 5, 10, 50, 100, 500, 1000]\n",
    "n_estimators =  [20, 40, 60, 80, 100, 120]\n",
    "\n",
    "\n",
    "param_grid={'n_estimators':n_estimators , 'max_depth':dept}\n",
    "clf = RandomForestClassifier()\n",
    "model = GridSearchCV(clf,param_grid,scoring='roc_auc',n_jobs=-1,cv=3)\n",
    "model.fit(rc_x_train,y_train)\n",
    "print(\"optimal n_estimators\",model.best_estimator_.n_estimators)\n",
    "print(\"optimal max_depth\",model.best_estimator_.max_depth)"
   ]
  },
  {
   "cell_type": "code",
   "execution_count": 53,
   "metadata": {},
   "outputs": [
    {
     "data": {
      "image/png": "[encoded data removed]",
      "text/plain": [
       "<Figure size 432x288 with 2 Axes>"
      ]
     },
     "metadata": {
      "needs_background": "light"
     },
     "output_type": "display_data"
    },
    {
     "data": {
      "image/png": "[encoded data removed]",
      "text/plain": [
       "<Figure size 432x288 with 2 Axes>"
      ]
     },
     "metadata": {
      "needs_background": "light"
     },
     "output_type": "display_data"
    }
   ],
   "source": [
    "import seaborn as sns\n",
    "X = []\n",
    "Y = []\n",
    "cv_auc = []\n",
    "train_auc = []\n",
    "for n in n_estimators:\n",
    "    for d in dept:\n",
    "        clf = RandomForestClassifier(max_depth = d,n_estimators = n)\n",
    "        clf.fit(rc_x_train,y_train)\n",
    "        pred_cv = clf.predict_proba(rc_x_cv)[:,1]\n",
    "        pred_train = clf.predict_proba(rc_x_train)[:,1]\n",
    "        X.append(n)\n",
    "        Y.append(d)\n",
    "        cv_auc.append(roc_auc_score(y_cv,pred_cv))\n",
    "        train_auc.append(roc_auc_score(y_train,pred_train))\n",
    "        \n",
    "#Heatmap for cross validation data        \n",
    "data = pd.DataFrame({'n_estimators': X, 'max_depth': Y, 'AUC': cv_auc})\n",
    "data_pivoted = data.pivot(\"n_estimators\", \"max_depth\", \"AUC\")\n",
    "ax = sns.heatmap(data_pivoted,annot=True)\n",
    "plt.title('Heatmap for cross validation data')\n",
    "plt.show()\n",
    "\n",
    "#Heatmap for training data\n",
    "data = pd.DataFrame({'n_estimators': X, 'max_depth': Y, 'AUC': train_auc})\n",
    "data_pivoted = data.pivot(\"n_estimators\", \"max_depth\", \"AUC\")\n",
    "ax = sns.heatmap(data_pivoted,annot=True)\n",
    "plt.title('Heatmap for training data')\n",
    "plt.show()"
   ]
  },
  {
   "cell_type": "code",
   "execution_count": 55,
   "metadata": {},
   "outputs": [
    {
     "data": {
      "image/png": "[encoded data removed]",
      "text/plain": [
       "<Figure size 432x288 with 1 Axes>"
      ]
     },
     "metadata": {
      "needs_background": "light"
     },
     "output_type": "display_data"
    },
    {
     "name": "stdout",
     "output_type": "stream",
     "text": [
      "AUC on Test data is 0.5177756439544413\n",
      "AUC on Train data is 0.6631032505231546\n",
      "---------------------------\n"
     ]
    },
    {
     "data": {
      "image/png": "[encoded data removed]",
      "text/plain": [
       "<Figure size 432x288 with 2 Axes>"
      ]
     },
     "metadata": {
      "needs_background": "light"
     },
     "output_type": "display_data"
    }
   ],
   "source": [
    "#training our model for max_depth=1000,n_estimators = 120\n",
    "from sklearn import metrics\n",
    "\n",
    "clf = RandomForestClassifier(max_depth = 5,n_estimators = 120)\n",
    "clf.fit(rc_x_train,y_train)\n",
    "pred_test =clf.predict_proba(rc_x_test)[:,1]\n",
    "fpr1, tpr1, thresholds1 = metrics.roc_curve(y_test, pred_test)\n",
    "pred_train = clf.predict_proba(rc_x_train)[:,1]\n",
    "fpr2,tpr2,thresholds2=metrics.roc_curve(y_train,pred_train)\n",
    "\n",
    "#ROC curve\n",
    "x = plt.subplot( )\n",
    "x.plot(fpr1, tpr1, label='Test ROC ,auc='+str(roc_auc_score(y_test,pred_test)))\n",
    "x.plot(fpr2, tpr2, label='Train ROC ,auc='+str(roc_auc_score(y_train,pred_train)))\n",
    "plt.title('ROC')\n",
    "plt.xlabel('FPR')\n",
    "plt.ylabel('TPR')\n",
    "x.legend()\n",
    "plt.show()\n",
    "\n",
    "print(\"AUC on Test data is \" +str(roc_auc_score(y_test,pred_test)))\n",
    "print(\"AUC on Train data is \" +str(roc_auc_score(y_train,pred_train)))\n",
    "\n",
    "print(\"---------------------------\")\n",
    "\n",
    "# Code for drawing seaborn heatmaps\n",
    "class_names = ['negative','positive']\n",
    "df_heatmap = pd.DataFrame(confusion_matrix(y_test, pred_test.round()), index=class_names, columns=class_names )\n",
    "fig = plt.figure( )\n",
    "heatmap = sns.heatmap(df_heatmap, annot=True, fmt=\"d\")"
   ]
  },
  {
   "cell_type": "code",
   "execution_count": 56,
   "metadata": {},
   "outputs": [],
   "source": [
    "new_y_pred=clf.predict(rc_x_testcsv)\n",
    "new_y_pred_1 = pd.DataFrame(new_y_pred)\n",
    "new_y_pred_final = new_y_pred_1.rename(columns={0:\"Loan Status\"})\n",
    "new_y_pred_final.to_csv('ohe_lessfeature_randomforest.csv', index=False)"
   ]
  },
  {
   "cell_type": "markdown",
   "metadata": {},
   "source": [
    "# one hot encoding"
   ]
  },
  {
   "cell_type": "code",
   "execution_count": 109,
   "metadata": {},
   "outputs": [],
   "source": [
    "ohe.fit(x_train['Batch Enrolled'].values.reshape(-1,1))\n",
    "batch_train = ohe.transform(x_train['Batch Enrolled'].values.reshape(-1,1))\n",
    "batch_test = ohe.transform(x_test['Batch Enrolled'].values.reshape(-1,1))\n",
    "batch_cv = ohe.transform(x_cv['Batch Enrolled'].values.reshape(-1,1))\n",
    "\n",
    "ohe.fit(x_train['Grade'].values.reshape(-1,1))\n",
    "grade_train = ohe.transform(x_train['Grade'].values.reshape(-1,1))\n",
    "grade_test = ohe.transform(x_test['Grade'].values.reshape(-1,1))\n",
    "grade_cv = ohe.transform(x_cv['Grade'].values.reshape(-1,1))\n",
    "\n",
    "ohe.fit(x_train['Sub Grade'].values.reshape(-1,1))\n",
    "subgrade_train = ohe.transform(x_train['Sub Grade'].values.reshape(-1,1))\n",
    "subgrade_test = ohe.transform(x_test['Sub Grade'].values.reshape(-1,1))\n",
    "subgrade_cv = ohe.transform(x_cv['Sub Grade'].values.reshape(-1,1))\n",
    "\n",
    "ohe.fit(x_train['Employment Duration'].values.reshape(-1,1))\n",
    "employment_train = ohe.transform(x_train['Employment Duration'].values.reshape(-1,1))\n",
    "employment_test = ohe.transform(x_test['Employment Duration'].values.reshape(-1,1))\n",
    "employment_cv = ohe.transform(x_cv['Employment Duration'].values.reshape(-1,1))\n",
    "\n",
    "ohe.fit(x_train['Verification Status'].values.reshape(-1,1))\n",
    "vstatus_train = ohe.transform(x_train['Verification Status'].values.reshape(-1,1))\n",
    "vstatus_test = ohe.transform(x_test['Verification Status'].values.reshape(-1,1))\n",
    "vstatus_cv = ohe.transform(x_cv['Verification Status'].values.reshape(-1,1))\n",
    "\n",
    "\n",
    "ohe.fit(x_train['Loan Title'].values.reshape(-1,1))\n",
    "title_train = ohe.transform(x_train['Loan Title'].values.reshape(-1,1))\n",
    "title_test = ohe.transform(x_test['Loan Title'].values.reshape(-1,1))\n",
    "title_cv = ohe.transform(x_cv['Loan Title'].values.reshape(-1,1))\n",
    "\n",
    "ohe.fit(x_train['Initial List Status'].values.reshape(-1,1))\n",
    "ilstatus_train = ohe.transform(x_train['Initial List Status'].values.reshape(-1,1))\n",
    "ilstatus_test = ohe.transform(x_test['Initial List Status'].values.reshape(-1,1))\n",
    "ilstatus_cv = ohe.transform(x_cv['Initial List Status'].values.reshape(-1,1))\n",
    "\n",
    "ohe.fit(x_train['Application Type'].values.reshape(-1,1))\n",
    "type_train = ohe.transform(x_train['Application Type'].values.reshape(-1,1))\n",
    "type_test = ohe.transform(x_test['Application Type'].values.reshape(-1,1))\n",
    "type_cv = ohe.transform(x_cv['Application Type'].values.reshape(-1,1))\n",
    "\n",
    "from scipy.sparse import hstack\n",
    "\n",
    "cat_x_train = hstack([batch_train,grade_train,subgrade_train,employment_train,vstatus_train,title_train,ilstatus_train,type_train]).tocsr()\n",
    "cat_x_test = hstack([batch_test,grade_test,subgrade_test,employment_test,vstatus_test,title_test,ilstatus_test,type_test]).tocsr()\n",
    "cat_x_cv = hstack([batch_cv,grade_cv,subgrade_cv,employment_cv,vstatus_cv,title_cv,ilstatus_cv,type_cv]).tocsr()\n",
    "                     \n",
    "                     \n",
    "\n",
    "ohe_x_train = hstack([cat_x_train,real_x_train])\n",
    "ohe_x_test = hstack([cat_x_test,real_x_test])\n",
    "ohe_x_cv = hstack([cat_x_cv,real_x_cv])"
   ]
  },
  {
   "cell_type": "code",
   "execution_count": 116,
   "metadata": {},
   "outputs": [
    {
     "data": {
      "text/plain": [
       "[array(['f', 'w'], dtype=object)]"
      ]
     },
     "execution_count": 116,
     "metadata": {},
     "output_type": "execute_result"
    }
   ],
   "source": [
    "ohe.fit(x_train['Initial List Status'].values.reshape(-1,1))\n",
    "ohe.categories_"
   ]
  },
  {
   "cell_type": "code",
   "execution_count": 119,
   "metadata": {},
   "outputs": [
    {
     "data": {
      "text/plain": [
       "(33056, 124)"
      ]
     },
     "execution_count": 119,
     "metadata": {},
     "output_type": "execute_result"
    }
   ],
   "source": [
    "cat_x_train.shape"
   ]
  },
  {
   "cell_type": "code",
   "execution_count": 110,
   "metadata": {},
   "outputs": [
    {
     "data": {
      "text/plain": [
       "(33056, 142)"
      ]
     },
     "execution_count": 110,
     "metadata": {},
     "output_type": "execute_result"
    }
   ],
   "source": [
    "ohe_x_train.shape"
   ]
  },
  {
   "cell_type": "code",
   "execution_count": 111,
   "metadata": {},
   "outputs": [
    {
     "name": "stdout",
     "output_type": "stream",
     "text": [
      "optimal n_estimators 80\n",
      "optimal max_depth 1\n"
     ]
    }
   ],
   "source": [
    "from sklearn.ensemble import RandomForestClassifier\n",
    "from sklearn.metrics import roc_auc_score\n",
    "from sklearn.model_selection import GridSearchCV\n",
    "\n",
    "dept = [1, 5, 10, 50, 100, 500, 1000]\n",
    "n_estimators =  [20, 40, 60, 80, 100, 120]\n",
    "\n",
    "\n",
    "param_grid={'n_estimators':n_estimators , 'max_depth':dept}\n",
    "clf = RandomForestClassifier()\n",
    "model = GridSearchCV(clf,param_grid,scoring='roc_auc',n_jobs=-1,cv=3)\n",
    "model.fit(ohe_x_train,y_train)\n",
    "print(\"optimal n_estimators\",model.best_estimator_.n_estimators)\n",
    "print(\"optimal max_depth\",model.best_estimator_.max_depth)"
   ]
  },
  {
   "cell_type": "code",
   "execution_count": 112,
   "metadata": {},
   "outputs": [
    {
     "data": {
      "image/png": "[encoded data removed]",
      "text/plain": [
       "<Figure size 432x288 with 2 Axes>"
      ]
     },
     "metadata": {
      "needs_background": "light"
     },
     "output_type": "display_data"
    },
    {
     "data": {
      "image/png": "[encoded data removed]",
      "text/plain": [
       "<Figure size 432x288 with 2 Axes>"
      ]
     },
     "metadata": {
      "needs_background": "light"
     },
     "output_type": "display_data"
    }
   ],
   "source": [
    "import seaborn as sns\n",
    "X = []\n",
    "Y = []\n",
    "cv_auc = []\n",
    "train_auc = []\n",
    "for n in n_estimators:\n",
    "    for d in dept:\n",
    "        clf = RandomForestClassifier(max_depth = d,n_estimators = n)\n",
    "        clf.fit(ohe_x_train,y_train)\n",
    "        pred_cv = clf.predict_proba(ohe_x_cv)[:,1]\n",
    "        pred_train = clf.predict_proba(ohe_x_train)[:,1]\n",
    "        X.append(n)\n",
    "        Y.append(d)\n",
    "        cv_auc.append(roc_auc_score(y_cv,pred_cv))\n",
    "        train_auc.append(roc_auc_score(y_train,pred_train))\n",
    "        \n",
    "#Heatmap for cross validation data        \n",
    "data1 = pd.DataFrame({'n_estimators': X, 'max_depth': Y, 'AUC': cv_auc})\n",
    "data_pivoted = data1.pivot(\"n_estimators\", \"max_depth\", \"AUC\")\n",
    "ax = sns.heatmap(data_pivoted,annot=True)\n",
    "plt.title('Heatmap for cross validation data')\n",
    "plt.show()\n",
    "\n",
    "#Heatmap for training data\n",
    "data1 = pd.DataFrame({'n_estimators': X, 'max_depth': Y, 'AUC': train_auc})\n",
    "data_pivoted = data1.pivot(\"n_estimators\", \"max_depth\", \"AUC\")\n",
    "ax = sns.heatmap(data_pivoted,annot=True)\n",
    "plt.title('Heatmap for training data')\n",
    "plt.show()"
   ]
  },
  {
   "cell_type": "code",
   "execution_count": null,
   "metadata": {},
   "outputs": [],
   "source": []
  },
  {
   "cell_type": "code",
   "execution_count": null,
   "metadata": {},
   "outputs": [],
   "source": []
  }
 ],
 "metadata": {
  "kernelspec": {
   "display_name": "Python 3",
   "language": "python",
   "name": "python3"
  },
  "language_info": {
   "codemirror_mode": {
    "name": "ipython",
    "version": 3
   },
   "file_extension": ".py",
   "mimetype": "text/x-python",
   "name": "python",
   "nbconvert_exporter": "python",
   "pygments_lexer": "ipython3",
   "version": "3.7.6"
  }
 },
 "nbformat": 4,
 "nbformat_minor": 4
}
